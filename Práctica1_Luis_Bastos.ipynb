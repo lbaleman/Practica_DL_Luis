{
  "nbformat": 4,
  "nbformat_minor": 0,
  "metadata": {
    "kernelspec": {
      "display_name": "Python 3",
      "language": "python",
      "name": "python3"
    },
    "language_info": {
      "codemirror_mode": {
        "name": "ipython",
        "version": 3
      },
      "file_extension": ".py",
      "mimetype": "text/x-python",
      "name": "python",
      "nbconvert_exporter": "python",
      "pygments_lexer": "ipython3",
      "version": "3.7.4"
    },
    "colab": {
      "name": "Práctica1_Luis_Bastos.ipynb",
      "provenance": [],
      "collapsed_sections": [
        "C1ASC287ZNOo",
        "PmKTors9tsSL",
        "mpU5oMGOr10Z"
      ]
    }
  },
  "cells": [
    {
      "cell_type": "markdown",
      "metadata": {
        "id": "UWorfWFQZNNK",
        "colab_type": "text"
      },
      "source": [
        "Práctica Luis Bastos"
      ]
    },
    {
      "cell_type": "code",
      "metadata": {
        "id": "TVEUm6g9ZNNP",
        "colab_type": "code",
        "colab": {
          "base_uri": "https://localhost:8080/",
          "height": 228
        },
        "outputId": "c51fd225-3ccc-4e33-e326-9dce65449a1f"
      },
      "source": [
        "import numpy as np\n",
        "import pandas as pd\n",
        "\n",
        "# nos descargamos el dataset de OpenDataSoft\n",
        "!wget -O \"airbnb-listings.csv\" \"https://public.opendatasoft.com/explore/dataset/airbnb-listings/download/?format=csv&disjunctive.host_verifications=true&disjunctive.amenities=true&disjunctive.features=true&refine.country=Spain&q=Madrid&timezone=Europe/London&use_labels_for_header=true&csv_separator=%3B\""
      ],
      "execution_count": null,
      "outputs": [
        {
          "output_type": "stream",
          "text": [
            "--2020-07-19 18:41:34--  https://public.opendatasoft.com/explore/dataset/airbnb-listings/download/?format=csv&disjunctive.host_verifications=true&disjunctive.amenities=true&disjunctive.features=true&refine.country=Spain&q=Madrid&timezone=Europe/London&use_labels_for_header=true&csv_separator=%3B\n",
            "Resolving public.opendatasoft.com (public.opendatasoft.com)... 34.249.199.226, 34.248.20.69\n",
            "Connecting to public.opendatasoft.com (public.opendatasoft.com)|34.249.199.226|:443... connected.\n",
            "HTTP request sent, awaiting response... 200 OK\n",
            "Length: unspecified [application/csv]\n",
            "Saving to: ‘airbnb-listings.csv’\n",
            "\n",
            "airbnb-listings.csv     [          <=>       ]  54.19M  2.84MB/s    in 34s     \n",
            "\n",
            "2020-07-19 18:42:12 (1.59 MB/s) - ‘airbnb-listings.csv’ saved [56826824]\n",
            "\n"
          ],
          "name": "stdout"
        }
      ]
    },
    {
      "cell_type": "code",
      "metadata": {
        "id": "NE-EW5RpZ4Ls",
        "colab_type": "code",
        "colab": {
          "base_uri": "https://localhost:8080/",
          "height": 139
        },
        "outputId": "277e0d08-5870-48c9-f52f-ad6b6d552f3b"
      },
      "source": [
        "!ls -lah"
      ],
      "execution_count": null,
      "outputs": [
        {
          "output_type": "stream",
          "text": [
            "total 55M\n",
            "drwxr-xr-x 1 root root 4.0K Jul 19 18:41 .\n",
            "drwxr-xr-x 1 root root 4.0K Jul 19 18:36 ..\n",
            "-rw-r--r-- 1 root root  55M Jul 19 18:42 airbnb-listings.csv\n",
            "drwxr-xr-x 1 root root 4.0K Jul 15 16:11 .config\n",
            "drwx------ 4 root root 4.0K Jul 19 18:41 drive\n",
            "drwxr-xr-x 1 root root 4.0K Jul 10 16:29 sample_data\n"
          ],
          "name": "stdout"
        }
      ]
    },
    {
      "cell_type": "code",
      "metadata": {
        "id": "c42CsM7WZ9V9",
        "colab_type": "code",
        "colab": {
          "base_uri": "https://localhost:8080/",
          "height": 893
        },
        "outputId": "3b6fde54-51c3-4c69-9aef-b1d40a4f0898"
      },
      "source": [
        "# Leemos el dataset con pandas y mostramos los 5 primeros registros\n",
        "data = pd.read_csv('airbnb-listings.csv', sep = ';')\n",
        "data.head(5)"
      ],
      "execution_count": null,
      "outputs": [
        {
          "output_type": "stream",
          "text": [
            "/usr/local/lib/python3.6/dist-packages/IPython/core/interactiveshell.py:2718: DtypeWarning: Columns (40) have mixed types.Specify dtype option on import or set low_memory=False.\n",
            "  interactivity=interactivity, compiler=compiler, result=result)\n"
          ],
          "name": "stderr"
        },
        {
          "output_type": "execute_result",
          "data": {
            "text/html": [
              "<div>\n",
              "<style scoped>\n",
              "    .dataframe tbody tr th:only-of-type {\n",
              "        vertical-align: middle;\n",
              "    }\n",
              "\n",
              "    .dataframe tbody tr th {\n",
              "        vertical-align: top;\n",
              "    }\n",
              "\n",
              "    .dataframe thead th {\n",
              "        text-align: right;\n",
              "    }\n",
              "</style>\n",
              "<table border=\"1\" class=\"dataframe\">\n",
              "  <thead>\n",
              "    <tr style=\"text-align: right;\">\n",
              "      <th></th>\n",
              "      <th>ID</th>\n",
              "      <th>Listing Url</th>\n",
              "      <th>Scrape ID</th>\n",
              "      <th>Last Scraped</th>\n",
              "      <th>Name</th>\n",
              "      <th>Summary</th>\n",
              "      <th>Space</th>\n",
              "      <th>Description</th>\n",
              "      <th>Experiences Offered</th>\n",
              "      <th>Neighborhood Overview</th>\n",
              "      <th>Notes</th>\n",
              "      <th>Transit</th>\n",
              "      <th>Access</th>\n",
              "      <th>Interaction</th>\n",
              "      <th>House Rules</th>\n",
              "      <th>Thumbnail Url</th>\n",
              "      <th>Medium Url</th>\n",
              "      <th>Picture Url</th>\n",
              "      <th>XL Picture Url</th>\n",
              "      <th>Host ID</th>\n",
              "      <th>Host URL</th>\n",
              "      <th>Host Name</th>\n",
              "      <th>Host Since</th>\n",
              "      <th>Host Location</th>\n",
              "      <th>Host About</th>\n",
              "      <th>Host Response Time</th>\n",
              "      <th>Host Response Rate</th>\n",
              "      <th>Host Acceptance Rate</th>\n",
              "      <th>Host Thumbnail Url</th>\n",
              "      <th>Host Picture Url</th>\n",
              "      <th>Host Neighbourhood</th>\n",
              "      <th>Host Listings Count</th>\n",
              "      <th>Host Total Listings Count</th>\n",
              "      <th>Host Verifications</th>\n",
              "      <th>Street</th>\n",
              "      <th>Neighbourhood</th>\n",
              "      <th>Neighbourhood Cleansed</th>\n",
              "      <th>Neighbourhood Group Cleansed</th>\n",
              "      <th>City</th>\n",
              "      <th>State</th>\n",
              "      <th>...</th>\n",
              "      <th>Accommodates</th>\n",
              "      <th>Bathrooms</th>\n",
              "      <th>Bedrooms</th>\n",
              "      <th>Beds</th>\n",
              "      <th>Bed Type</th>\n",
              "      <th>Amenities</th>\n",
              "      <th>Square Feet</th>\n",
              "      <th>Price</th>\n",
              "      <th>Weekly Price</th>\n",
              "      <th>Monthly Price</th>\n",
              "      <th>Security Deposit</th>\n",
              "      <th>Cleaning Fee</th>\n",
              "      <th>Guests Included</th>\n",
              "      <th>Extra People</th>\n",
              "      <th>Minimum Nights</th>\n",
              "      <th>Maximum Nights</th>\n",
              "      <th>Calendar Updated</th>\n",
              "      <th>Has Availability</th>\n",
              "      <th>Availability 30</th>\n",
              "      <th>Availability 60</th>\n",
              "      <th>Availability 90</th>\n",
              "      <th>Availability 365</th>\n",
              "      <th>Calendar last Scraped</th>\n",
              "      <th>Number of Reviews</th>\n",
              "      <th>First Review</th>\n",
              "      <th>Last Review</th>\n",
              "      <th>Review Scores Rating</th>\n",
              "      <th>Review Scores Accuracy</th>\n",
              "      <th>Review Scores Cleanliness</th>\n",
              "      <th>Review Scores Checkin</th>\n",
              "      <th>Review Scores Communication</th>\n",
              "      <th>Review Scores Location</th>\n",
              "      <th>Review Scores Value</th>\n",
              "      <th>License</th>\n",
              "      <th>Jurisdiction Names</th>\n",
              "      <th>Cancellation Policy</th>\n",
              "      <th>Calculated host listings count</th>\n",
              "      <th>Reviews per Month</th>\n",
              "      <th>Geolocation</th>\n",
              "      <th>Features</th>\n",
              "    </tr>\n",
              "  </thead>\n",
              "  <tbody>\n",
              "    <tr>\n",
              "      <th>0</th>\n",
              "      <td>12768616</td>\n",
              "      <td>https://www.airbnb.com/rooms/12768616</td>\n",
              "      <td>20170407214050</td>\n",
              "      <td>2017-04-08</td>\n",
              "      <td>Ramblas Studio D</td>\n",
              "      <td>Unique apartment in vibrant neighborhoods, car...</td>\n",
              "      <td>Centrally located in the atmospheric Gothic Qu...</td>\n",
              "      <td>Unique apartment in vibrant neighborhoods, car...</td>\n",
              "      <td>none</td>\n",
              "      <td>Located on the edge of the Gothic Quarter of B...</td>\n",
              "      <td>NaN</td>\n",
              "      <td>The nearest station is Place de Catalunya a fe...</td>\n",
              "      <td>NaN</td>\n",
              "      <td>NaN</td>\n",
              "      <td>No pets or smoking allowed.</td>\n",
              "      <td>https://a0.muscache.com/im/pictures/cffe393a-0...</td>\n",
              "      <td>https://a0.muscache.com/im/pictures/cffe393a-0...</td>\n",
              "      <td>https://public.opendatasoft.com/api/v2/catalog...</td>\n",
              "      <td>https://a0.muscache.com/im/pictures/cffe393a-0...</td>\n",
              "      <td>54310958</td>\n",
              "      <td>https://www.airbnb.com/users/show/54310958</td>\n",
              "      <td>Javier</td>\n",
              "      <td>2016-01-12</td>\n",
              "      <td>Madrid, Community of Madrid, Spain</td>\n",
              "      <td>Be Mate offers the exclusive City Mate service...</td>\n",
              "      <td>within an hour</td>\n",
              "      <td>99.0</td>\n",
              "      <td>NaN</td>\n",
              "      <td>https://a0.muscache.com/im/pictures/8f3ec0f2-1...</td>\n",
              "      <td>https://a0.muscache.com/im/pictures/8f3ec0f2-1...</td>\n",
              "      <td>L'Antiga Esquerra de l'Eixample</td>\n",
              "      <td>207.0</td>\n",
              "      <td>207.0</td>\n",
              "      <td>email,phone,reviews,jumio</td>\n",
              "      <td>El Gòtic, Barcelona, Catalunya 08002, Spain</td>\n",
              "      <td>El Gòtic</td>\n",
              "      <td>el Barri Gòtic</td>\n",
              "      <td>Ciutat Vella</td>\n",
              "      <td>Barcelona</td>\n",
              "      <td>Catalunya</td>\n",
              "      <td>...</td>\n",
              "      <td>2</td>\n",
              "      <td>1.0</td>\n",
              "      <td>0.0</td>\n",
              "      <td>1.0</td>\n",
              "      <td>Real Bed</td>\n",
              "      <td>TV,Wireless Internet,Air conditioning,Kitchen,...</td>\n",
              "      <td>NaN</td>\n",
              "      <td>349.0</td>\n",
              "      <td>NaN</td>\n",
              "      <td>NaN</td>\n",
              "      <td>NaN</td>\n",
              "      <td>NaN</td>\n",
              "      <td>1</td>\n",
              "      <td>0</td>\n",
              "      <td>2</td>\n",
              "      <td>1125</td>\n",
              "      <td>a week ago</td>\n",
              "      <td>NaN</td>\n",
              "      <td>2</td>\n",
              "      <td>2</td>\n",
              "      <td>2</td>\n",
              "      <td>2</td>\n",
              "      <td>2017-04-08</td>\n",
              "      <td>0</td>\n",
              "      <td>NaN</td>\n",
              "      <td>NaN</td>\n",
              "      <td>NaN</td>\n",
              "      <td>NaN</td>\n",
              "      <td>NaN</td>\n",
              "      <td>NaN</td>\n",
              "      <td>NaN</td>\n",
              "      <td>NaN</td>\n",
              "      <td>NaN</td>\n",
              "      <td>NaN</td>\n",
              "      <td>NaN</td>\n",
              "      <td>strict</td>\n",
              "      <td>92</td>\n",
              "      <td>NaN</td>\n",
              "      <td>41.3838872822,2.17180232785</td>\n",
              "      <td>Host Has Profile Pic,Host Identity Verified,Is...</td>\n",
              "    </tr>\n",
              "    <tr>\n",
              "      <th>1</th>\n",
              "      <td>1629146</td>\n",
              "      <td>https://www.airbnb.com/rooms/1629146</td>\n",
              "      <td>20170407214050</td>\n",
              "      <td>2017-04-08</td>\n",
              "      <td>Design, art &amp; vintage / old city</td>\n",
              "      <td>If you're looking for a cool, spacious, light,...</td>\n",
              "      <td>The apartment is very comfortable and very tas...</td>\n",
              "      <td>If you're looking for a cool, spacious, light,...</td>\n",
              "      <td>none</td>\n",
              "      <td>• A major advantage of this apartment is its l...</td>\n",
              "      <td>• Possibility of offering Premium Services suc...</td>\n",
              "      <td>•  Nearest metro station is 1 min walk (Sant A...</td>\n",
              "      <td>Here's a list of of things we provide to our g...</td>\n",
              "      <td>==============================================...</td>\n",
              "      <td>* NO parties are allowed  * NO noise on the st...</td>\n",
              "      <td>https://a0.muscache.com/im/pictures/ea919e56-a...</td>\n",
              "      <td>https://a0.muscache.com/im/pictures/ea919e56-a...</td>\n",
              "      <td>https://public.opendatasoft.com/api/v2/catalog...</td>\n",
              "      <td>https://a0.muscache.com/im/pictures/ea919e56-a...</td>\n",
              "      <td>8658841</td>\n",
              "      <td>https://www.airbnb.com/users/show/8658841</td>\n",
              "      <td>Olga &amp; Co.</td>\n",
              "      <td>2013-09-05</td>\n",
              "      <td>Barcelona, Catalonia, Spain</td>\n",
              "      <td>World traveller, currently living and working ...</td>\n",
              "      <td>within an hour</td>\n",
              "      <td>100.0</td>\n",
              "      <td>NaN</td>\n",
              "      <td>https://a0.muscache.com/im/pictures/d67fdad1-e...</td>\n",
              "      <td>https://a0.muscache.com/im/pictures/d67fdad1-e...</td>\n",
              "      <td>El Raval</td>\n",
              "      <td>2.0</td>\n",
              "      <td>2.0</td>\n",
              "      <td>email,phone,reviews,jumio</td>\n",
              "      <td>El Raval, Barcelona, Catalonia 08001, Spain</td>\n",
              "      <td>El Raval</td>\n",
              "      <td>el Raval</td>\n",
              "      <td>Ciutat Vella</td>\n",
              "      <td>Barcelona</td>\n",
              "      <td>Catalonia</td>\n",
              "      <td>...</td>\n",
              "      <td>6</td>\n",
              "      <td>1.0</td>\n",
              "      <td>2.0</td>\n",
              "      <td>3.0</td>\n",
              "      <td>Real Bed</td>\n",
              "      <td>TV,Internet,Wireless Internet,Air conditioning...</td>\n",
              "      <td>NaN</td>\n",
              "      <td>165.0</td>\n",
              "      <td>NaN</td>\n",
              "      <td>NaN</td>\n",
              "      <td>150.0</td>\n",
              "      <td>60.0</td>\n",
              "      <td>4</td>\n",
              "      <td>20</td>\n",
              "      <td>3</td>\n",
              "      <td>30</td>\n",
              "      <td>2 days ago</td>\n",
              "      <td>NaN</td>\n",
              "      <td>5</td>\n",
              "      <td>10</td>\n",
              "      <td>22</td>\n",
              "      <td>80</td>\n",
              "      <td>2017-04-08</td>\n",
              "      <td>110</td>\n",
              "      <td>2013-10-19</td>\n",
              "      <td>2017-03-25</td>\n",
              "      <td>93.0</td>\n",
              "      <td>9.0</td>\n",
              "      <td>9.0</td>\n",
              "      <td>10.0</td>\n",
              "      <td>10.0</td>\n",
              "      <td>9.0</td>\n",
              "      <td>9.0</td>\n",
              "      <td>NaN</td>\n",
              "      <td>NaN</td>\n",
              "      <td>strict</td>\n",
              "      <td>1</td>\n",
              "      <td>2.60</td>\n",
              "      <td>41.3826627171,2.16755841626</td>\n",
              "      <td>Host Has Profile Pic,Host Identity Verified,Re...</td>\n",
              "    </tr>\n",
              "    <tr>\n",
              "      <th>2</th>\n",
              "      <td>4539828</td>\n",
              "      <td>https://www.airbnb.com/rooms/4539828</td>\n",
              "      <td>20170407214050</td>\n",
              "      <td>2017-04-08</td>\n",
              "      <td>Penthouse with terrace in Rambla Catalunya -Ce...</td>\n",
              "      <td>For perfect relaxing time with friend or famil...</td>\n",
              "      <td>This very beautiful and bright apartment is lo...</td>\n",
              "      <td>For perfect relaxing time with friend or famil...</td>\n",
              "      <td>none</td>\n",
              "      <td>Located in the real center of the city, close ...</td>\n",
              "      <td>HUTB-(PHONE NUMBER HIDDEN)</td>\n",
              "      <td>Easy access by subway , airport and city buses...</td>\n",
              "      <td>NaN</td>\n",
              "      <td>We offer to our guests an individual and perso...</td>\n",
              "      <td>-Smoking allowed on balcony only.  -When you l...</td>\n",
              "      <td>https://a0.muscache.com/im/pictures/57011236/e...</td>\n",
              "      <td>https://a0.muscache.com/im/pictures/57011236/e...</td>\n",
              "      <td>https://public.opendatasoft.com/api/v2/catalog...</td>\n",
              "      <td>https://a0.muscache.com/im/pictures/57011236/e...</td>\n",
              "      <td>3399123</td>\n",
              "      <td>https://www.airbnb.com/users/show/3399123</td>\n",
              "      <td>Eberhard&amp;Aurélie@Es-Flats</td>\n",
              "      <td>2012-08-28</td>\n",
              "      <td>Barcelona, Cataluña, Spain</td>\n",
              "      <td>Dear travelers, \\r\\nMany years ago we moved fr...</td>\n",
              "      <td>within a few hours</td>\n",
              "      <td>99.0</td>\n",
              "      <td>NaN</td>\n",
              "      <td>https://a0.muscache.com/im/pictures/eb0f9398-c...</td>\n",
              "      <td>https://a0.muscache.com/im/pictures/eb0f9398-c...</td>\n",
              "      <td>Sant Antoni</td>\n",
              "      <td>18.0</td>\n",
              "      <td>18.0</td>\n",
              "      <td>email,phone,facebook,google,reviews,jumio,work...</td>\n",
              "      <td>Dreta de l'Eixample, Barcelona, Catalonia 0800...</td>\n",
              "      <td>Dreta de l'Eixample</td>\n",
              "      <td>la Dreta de l'Eixample</td>\n",
              "      <td>Eixample</td>\n",
              "      <td>Barcelona</td>\n",
              "      <td>Catalonia</td>\n",
              "      <td>...</td>\n",
              "      <td>5</td>\n",
              "      <td>1.0</td>\n",
              "      <td>2.0</td>\n",
              "      <td>2.0</td>\n",
              "      <td>Real Bed</td>\n",
              "      <td>TV,Internet,Wireless Internet,Air conditioning...</td>\n",
              "      <td>NaN</td>\n",
              "      <td>129.0</td>\n",
              "      <td>NaN</td>\n",
              "      <td>NaN</td>\n",
              "      <td>200.0</td>\n",
              "      <td>75.0</td>\n",
              "      <td>3</td>\n",
              "      <td>20</td>\n",
              "      <td>2</td>\n",
              "      <td>60</td>\n",
              "      <td>today</td>\n",
              "      <td>NaN</td>\n",
              "      <td>2</td>\n",
              "      <td>5</td>\n",
              "      <td>10</td>\n",
              "      <td>230</td>\n",
              "      <td>2017-04-08</td>\n",
              "      <td>89</td>\n",
              "      <td>2015-01-01</td>\n",
              "      <td>2017-04-02</td>\n",
              "      <td>94.0</td>\n",
              "      <td>10.0</td>\n",
              "      <td>10.0</td>\n",
              "      <td>10.0</td>\n",
              "      <td>10.0</td>\n",
              "      <td>10.0</td>\n",
              "      <td>9.0</td>\n",
              "      <td>HUTB-007975-96</td>\n",
              "      <td>NaN</td>\n",
              "      <td>moderate</td>\n",
              "      <td>11</td>\n",
              "      <td>3.22</td>\n",
              "      <td>41.3884672349,2.16845131768</td>\n",
              "      <td>Host Has Profile Pic,Host Identity Verified,Is...</td>\n",
              "    </tr>\n",
              "    <tr>\n",
              "      <th>3</th>\n",
              "      <td>15698134</td>\n",
              "      <td>https://www.airbnb.com/rooms/15698134</td>\n",
              "      <td>20170407214050</td>\n",
              "      <td>2017-04-08</td>\n",
              "      <td>130. Hércules Pequeño 41</td>\n",
              "      <td>Unique apartment in vibrant neighborhoods, car...</td>\n",
              "      <td>New apartment just meters from the Basilica of...</td>\n",
              "      <td>Unique apartment in vibrant neighborhoods, car...</td>\n",
              "      <td>none</td>\n",
              "      <td>NaN</td>\n",
              "      <td>NaN</td>\n",
              "      <td>NaN</td>\n",
              "      <td>NaN</td>\n",
              "      <td>NaN</td>\n",
              "      <td>NaN</td>\n",
              "      <td>https://a0.muscache.com/im/pictures/974f0245-5...</td>\n",
              "      <td>https://a0.muscache.com/im/pictures/974f0245-5...</td>\n",
              "      <td>https://public.opendatasoft.com/api/v2/catalog...</td>\n",
              "      <td>https://a0.muscache.com/im/pictures/974f0245-5...</td>\n",
              "      <td>54310958</td>\n",
              "      <td>https://www.airbnb.com/users/show/54310958</td>\n",
              "      <td>Javier</td>\n",
              "      <td>2016-01-12</td>\n",
              "      <td>Madrid, Community of Madrid, Spain</td>\n",
              "      <td>Be Mate offers the exclusive City Mate service...</td>\n",
              "      <td>within an hour</td>\n",
              "      <td>99.0</td>\n",
              "      <td>NaN</td>\n",
              "      <td>https://a0.muscache.com/im/pictures/8f3ec0f2-1...</td>\n",
              "      <td>https://a0.muscache.com/im/pictures/8f3ec0f2-1...</td>\n",
              "      <td>L'Antiga Esquerra de l'Eixample</td>\n",
              "      <td>207.0</td>\n",
              "      <td>207.0</td>\n",
              "      <td>email,phone,reviews,jumio</td>\n",
              "      <td>La Sagrada Família, Barcelona, Catalunya 08013...</td>\n",
              "      <td>La Sagrada Família</td>\n",
              "      <td>la Sagrada Família</td>\n",
              "      <td>Eixample</td>\n",
              "      <td>Barcelona</td>\n",
              "      <td>Catalunya</td>\n",
              "      <td>...</td>\n",
              "      <td>5</td>\n",
              "      <td>1.0</td>\n",
              "      <td>2.0</td>\n",
              "      <td>2.0</td>\n",
              "      <td>Real Bed</td>\n",
              "      <td>TV,Wireless Internet,Air conditioning,Kitchen,...</td>\n",
              "      <td>NaN</td>\n",
              "      <td>90.0</td>\n",
              "      <td>NaN</td>\n",
              "      <td>NaN</td>\n",
              "      <td>300.0</td>\n",
              "      <td>15.0</td>\n",
              "      <td>1</td>\n",
              "      <td>0</td>\n",
              "      <td>2</td>\n",
              "      <td>1125</td>\n",
              "      <td>2 weeks ago</td>\n",
              "      <td>NaN</td>\n",
              "      <td>0</td>\n",
              "      <td>0</td>\n",
              "      <td>0</td>\n",
              "      <td>2</td>\n",
              "      <td>2017-04-08</td>\n",
              "      <td>1</td>\n",
              "      <td>2016-12-25</td>\n",
              "      <td>2016-12-25</td>\n",
              "      <td>100.0</td>\n",
              "      <td>10.0</td>\n",
              "      <td>10.0</td>\n",
              "      <td>10.0</td>\n",
              "      <td>10.0</td>\n",
              "      <td>8.0</td>\n",
              "      <td>10.0</td>\n",
              "      <td>NaN</td>\n",
              "      <td>NaN</td>\n",
              "      <td>strict</td>\n",
              "      <td>92</td>\n",
              "      <td>0.29</td>\n",
              "      <td>41.4025861102,2.17694635948</td>\n",
              "      <td>Host Has Profile Pic,Host Identity Verified,Is...</td>\n",
              "    </tr>\n",
              "    <tr>\n",
              "      <th>4</th>\n",
              "      <td>15447205</td>\n",
              "      <td>https://www.airbnb.com/rooms/15447205</td>\n",
              "      <td>20170407214050</td>\n",
              "      <td>2017-04-08</td>\n",
              "      <td>Sagrada Familia Apartment E</td>\n",
              "      <td>Unique apartment in vibrant neighborhoods, car...</td>\n",
              "      <td>Occupying the picturesque avenues of the Eixam...</td>\n",
              "      <td>Unique apartment in vibrant neighborhoods, car...</td>\n",
              "      <td>none</td>\n",
              "      <td>NaN</td>\n",
              "      <td>NaN</td>\n",
              "      <td>NaN</td>\n",
              "      <td>NaN</td>\n",
              "      <td>NaN</td>\n",
              "      <td>NaN</td>\n",
              "      <td>https://a0.muscache.com/im/pictures/c2dde263-2...</td>\n",
              "      <td>https://a0.muscache.com/im/pictures/c2dde263-2...</td>\n",
              "      <td>https://public.opendatasoft.com/api/v2/catalog...</td>\n",
              "      <td>https://a0.muscache.com/im/pictures/c2dde263-2...</td>\n",
              "      <td>54310958</td>\n",
              "      <td>https://www.airbnb.com/users/show/54310958</td>\n",
              "      <td>Javier</td>\n",
              "      <td>2016-01-12</td>\n",
              "      <td>Madrid, Community of Madrid, Spain</td>\n",
              "      <td>Be Mate offers the exclusive City Mate service...</td>\n",
              "      <td>within an hour</td>\n",
              "      <td>99.0</td>\n",
              "      <td>NaN</td>\n",
              "      <td>https://a0.muscache.com/im/pictures/8f3ec0f2-1...</td>\n",
              "      <td>https://a0.muscache.com/im/pictures/8f3ec0f2-1...</td>\n",
              "      <td>L'Antiga Esquerra de l'Eixample</td>\n",
              "      <td>207.0</td>\n",
              "      <td>207.0</td>\n",
              "      <td>email,phone,reviews,jumio</td>\n",
              "      <td>La Sagrada Família, Barcelona, Catalunya 08025...</td>\n",
              "      <td>La Sagrada Família</td>\n",
              "      <td>la Sagrada Família</td>\n",
              "      <td>Eixample</td>\n",
              "      <td>Barcelona</td>\n",
              "      <td>Catalunya</td>\n",
              "      <td>...</td>\n",
              "      <td>6</td>\n",
              "      <td>1.0</td>\n",
              "      <td>2.0</td>\n",
              "      <td>3.0</td>\n",
              "      <td>Real Bed</td>\n",
              "      <td>TV,Wireless Internet,Air conditioning,Kitchen,...</td>\n",
              "      <td>NaN</td>\n",
              "      <td>89.0</td>\n",
              "      <td>NaN</td>\n",
              "      <td>NaN</td>\n",
              "      <td>NaN</td>\n",
              "      <td>NaN</td>\n",
              "      <td>1</td>\n",
              "      <td>0</td>\n",
              "      <td>2</td>\n",
              "      <td>1125</td>\n",
              "      <td>2 weeks ago</td>\n",
              "      <td>NaN</td>\n",
              "      <td>0</td>\n",
              "      <td>0</td>\n",
              "      <td>0</td>\n",
              "      <td>0</td>\n",
              "      <td>2017-04-08</td>\n",
              "      <td>5</td>\n",
              "      <td>2016-11-20</td>\n",
              "      <td>2017-01-15</td>\n",
              "      <td>100.0</td>\n",
              "      <td>10.0</td>\n",
              "      <td>9.0</td>\n",
              "      <td>9.0</td>\n",
              "      <td>9.0</td>\n",
              "      <td>10.0</td>\n",
              "      <td>10.0</td>\n",
              "      <td>NaN</td>\n",
              "      <td>NaN</td>\n",
              "      <td>strict</td>\n",
              "      <td>92</td>\n",
              "      <td>1.07</td>\n",
              "      <td>41.4050059892,2.17336910638</td>\n",
              "      <td>Host Has Profile Pic,Host Identity Verified,Is...</td>\n",
              "    </tr>\n",
              "  </tbody>\n",
              "</table>\n",
              "<p>5 rows × 89 columns</p>\n",
              "</div>"
            ],
            "text/plain": [
              "         ID  ...                                           Features\n",
              "0  12768616  ...  Host Has Profile Pic,Host Identity Verified,Is...\n",
              "1   1629146  ...  Host Has Profile Pic,Host Identity Verified,Re...\n",
              "2   4539828  ...  Host Has Profile Pic,Host Identity Verified,Is...\n",
              "3  15698134  ...  Host Has Profile Pic,Host Identity Verified,Is...\n",
              "4  15447205  ...  Host Has Profile Pic,Host Identity Verified,Is...\n",
              "\n",
              "[5 rows x 89 columns]"
            ]
          },
          "metadata": {
            "tags": []
          },
          "execution_count": 12
        }
      ]
    },
    {
      "cell_type": "code",
      "metadata": {
        "id": "0FCEQYC1aIWz",
        "colab_type": "code",
        "colab": {
          "base_uri": "https://localhost:8080/",
          "height": 35
        },
        "outputId": "d8e3f61a-f9ec-43ba-a128-beedfc540cab"
      },
      "source": [
        "# vamos a ver de cuantos registros disponemos y de cuantas variables\n",
        "data.shape"
      ],
      "execution_count": null,
      "outputs": [
        {
          "output_type": "execute_result",
          "data": {
            "text/plain": [
              "(14001, 89)"
            ]
          },
          "metadata": {
            "tags": []
          },
          "execution_count": 13
        }
      ]
    },
    {
      "cell_type": "code",
      "metadata": {
        "id": "O9X_wbApaIo_",
        "colab_type": "code",
        "colab": {
          "base_uri": "https://localhost:8080/",
          "height": 468
        },
        "outputId": "94bc3db3-ec7e-47cf-e62b-82c6e1d49180"
      },
      "source": [
        "# ¿De qué variables disponemos?\n",
        "data.columns"
      ],
      "execution_count": null,
      "outputs": [
        {
          "output_type": "execute_result",
          "data": {
            "text/plain": [
              "Index(['ID', 'Listing Url', 'Scrape ID', 'Last Scraped', 'Name', 'Summary',\n",
              "       'Space', 'Description', 'Experiences Offered', 'Neighborhood Overview',\n",
              "       'Notes', 'Transit', 'Access', 'Interaction', 'House Rules',\n",
              "       'Thumbnail Url', 'Medium Url', 'Picture Url', 'XL Picture Url',\n",
              "       'Host ID', 'Host URL', 'Host Name', 'Host Since', 'Host Location',\n",
              "       'Host About', 'Host Response Time', 'Host Response Rate',\n",
              "       'Host Acceptance Rate', 'Host Thumbnail Url', 'Host Picture Url',\n",
              "       'Host Neighbourhood', 'Host Listings Count',\n",
              "       'Host Total Listings Count', 'Host Verifications', 'Street',\n",
              "       'Neighbourhood', 'Neighbourhood Cleansed',\n",
              "       'Neighbourhood Group Cleansed', 'City', 'State', 'Zipcode', 'Market',\n",
              "       'Smart Location', 'Country Code', 'Country', 'Latitude', 'Longitude',\n",
              "       'Property Type', 'Room Type', 'Accommodates', 'Bathrooms', 'Bedrooms',\n",
              "       'Beds', 'Bed Type', 'Amenities', 'Square Feet', 'Price', 'Weekly Price',\n",
              "       'Monthly Price', 'Security Deposit', 'Cleaning Fee', 'Guests Included',\n",
              "       'Extra People', 'Minimum Nights', 'Maximum Nights', 'Calendar Updated',\n",
              "       'Has Availability', 'Availability 30', 'Availability 60',\n",
              "       'Availability 90', 'Availability 365', 'Calendar last Scraped',\n",
              "       'Number of Reviews', 'First Review', 'Last Review',\n",
              "       'Review Scores Rating', 'Review Scores Accuracy',\n",
              "       'Review Scores Cleanliness', 'Review Scores Checkin',\n",
              "       'Review Scores Communication', 'Review Scores Location',\n",
              "       'Review Scores Value', 'License', 'Jurisdiction Names',\n",
              "       'Cancellation Policy', 'Calculated host listings count',\n",
              "       'Reviews per Month', 'Geolocation', 'Features'],\n",
              "      dtype='object')"
            ]
          },
          "metadata": {
            "tags": []
          },
          "execution_count": 14
        }
      ]
    },
    {
      "cell_type": "code",
      "metadata": {
        "id": "JyK3w606FhiS",
        "colab_type": "code",
        "colab": {}
      },
      "source": [
        "images_paths = [[i, img_url] for i, img_url in enumerate(data['Thumbnail Url'])]"
      ],
      "execution_count": null,
      "outputs": []
    },
    {
      "cell_type": "code",
      "metadata": {
        "id": "zAsET5b5Fk6e",
        "colab_type": "code",
        "colab": {
          "base_uri": "https://localhost:8080/",
          "height": 191
        },
        "outputId": "ba680889-5cab-4776-8a89-86c3294e3ef9"
      },
      "source": [
        "images_paths[:5]"
      ],
      "execution_count": null,
      "outputs": [
        {
          "output_type": "execute_result",
          "data": {
            "text/plain": [
              "[[0,\n",
              "  'https://a0.muscache.com/im/pictures/cffe393a-0d84-4fd5-ab4c-a62e067c1b0d.jpg?aki_policy=small'],\n",
              " [1,\n",
              "  'https://a0.muscache.com/im/pictures/ea919e56-aa99-4d5d-a129-1edf0d117d6a.jpg?aki_policy=small'],\n",
              " [2,\n",
              "  'https://a0.muscache.com/im/pictures/57011236/eea5c213_original.jpg?aki_policy=small'],\n",
              " [3,\n",
              "  'https://a0.muscache.com/im/pictures/974f0245-55c2-4e8c-b9bf-14c1c975c798.jpg?aki_policy=small'],\n",
              " [4,\n",
              "  'https://a0.muscache.com/im/pictures/c2dde263-20dd-43af-8c6b-be636c2c0ce1.jpg?aki_policy=small']]"
            ]
          },
          "metadata": {
            "tags": []
          },
          "execution_count": 16
        }
      ]
    },
    {
      "cell_type": "code",
      "metadata": {
        "id": "aIHTZqtjFoOz",
        "colab_type": "code",
        "colab": {}
      },
      "source": [
        "import imageio as io\n",
        "import cv2\n",
        "\n",
        "# esta es la función que se descargará la imagen y devolverá la imagen y el \n",
        "# índice indicando la posición donde se incrustará la imagen en nuestro array\n",
        "def get_image(data_url, target_size=(224, 224)):\n",
        "    idx, url = data_url\n",
        "    try:\n",
        "        img = io.imread(url)\n",
        "        # hay alguna imagen en blanco y negro y daría error al incluirla en \n",
        "        # nuestro array de imagenes que tiene 3 canales, así que convertimos\n",
        "        # todas las imágenes que tengan menos de 3 dimensiones a color\n",
        "        if img.ndim < 3:\n",
        "            img = cv2.cvtColor(img, cv2.COLOR_GRAY2RGB)\n",
        "        img = cv2.resize(img, dsize=target_size)\n",
        "        return img, idx\n",
        "    except IOError as err:\n",
        "        return (None, idx)"
      ],
      "execution_count": null,
      "outputs": []
    },
    {
      "cell_type": "code",
      "metadata": {
        "id": "eCtrov4uGQ6_",
        "colab_type": "code",
        "colab": {}
      },
      "source": [
        "import numpy as np\n",
        "\n",
        "# en este array iremos incrustando las imágenes conforme las vayamos obteniendo\n",
        "loaded_images = np.zeros((len(images_paths), 224, 224, 3), dtype=np.uint8)\n",
        "\n",
        "# y en este array llevaremos un control de cuales se han cargado correctamente\n",
        "# y cuales no\n",
        "was_loaded = np.zeros(len(images_paths))"
      ],
      "execution_count": null,
      "outputs": []
    },
    {
      "cell_type": "code",
      "metadata": {
        "id": "dYQg0kYcGeU5",
        "colab_type": "code",
        "colab": {
          "base_uri": "https://localhost:8080/",
          "height": 35
        },
        "outputId": "9dfc1514-bcda-470b-daf0-f3893d4265a5"
      },
      "source": [
        "print(loaded_images.shape)"
      ],
      "execution_count": null,
      "outputs": [
        {
          "output_type": "stream",
          "text": [
            "(14001, 224, 224, 3)\n"
          ],
          "name": "stdout"
        }
      ]
    },
    {
      "cell_type": "code",
      "metadata": {
        "id": "o38z7SRtGfkt",
        "colab_type": "code",
        "colab": {
          "base_uri": "https://localhost:8080/",
          "height": 69
        },
        "outputId": "6454e9dd-e8a5-4d38-f24d-852e8060a59c"
      },
      "source": [
        "import concurrent\n",
        "from tqdm import tqdm\n",
        "\n",
        "# creamos un pool de procesos que se irán descargando las imágenes\n",
        "# por defecto, se crearán tantos como CPUs tenga vuestra máquina\n",
        "with concurrent.futures.ProcessPoolExecutor() as executor:\n",
        "    # procesamos la lista de urls de imágenes paralelizandola con el pool de procesos\n",
        "    for (img, idx) in tqdm(executor.map(get_image, images_paths), total=len(images_paths)):\n",
        "        # metemos la imagen en nuestro array\n",
        "        if img is not None:\n",
        "            loaded_images[idx] = img\n",
        "            was_loaded[idx] = 1\n",
        "        else:\n",
        "            was_loaded[idx] = 0\n",
        "\n",
        "print('Terminado!')\n",
        "print(f'Total de imágenes recuperadas correctamente: {sum(was_loaded)}/{len(images_paths)}')"
      ],
      "execution_count": null,
      "outputs": [
        {
          "output_type": "stream",
          "text": [
            "100%|██████████| 14001/14001 [15:19<00:00, 15.23it/s]\n"
          ],
          "name": "stderr"
        },
        {
          "output_type": "stream",
          "text": [
            "Terminado!\n",
            "Total de imágenes recuperadas correctamente: 11270.0/14001\n"
          ],
          "name": "stdout"
        }
      ]
    },
    {
      "cell_type": "code",
      "metadata": {
        "id": "4lyvHqluHJaD",
        "colab_type": "code",
        "colab": {}
      },
      "source": [
        "# guardamos las imágenes (y yo os recomiendo que os lo guardéis en GDrive para evitar tener que repetir esto)\n",
        "np.save('images.npy', loaded_images)\n",
        "np.save('was_loaded.npy', was_loaded)"
      ],
      "execution_count": null,
      "outputs": []
    },
    {
      "cell_type": "code",
      "metadata": {
        "id": "3GclWJqXQGBG",
        "colab_type": "code",
        "colab": {
          "base_uri": "https://localhost:8080/",
          "height": 35
        },
        "outputId": "7ef4f59e-914c-4f30-8fb5-8ea27adf62c2"
      },
      "source": [
        "# montamos GDrive\n",
        "from google.colab import drive\n",
        "drive.mount('/content/drive')"
      ],
      "execution_count": null,
      "outputs": [
        {
          "output_type": "stream",
          "text": [
            "Drive already mounted at /content/drive; to attempt to forcibly remount, call drive.mount(\"/content/drive\", force_remount=True).\n"
          ],
          "name": "stdout"
        }
      ]
    },
    {
      "cell_type": "code",
      "metadata": {
        "id": "6zn8Ez3CQJ-i",
        "colab_type": "code",
        "colab": {
          "base_uri": "https://localhost:8080/",
          "height": 35
        },
        "outputId": "e7eca3a3-a9d7-400d-c63c-221d08f13b34"
      },
      "source": [
        "# almacenamos las imagenes en nuestro drive\n",
        "!cp images.npy /content/drive/My\\ Drive/images.npy\n",
        "!cp was_loaded.npy /content/drive/My\\ Drive/was_loaded.npy"
      ],
      "execution_count": null,
      "outputs": [
        {
          "output_type": "stream",
          "text": [
            "^C\n"
          ],
          "name": "stdout"
        }
      ]
    },
    {
      "cell_type": "code",
      "metadata": {
        "id": "haY-BjCcQLwt",
        "colab_type": "code",
        "colab": {
          "base_uri": "https://localhost:8080/",
          "height": 52
        },
        "outputId": "943bc531-e42a-462a-8a58-0873211cf65e"
      },
      "source": [
        "!ls -lah images.npy was_loaded.npy"
      ],
      "execution_count": null,
      "outputs": [
        {
          "output_type": "stream",
          "text": [
            "-rw-r--r-- 1 root root 2.0G Jul 19 18:57 images.npy\n",
            "-rw-r--r-- 1 root root 110K Jul 19 18:57 was_loaded.npy\n"
          ],
          "name": "stdout"
        }
      ]
    },
    {
      "cell_type": "code",
      "metadata": {
        "id": "Q45uja8PQMPy",
        "colab_type": "code",
        "colab": {}
      },
      "source": [
        "# nos quedamos con los datos para los que hemos podido encontrar imágenes\n",
        "data_with_imgs = data[was_loaded == 1]"
      ],
      "execution_count": null,
      "outputs": []
    },
    {
      "cell_type": "code",
      "metadata": {
        "id": "RwBCqgBOQt2u",
        "colab_type": "code",
        "colab": {
          "base_uri": "https://localhost:8080/",
          "height": 35
        },
        "outputId": "0d49eca8-ec1c-4095-9a8b-b4ad44bc5a9e"
      },
      "source": [
        "len(data_with_imgs)"
      ],
      "execution_count": null,
      "outputs": [
        {
          "output_type": "execute_result",
          "data": {
            "text/plain": [
              "11270"
            ]
          },
          "metadata": {
            "tags": []
          },
          "execution_count": 26
        }
      ]
    },
    {
      "cell_type": "code",
      "metadata": {
        "id": "Cov-2VBdT4fo",
        "colab_type": "code",
        "colab": {}
      },
      "source": [
        "final_data = data.iloc[was_loaded, :]\n",
        "final_data.shape"
      ],
      "execution_count": null,
      "outputs": []
    },
    {
      "cell_type": "code",
      "metadata": {
        "id": "K9wVvCTxZNNf",
        "colab_type": "code",
        "colab": {
          "base_uri": "https://localhost:8080/",
          "height": 52
        },
        "outputId": "951cd567-9b21-440f-998f-11abe6c14f95"
      },
      "source": [
        "from sklearn.model_selection import train_test_split\n",
        "\n",
        "train, test = train_test_split(data_with_imgs, test_size=0.2, shuffle=True, random_state=0)\n",
        "\n",
        "print(f'Dimensiones del dataset de training: {train.shape}')\n",
        "print(f'Dimensiones del dataset de test: {test.shape}')\n",
        "\n",
        "# Guardamos\n",
        "#train.to_csv('./train.csv', sep=';', decimal='.', index=False)\n",
        "#test.to_csv('./test.csv', sep=';', decimal='.', index=False)\n",
        "\n",
        "# A partir de este momento cargamos el dataset de train y trabajamos ÚNICAMENTE con él. \n",
        "\n",
        "#df = pd.read_csv('./train.csv', sep=';', decimal='.')"
      ],
      "execution_count": null,
      "outputs": [
        {
          "output_type": "stream",
          "text": [
            "Dimensiones del dataset de training: (9016, 89)\n",
            "Dimensiones del dataset de test: (2254, 89)\n"
          ],
          "name": "stdout"
        }
      ]
    },
    {
      "cell_type": "code",
      "metadata": {
        "id": "y7G-SrbmZNNr",
        "colab_type": "code",
        "colab": {
          "base_uri": "https://localhost:8080/",
          "height": 719
        },
        "outputId": "f0d935b9-9084-4f24-cc0a-3de0527566db"
      },
      "source": [
        "train.head()"
      ],
      "execution_count": null,
      "outputs": [
        {
          "output_type": "execute_result",
          "data": {
            "text/html": [
              "<div>\n",
              "<style scoped>\n",
              "    .dataframe tbody tr th:only-of-type {\n",
              "        vertical-align: middle;\n",
              "    }\n",
              "\n",
              "    .dataframe tbody tr th {\n",
              "        vertical-align: top;\n",
              "    }\n",
              "\n",
              "    .dataframe thead th {\n",
              "        text-align: right;\n",
              "    }\n",
              "</style>\n",
              "<table border=\"1\" class=\"dataframe\">\n",
              "  <thead>\n",
              "    <tr style=\"text-align: right;\">\n",
              "      <th></th>\n",
              "      <th>ID</th>\n",
              "      <th>Listing Url</th>\n",
              "      <th>Scrape ID</th>\n",
              "      <th>Last Scraped</th>\n",
              "      <th>Name</th>\n",
              "      <th>Summary</th>\n",
              "      <th>Space</th>\n",
              "      <th>Description</th>\n",
              "      <th>Experiences Offered</th>\n",
              "      <th>Neighborhood Overview</th>\n",
              "      <th>Notes</th>\n",
              "      <th>Transit</th>\n",
              "      <th>Access</th>\n",
              "      <th>Interaction</th>\n",
              "      <th>House Rules</th>\n",
              "      <th>Thumbnail Url</th>\n",
              "      <th>Medium Url</th>\n",
              "      <th>Picture Url</th>\n",
              "      <th>XL Picture Url</th>\n",
              "      <th>Host ID</th>\n",
              "      <th>Host URL</th>\n",
              "      <th>Host Name</th>\n",
              "      <th>Host Since</th>\n",
              "      <th>Host Location</th>\n",
              "      <th>Host About</th>\n",
              "      <th>Host Response Time</th>\n",
              "      <th>Host Response Rate</th>\n",
              "      <th>Host Acceptance Rate</th>\n",
              "      <th>Host Thumbnail Url</th>\n",
              "      <th>Host Picture Url</th>\n",
              "      <th>Host Neighbourhood</th>\n",
              "      <th>Host Listings Count</th>\n",
              "      <th>Host Total Listings Count</th>\n",
              "      <th>Host Verifications</th>\n",
              "      <th>Street</th>\n",
              "      <th>Neighbourhood</th>\n",
              "      <th>Neighbourhood Cleansed</th>\n",
              "      <th>Neighbourhood Group Cleansed</th>\n",
              "      <th>City</th>\n",
              "      <th>State</th>\n",
              "      <th>...</th>\n",
              "      <th>Accommodates</th>\n",
              "      <th>Bathrooms</th>\n",
              "      <th>Bedrooms</th>\n",
              "      <th>Beds</th>\n",
              "      <th>Bed Type</th>\n",
              "      <th>Amenities</th>\n",
              "      <th>Square Feet</th>\n",
              "      <th>Price</th>\n",
              "      <th>Weekly Price</th>\n",
              "      <th>Monthly Price</th>\n",
              "      <th>Security Deposit</th>\n",
              "      <th>Cleaning Fee</th>\n",
              "      <th>Guests Included</th>\n",
              "      <th>Extra People</th>\n",
              "      <th>Minimum Nights</th>\n",
              "      <th>Maximum Nights</th>\n",
              "      <th>Calendar Updated</th>\n",
              "      <th>Has Availability</th>\n",
              "      <th>Availability 30</th>\n",
              "      <th>Availability 60</th>\n",
              "      <th>Availability 90</th>\n",
              "      <th>Availability 365</th>\n",
              "      <th>Calendar last Scraped</th>\n",
              "      <th>Number of Reviews</th>\n",
              "      <th>First Review</th>\n",
              "      <th>Last Review</th>\n",
              "      <th>Review Scores Rating</th>\n",
              "      <th>Review Scores Accuracy</th>\n",
              "      <th>Review Scores Cleanliness</th>\n",
              "      <th>Review Scores Checkin</th>\n",
              "      <th>Review Scores Communication</th>\n",
              "      <th>Review Scores Location</th>\n",
              "      <th>Review Scores Value</th>\n",
              "      <th>License</th>\n",
              "      <th>Jurisdiction Names</th>\n",
              "      <th>Cancellation Policy</th>\n",
              "      <th>Calculated host listings count</th>\n",
              "      <th>Reviews per Month</th>\n",
              "      <th>Geolocation</th>\n",
              "      <th>Features</th>\n",
              "    </tr>\n",
              "  </thead>\n",
              "  <tbody>\n",
              "    <tr>\n",
              "      <th>6360</th>\n",
              "      <td>17903615</td>\n",
              "      <td>https://www.airbnb.com/rooms/17903615</td>\n",
              "      <td>20170407214119</td>\n",
              "      <td>2017-04-08</td>\n",
              "      <td>Private room La Latina</td>\n",
              "      <td>Habitación privada enorme en La Latina con bal...</td>\n",
              "      <td>NaN</td>\n",
              "      <td>Habitación privada enorme en La Latina con bal...</td>\n",
              "      <td>none</td>\n",
              "      <td>NaN</td>\n",
              "      <td>NaN</td>\n",
              "      <td>NaN</td>\n",
              "      <td>NaN</td>\n",
              "      <td>NaN</td>\n",
              "      <td>- Smoking only in the balcony</td>\n",
              "      <td>https://a0.muscache.com/im/pictures/b925f6c4-8...</td>\n",
              "      <td>https://a0.muscache.com/im/pictures/b925f6c4-8...</td>\n",
              "      <td>https://public.opendatasoft.com/api/v2/catalog...</td>\n",
              "      <td>https://a0.muscache.com/im/pictures/b925f6c4-8...</td>\n",
              "      <td>122684529</td>\n",
              "      <td>https://www.airbnb.com/users/show/122684529</td>\n",
              "      <td>Lucia</td>\n",
              "      <td>2017-03-26</td>\n",
              "      <td>Madrid, Community of Madrid, Spain</td>\n",
              "      <td>Soy Lucía, nacidad en el bello Santander y res...</td>\n",
              "      <td>within a day</td>\n",
              "      <td>78.0</td>\n",
              "      <td>NaN</td>\n",
              "      <td>https://a0.muscache.com/im/pictures/1712c886-c...</td>\n",
              "      <td>https://a0.muscache.com/im/pictures/1712c886-c...</td>\n",
              "      <td>La Latina</td>\n",
              "      <td>1.0</td>\n",
              "      <td>1.0</td>\n",
              "      <td>email,phone</td>\n",
              "      <td>La Latina, Madrid, Comunidad de Madrid 28005, ...</td>\n",
              "      <td>La Latina</td>\n",
              "      <td>Palacio</td>\n",
              "      <td>Centro</td>\n",
              "      <td>Madrid</td>\n",
              "      <td>Comunidad de Madrid</td>\n",
              "      <td>...</td>\n",
              "      <td>2</td>\n",
              "      <td>1.0</td>\n",
              "      <td>1.0</td>\n",
              "      <td>1.0</td>\n",
              "      <td>Real Bed</td>\n",
              "      <td>Wireless Internet,Kitchen,Smoking allowed,Brea...</td>\n",
              "      <td>NaN</td>\n",
              "      <td>55.0</td>\n",
              "      <td>NaN</td>\n",
              "      <td>NaN</td>\n",
              "      <td>NaN</td>\n",
              "      <td>NaN</td>\n",
              "      <td>1</td>\n",
              "      <td>0</td>\n",
              "      <td>1</td>\n",
              "      <td>1125</td>\n",
              "      <td>5 days ago</td>\n",
              "      <td>NaN</td>\n",
              "      <td>27</td>\n",
              "      <td>57</td>\n",
              "      <td>87</td>\n",
              "      <td>88</td>\n",
              "      <td>2017-04-07</td>\n",
              "      <td>0</td>\n",
              "      <td>NaN</td>\n",
              "      <td>NaN</td>\n",
              "      <td>NaN</td>\n",
              "      <td>NaN</td>\n",
              "      <td>NaN</td>\n",
              "      <td>NaN</td>\n",
              "      <td>NaN</td>\n",
              "      <td>NaN</td>\n",
              "      <td>NaN</td>\n",
              "      <td>NaN</td>\n",
              "      <td>NaN</td>\n",
              "      <td>flexible</td>\n",
              "      <td>1</td>\n",
              "      <td>NaN</td>\n",
              "      <td>40.4116070068,-3.70905827724</td>\n",
              "      <td>Host Has Profile Pic,Is Location Exact,Require...</td>\n",
              "    </tr>\n",
              "    <tr>\n",
              "      <th>12195</th>\n",
              "      <td>1753278</td>\n",
              "      <td>https://www.airbnb.com/rooms/1753278</td>\n",
              "      <td>20170407214119</td>\n",
              "      <td>2017-04-08</td>\n",
              "      <td>Habitación doble en suite</td>\n",
              "      <td>Ofrecemos alojamiento para dos personas en nue...</td>\n",
              "      <td>NaN</td>\n",
              "      <td>Ofrecemos alojamiento para dos personas en nue...</td>\n",
              "      <td>none</td>\n",
              "      <td>NaN</td>\n",
              "      <td>NaN</td>\n",
              "      <td>NaN</td>\n",
              "      <td>NaN</td>\n",
              "      <td>NaN</td>\n",
              "      <td>NaN</td>\n",
              "      <td>https://a0.muscache.com/im/pictures/24820520/b...</td>\n",
              "      <td>https://a0.muscache.com/im/pictures/24820520/b...</td>\n",
              "      <td>https://public.opendatasoft.com/api/v2/catalog...</td>\n",
              "      <td>https://a0.muscache.com/im/pictures/24820520/b...</td>\n",
              "      <td>9222331</td>\n",
              "      <td>https://www.airbnb.com/users/show/9222331</td>\n",
              "      <td>Gabriela</td>\n",
              "      <td>2013-10-04</td>\n",
              "      <td>Madrid, Community of Madrid, Spain</td>\n",
              "      <td>NaN</td>\n",
              "      <td>NaN</td>\n",
              "      <td>NaN</td>\n",
              "      <td>NaN</td>\n",
              "      <td>https://a0.muscache.com/im/users/9222331/profi...</td>\n",
              "      <td>https://a0.muscache.com/im/users/9222331/profi...</td>\n",
              "      <td>Rios Rosas</td>\n",
              "      <td>1.0</td>\n",
              "      <td>1.0</td>\n",
              "      <td>email,phone,reviews,jumio</td>\n",
              "      <td>Rios Rosas, Madrid, Community of Madrid 28003,...</td>\n",
              "      <td>Rios Rosas</td>\n",
              "      <td>Rios Rosas</td>\n",
              "      <td>Chamberí</td>\n",
              "      <td>Madrid</td>\n",
              "      <td>Community of Madrid</td>\n",
              "      <td>...</td>\n",
              "      <td>2</td>\n",
              "      <td>1.0</td>\n",
              "      <td>1.0</td>\n",
              "      <td>2.0</td>\n",
              "      <td>Real Bed</td>\n",
              "      <td>TV,Cable TV,Internet,Wireless Internet,Wheelch...</td>\n",
              "      <td>NaN</td>\n",
              "      <td>55.0</td>\n",
              "      <td>NaN</td>\n",
              "      <td>NaN</td>\n",
              "      <td>NaN</td>\n",
              "      <td>NaN</td>\n",
              "      <td>1</td>\n",
              "      <td>20</td>\n",
              "      <td>3</td>\n",
              "      <td>1125</td>\n",
              "      <td>2 months ago</td>\n",
              "      <td>NaN</td>\n",
              "      <td>29</td>\n",
              "      <td>59</td>\n",
              "      <td>89</td>\n",
              "      <td>364</td>\n",
              "      <td>2017-04-08</td>\n",
              "      <td>2</td>\n",
              "      <td>2015-03-04</td>\n",
              "      <td>2015-04-06</td>\n",
              "      <td>80.0</td>\n",
              "      <td>9.0</td>\n",
              "      <td>9.0</td>\n",
              "      <td>10.0</td>\n",
              "      <td>10.0</td>\n",
              "      <td>10.0</td>\n",
              "      <td>9.0</td>\n",
              "      <td>NaN</td>\n",
              "      <td>NaN</td>\n",
              "      <td>flexible</td>\n",
              "      <td>1</td>\n",
              "      <td>0.08</td>\n",
              "      <td>40.4419817845,-3.69965177426</td>\n",
              "      <td>Host Has Profile Pic,Host Identity Verified,Is...</td>\n",
              "    </tr>\n",
              "    <tr>\n",
              "      <th>1546</th>\n",
              "      <td>14662043</td>\n",
              "      <td>https://www.airbnb.com/rooms/14662043</td>\n",
              "      <td>20170407214119</td>\n",
              "      <td>2017-04-08</td>\n",
              "      <td>Hab Doble Grande y Luminosa en el CENTRO de MA...</td>\n",
              "      <td>Ubicación inmejorable, con servicios de buses,...</td>\n",
              "      <td>NaN</td>\n",
              "      <td>Ubicación inmejorable, con servicios de buses,...</td>\n",
              "      <td>none</td>\n",
              "      <td>NaN</td>\n",
              "      <td>NaN</td>\n",
              "      <td>NaN</td>\n",
              "      <td>NaN</td>\n",
              "      <td>NaN</td>\n",
              "      <td>- Disponible las 24 Horas - Conexión WIFI (GRA...</td>\n",
              "      <td>https://a0.muscache.com/im/pictures/47c36c03-1...</td>\n",
              "      <td>https://a0.muscache.com/im/pictures/47c36c03-1...</td>\n",
              "      <td>https://public.opendatasoft.com/api/v2/catalog...</td>\n",
              "      <td>https://a0.muscache.com/im/pictures/47c36c03-1...</td>\n",
              "      <td>72430958</td>\n",
              "      <td>https://www.airbnb.com/users/show/72430958</td>\n",
              "      <td>Carlos</td>\n",
              "      <td>2016-05-17</td>\n",
              "      <td>Spain</td>\n",
              "      <td>Speak English</td>\n",
              "      <td>NaN</td>\n",
              "      <td>NaN</td>\n",
              "      <td>NaN</td>\n",
              "      <td>https://a0.muscache.com/im/pictures/8bdd3f5b-c...</td>\n",
              "      <td>https://a0.muscache.com/im/pictures/8bdd3f5b-c...</td>\n",
              "      <td>NaN</td>\n",
              "      <td>1.0</td>\n",
              "      <td>1.0</td>\n",
              "      <td>email,phone,reviews</td>\n",
              "      <td>Madrid, Comunidad de Madrid, Spain</td>\n",
              "      <td>NaN</td>\n",
              "      <td>Palos de Moguer</td>\n",
              "      <td>Arganzuela</td>\n",
              "      <td>Madrid</td>\n",
              "      <td>Comunidad de Madrid</td>\n",
              "      <td>...</td>\n",
              "      <td>2</td>\n",
              "      <td>1.0</td>\n",
              "      <td>1.0</td>\n",
              "      <td>1.0</td>\n",
              "      <td>Real Bed</td>\n",
              "      <td>TV,Internet,Wireless Internet,Kitchen,Smoking ...</td>\n",
              "      <td>NaN</td>\n",
              "      <td>35.0</td>\n",
              "      <td>NaN</td>\n",
              "      <td>NaN</td>\n",
              "      <td>NaN</td>\n",
              "      <td>NaN</td>\n",
              "      <td>1</td>\n",
              "      <td>0</td>\n",
              "      <td>1</td>\n",
              "      <td>1125</td>\n",
              "      <td>today</td>\n",
              "      <td>NaN</td>\n",
              "      <td>0</td>\n",
              "      <td>15</td>\n",
              "      <td>40</td>\n",
              "      <td>40</td>\n",
              "      <td>2017-04-08</td>\n",
              "      <td>5</td>\n",
              "      <td>2016-09-11</td>\n",
              "      <td>2016-12-18</td>\n",
              "      <td>96.0</td>\n",
              "      <td>10.0</td>\n",
              "      <td>10.0</td>\n",
              "      <td>10.0</td>\n",
              "      <td>10.0</td>\n",
              "      <td>9.0</td>\n",
              "      <td>10.0</td>\n",
              "      <td>NaN</td>\n",
              "      <td>NaN</td>\n",
              "      <td>moderate</td>\n",
              "      <td>1</td>\n",
              "      <td>0.71</td>\n",
              "      <td>40.4060100181,-3.69237555536</td>\n",
              "      <td>Host Has Profile Pic,Requires License</td>\n",
              "    </tr>\n",
              "    <tr>\n",
              "      <th>9327</th>\n",
              "      <td>13805573</td>\n",
              "      <td>https://www.airbnb.com/rooms/13805573</td>\n",
              "      <td>20170407214119</td>\n",
              "      <td>2017-04-08</td>\n",
              "      <td>Apartamento de 3 habitaciones en Príncipe Pío</td>\n",
              "      <td>Hay 5 camas individuales repartidas en tres ha...</td>\n",
              "      <td>NaN</td>\n",
              "      <td>Hay 5 camas individuales repartidas en tres ha...</td>\n",
              "      <td>none</td>\n",
              "      <td>NaN</td>\n",
              "      <td>NaN</td>\n",
              "      <td>NaN</td>\n",
              "      <td>NaN</td>\n",
              "      <td>NaN</td>\n",
              "      <td>- Agradecemos que sean cuidadosos con el desca...</td>\n",
              "      <td>https://a0.muscache.com/im/pictures/dffabd8b-b...</td>\n",
              "      <td>https://a0.muscache.com/im/pictures/dffabd8b-b...</td>\n",
              "      <td>https://public.opendatasoft.com/api/v2/catalog...</td>\n",
              "      <td>https://a0.muscache.com/im/pictures/dffabd8b-b...</td>\n",
              "      <td>81222970</td>\n",
              "      <td>https://www.airbnb.com/users/show/81222970</td>\n",
              "      <td>Diego</td>\n",
              "      <td>2016-07-02</td>\n",
              "      <td>Madrid, Community of Madrid, Spain</td>\n",
              "      <td>NaN</td>\n",
              "      <td>within a day</td>\n",
              "      <td>90.0</td>\n",
              "      <td>NaN</td>\n",
              "      <td>https://a0.muscache.com/im/pictures/349d7d77-5...</td>\n",
              "      <td>https://a0.muscache.com/im/pictures/349d7d77-5...</td>\n",
              "      <td>Argüelles</td>\n",
              "      <td>1.0</td>\n",
              "      <td>1.0</td>\n",
              "      <td>email,phone,reviews</td>\n",
              "      <td>Argüelles, Madrid, Comunidad de Madrid 28008, ...</td>\n",
              "      <td>Argüelles</td>\n",
              "      <td>Casa de Campo</td>\n",
              "      <td>Moncloa - Aravaca</td>\n",
              "      <td>Madrid</td>\n",
              "      <td>Comunidad de Madrid</td>\n",
              "      <td>...</td>\n",
              "      <td>5</td>\n",
              "      <td>1.0</td>\n",
              "      <td>3.0</td>\n",
              "      <td>5.0</td>\n",
              "      <td>Real Bed</td>\n",
              "      <td>TV,Kitchen,Heating,Family/kid friendly,Washer,...</td>\n",
              "      <td>NaN</td>\n",
              "      <td>100.0</td>\n",
              "      <td>NaN</td>\n",
              "      <td>NaN</td>\n",
              "      <td>100.0</td>\n",
              "      <td>NaN</td>\n",
              "      <td>1</td>\n",
              "      <td>0</td>\n",
              "      <td>15</td>\n",
              "      <td>1125</td>\n",
              "      <td>today</td>\n",
              "      <td>NaN</td>\n",
              "      <td>1</td>\n",
              "      <td>30</td>\n",
              "      <td>60</td>\n",
              "      <td>60</td>\n",
              "      <td>2017-04-08</td>\n",
              "      <td>20</td>\n",
              "      <td>2016-08-22</td>\n",
              "      <td>2017-02-15</td>\n",
              "      <td>76.0</td>\n",
              "      <td>8.0</td>\n",
              "      <td>7.0</td>\n",
              "      <td>9.0</td>\n",
              "      <td>9.0</td>\n",
              "      <td>9.0</td>\n",
              "      <td>8.0</td>\n",
              "      <td>NaN</td>\n",
              "      <td>NaN</td>\n",
              "      <td>flexible</td>\n",
              "      <td>1</td>\n",
              "      <td>2.61</td>\n",
              "      <td>40.4268368003,-3.72824644622</td>\n",
              "      <td>Host Has Profile Pic,Is Location Exact,Require...</td>\n",
              "    </tr>\n",
              "    <tr>\n",
              "      <th>9551</th>\n",
              "      <td>17295480</td>\n",
              "      <td>https://www.airbnb.com/rooms/17295480</td>\n",
              "      <td>20170407214050</td>\n",
              "      <td>2017-04-08</td>\n",
              "      <td>Borne Basílica Basic Loft A</td>\n",
              "      <td>Unique apartment in vibrant neighborhoods, car...</td>\n",
              "      <td>This is a very nicely presented Barcelona apar...</td>\n",
              "      <td>Unique apartment in vibrant neighborhoods, car...</td>\n",
              "      <td>none</td>\n",
              "      <td>NaN</td>\n",
              "      <td>NaN</td>\n",
              "      <td>NaN</td>\n",
              "      <td>NaN</td>\n",
              "      <td>NaN</td>\n",
              "      <td>NaN</td>\n",
              "      <td>https://a0.muscache.com/im/pictures/557abd49-0...</td>\n",
              "      <td>https://a0.muscache.com/im/pictures/557abd49-0...</td>\n",
              "      <td>https://public.opendatasoft.com/api/v2/catalog...</td>\n",
              "      <td>https://a0.muscache.com/im/pictures/557abd49-0...</td>\n",
              "      <td>54310958</td>\n",
              "      <td>https://www.airbnb.com/users/show/54310958</td>\n",
              "      <td>Javier</td>\n",
              "      <td>2016-01-12</td>\n",
              "      <td>Madrid, Community of Madrid, Spain</td>\n",
              "      <td>Be Mate offers the exclusive City Mate service...</td>\n",
              "      <td>within an hour</td>\n",
              "      <td>99.0</td>\n",
              "      <td>NaN</td>\n",
              "      <td>https://a0.muscache.com/im/pictures/8f3ec0f2-1...</td>\n",
              "      <td>https://a0.muscache.com/im/pictures/8f3ec0f2-1...</td>\n",
              "      <td>L'Antiga Esquerra de l'Eixample</td>\n",
              "      <td>207.0</td>\n",
              "      <td>207.0</td>\n",
              "      <td>email,phone,reviews,jumio</td>\n",
              "      <td>El Born, Barcelona, Catalunya 08003, Spain</td>\n",
              "      <td>El Born</td>\n",
              "      <td>Sant Pere, Santa Caterina i la Ribera</td>\n",
              "      <td>Ciutat Vella</td>\n",
              "      <td>Barcelona</td>\n",
              "      <td>Catalunya</td>\n",
              "      <td>...</td>\n",
              "      <td>2</td>\n",
              "      <td>2.0</td>\n",
              "      <td>0.0</td>\n",
              "      <td>1.0</td>\n",
              "      <td>Real Bed</td>\n",
              "      <td>TV,Wireless Internet,Air conditioning,Kitchen,...</td>\n",
              "      <td>NaN</td>\n",
              "      <td>128.0</td>\n",
              "      <td>NaN</td>\n",
              "      <td>NaN</td>\n",
              "      <td>NaN</td>\n",
              "      <td>NaN</td>\n",
              "      <td>1</td>\n",
              "      <td>0</td>\n",
              "      <td>2</td>\n",
              "      <td>1125</td>\n",
              "      <td>2 weeks ago</td>\n",
              "      <td>NaN</td>\n",
              "      <td>2</td>\n",
              "      <td>2</td>\n",
              "      <td>2</td>\n",
              "      <td>2</td>\n",
              "      <td>2017-04-08</td>\n",
              "      <td>0</td>\n",
              "      <td>NaN</td>\n",
              "      <td>NaN</td>\n",
              "      <td>NaN</td>\n",
              "      <td>NaN</td>\n",
              "      <td>NaN</td>\n",
              "      <td>NaN</td>\n",
              "      <td>NaN</td>\n",
              "      <td>NaN</td>\n",
              "      <td>NaN</td>\n",
              "      <td>NaN</td>\n",
              "      <td>NaN</td>\n",
              "      <td>flexible</td>\n",
              "      <td>92</td>\n",
              "      <td>NaN</td>\n",
              "      <td>41.3834180178,2.18197477895</td>\n",
              "      <td>Host Has Profile Pic,Host Identity Verified,Is...</td>\n",
              "    </tr>\n",
              "  </tbody>\n",
              "</table>\n",
              "<p>5 rows × 89 columns</p>\n",
              "</div>"
            ],
            "text/plain": [
              "             ID  ...                                           Features\n",
              "6360   17903615  ...  Host Has Profile Pic,Is Location Exact,Require...\n",
              "12195   1753278  ...  Host Has Profile Pic,Host Identity Verified,Is...\n",
              "1546   14662043  ...              Host Has Profile Pic,Requires License\n",
              "9327   13805573  ...  Host Has Profile Pic,Is Location Exact,Require...\n",
              "9551   17295480  ...  Host Has Profile Pic,Host Identity Verified,Is...\n",
              "\n",
              "[5 rows x 89 columns]"
            ]
          },
          "metadata": {
            "tags": []
          },
          "execution_count": 28
        }
      ]
    },
    {
      "cell_type": "code",
      "metadata": {
        "id": "8qoelKH0ZNNx",
        "colab_type": "code",
        "colab": {
          "base_uri": "https://localhost:8080/",
          "height": 225
        },
        "outputId": "dfafa7aa-579d-4405-a4e8-9376fcfc4fc3"
      },
      "source": [
        "train.dtypes"
      ],
      "execution_count": null,
      "outputs": [
        {
          "output_type": "execute_result",
          "data": {
            "text/plain": [
              "ID                                  int64\n",
              "Listing Url                        object\n",
              "Scrape ID                           int64\n",
              "Last Scraped                       object\n",
              "Name                               object\n",
              "                                   ...   \n",
              "Cancellation Policy                object\n",
              "Calculated host listings count      int64\n",
              "Reviews per Month                 float64\n",
              "Geolocation                        object\n",
              "Features                           object\n",
              "Length: 89, dtype: object"
            ]
          },
          "metadata": {
            "tags": []
          },
          "execution_count": 29
        }
      ]
    },
    {
      "cell_type": "code",
      "metadata": {
        "id": "PwG9tlQYZNN3",
        "colab_type": "code",
        "colab": {
          "base_uri": "https://localhost:8080/",
          "height": 225
        },
        "outputId": "dc37cbd9-1405-43e7-89e7-8e30b7e5fba1"
      },
      "source": [
        "train.isnull().any()"
      ],
      "execution_count": null,
      "outputs": [
        {
          "output_type": "execute_result",
          "data": {
            "text/plain": [
              "ID                                False\n",
              "Listing Url                       False\n",
              "Scrape ID                         False\n",
              "Last Scraped                      False\n",
              "Name                              False\n",
              "                                  ...  \n",
              "Cancellation Policy               False\n",
              "Calculated host listings count    False\n",
              "Reviews per Month                  True\n",
              "Geolocation                       False\n",
              "Features                          False\n",
              "Length: 89, dtype: bool"
            ]
          },
          "metadata": {
            "tags": []
          },
          "execution_count": 30
        }
      ]
    },
    {
      "cell_type": "markdown",
      "metadata": {
        "id": "bTTQKzO3ZNN7",
        "colab_type": "text"
      },
      "source": [
        "Como se puede comprobar en la siguiente inea, el dataset contiene numerosas ciudades. Aunque se deberia realizar un análisis para determinar que ciudad escogeriamos, nosotros de antemano sabemos que nuestro análisis se centrara en Madrid."
      ]
    },
    {
      "cell_type": "code",
      "metadata": {
        "id": "b06vgvmTZNN8",
        "colab_type": "code",
        "colab": {
          "base_uri": "https://localhost:8080/",
          "height": 416
        },
        "outputId": "00d18093-e699-4cdd-ab03-befac0fc191a"
      },
      "source": [
        "train['City'].unique()"
      ],
      "execution_count": null,
      "outputs": [
        {
          "output_type": "execute_result",
          "data": {
            "text/plain": [
              "array(['Madrid', 'Barcelona', 'Ses Salines', 'Valldemossa', 'Costitx',\n",
              "       '马德里', 'Motilla del Palancar', 'Madrid, Comunidad de Madrid, ES',\n",
              "       'Santanyí', 'Chueca, Madrid', 'Palma', 'Sóller', 'Sant Joan',\n",
              "       'Urbanització Montferrutx', 'Aravaca (Madrid)', nan, 'Algaida',\n",
              "       'Comunidad de Madrid', 'Málaga', 'La Puebla', 'Felanitx',\n",
              "       'Son Servera', 'Illetes', 'Cala Pi', 'Inca', 'Puerto ALCUDIA',\n",
              "       'Deià', 'Alaró', 'Illes Balears', 'Pozuelo de Alarcón',\n",
              "       'Torrenova', 'Palma de Mallorca', 'Sineu', 'Can Pastilla',\n",
              "       'Pollença', 'San Fernando de Henares', 'Port de Sóller',\n",
              "       'las matas  madrid', 'Delicias', 'Cala Agulla', 'Peguera, Calvià',\n",
              "       'Calvià', 'Cala Ratjada', 'Alcúdia',\n",
              "       'Puerto Pollensa (Palma de Mallorca)', 'madrid', '馬德里',\n",
              "       'Llucmajor', 'Vallgornera', 'Centro, Madrid', 'Búger',\n",
              "       'Valderrodrigo', 'Madrid, Vallecas (Fontarrón)', 'Chueca',\n",
              "       'Magaluf', 'Son Moll', 'Can Picafort', 'Colònia de Sant Jordi',\n",
              "       'Portals Nous', 'Onil', 'Port de Soller', 'Rotes Velles',\n",
              "       'Santa Maria del Camí', 'Chiva', 'Binissalem-Mallorca DO',\n",
              "       'Pollensa', \"Port d'Andratx\", 'Manacor', 'Sa Pobla',\n",
              "       'Cala Ferrera', 'Madid', 'Madri', 'La Elipa', 'Llubí',\n",
              "       'Port de Pollença', 'Ventas', 'villa verde bajo',\n",
              "       'Sol de Mallorca', 'Colonia de Sant Pere', 'Cala Magrana',\n",
              "       'Betlem', 'MADRID', 'Colonia Sant Pere', 'Binissalem',\n",
              "       'Cala Anguila-Cala Mendia', 'Delicias-Madrid'], dtype=object)"
            ]
          },
          "metadata": {
            "tags": []
          },
          "execution_count": 31
        }
      ]
    },
    {
      "cell_type": "markdown",
      "metadata": {
        "id": "587VlAuQZNOA",
        "colab_type": "text"
      },
      "source": [
        "Como hay datos de Madrid con distintos nobres, realizamos una busqueda con contains y obtenemos el total de datos."
      ]
    },
    {
      "cell_type": "code",
      "metadata": {
        "id": "dOrjTjfsZNOA",
        "colab_type": "code",
        "colab": {}
      },
      "source": [
        "train = train[train['City'].str.contains('drid', na=False)]"
      ],
      "execution_count": null,
      "outputs": []
    },
    {
      "cell_type": "code",
      "metadata": {
        "id": "q1A0B3QgZNOF",
        "colab_type": "code",
        "colab": {
          "base_uri": "https://localhost:8080/",
          "height": 35
        },
        "outputId": "f15a3725-5505-4117-a5d4-1b4d5bc6209c"
      },
      "source": [
        "train['City'].unique()\n",
        "train.shape"
      ],
      "execution_count": null,
      "outputs": [
        {
          "output_type": "execute_result",
          "data": {
            "text/plain": [
              "(8595, 89)"
            ]
          },
          "metadata": {
            "tags": []
          },
          "execution_count": 33
        }
      ]
    },
    {
      "cell_type": "code",
      "metadata": {
        "id": "FBwGQdjuZNOI",
        "colab_type": "code",
        "colab": {
          "base_uri": "https://localhost:8080/",
          "height": 225
        },
        "outputId": "f3214571-4563-4434-bd9a-5dc857a5af93"
      },
      "source": [
        "train['City']=='Madrid'"
      ],
      "execution_count": null,
      "outputs": [
        {
          "output_type": "execute_result",
          "data": {
            "text/plain": [
              "6360     True\n",
              "12195    True\n",
              "1546     True\n",
              "9327     True\n",
              "5697     True\n",
              "         ... \n",
              "6043     True\n",
              "4093     True\n",
              "12239    True\n",
              "13440    True\n",
              "3417     True\n",
              "Name: City, Length: 8595, dtype: bool"
            ]
          },
          "metadata": {
            "tags": []
          },
          "execution_count": 34
        }
      ]
    },
    {
      "cell_type": "code",
      "metadata": {
        "id": "Y2AJMgKiZNOP",
        "colab_type": "code",
        "colab": {
          "base_uri": "https://localhost:8080/",
          "height": 35
        },
        "outputId": "3bcfabaf-6e44-4c0f-fe2a-11187bafaba3"
      },
      "source": [
        "train['City'] = train['City'].apply(lambda x: 'Madrid')\n",
        "train['City'].unique()"
      ],
      "execution_count": null,
      "outputs": [
        {
          "output_type": "execute_result",
          "data": {
            "text/plain": [
              "array(['Madrid'], dtype=object)"
            ]
          },
          "metadata": {
            "tags": []
          },
          "execution_count": 35
        }
      ]
    },
    {
      "cell_type": "code",
      "metadata": {
        "id": "xdHPwGKqZNOT",
        "colab_type": "code",
        "colab": {
          "base_uri": "https://localhost:8080/",
          "height": 35
        },
        "outputId": "3180c097-86a0-4484-9805-3986d8cab295"
      },
      "source": [
        "train.shape"
      ],
      "execution_count": null,
      "outputs": [
        {
          "output_type": "execute_result",
          "data": {
            "text/plain": [
              "(8595, 89)"
            ]
          },
          "metadata": {
            "tags": []
          },
          "execution_count": 36
        }
      ]
    },
    {
      "cell_type": "markdown",
      "metadata": {
        "id": "fU8GDnXPZNOb",
        "colab_type": "text"
      },
      "source": [
        "Cambiamos la variable objetivo al primero lugar"
      ]
    },
    {
      "cell_type": "code",
      "metadata": {
        "id": "Fy4mrvWFZNOc",
        "colab_type": "code",
        "colab": {}
      },
      "source": [
        "from pandas import DataFrame\n",
        "def move_columns(df: pd.DataFrame, cols_to_move: list, new_index: int) -> DataFrame:\n",
        "    other = [c for c in df if c not in cols_to_move]\n",
        "    start = other[0:new_index]\n",
        "    end = other[new_index:]\n",
        "    return df[start + cols_to_move + end]\n",
        "train = move_columns(train, ['Price'],0)"
      ],
      "execution_count": null,
      "outputs": []
    },
    {
      "cell_type": "code",
      "metadata": {
        "id": "o8W5LqJ5ZNOj",
        "colab_type": "code",
        "colab": {
          "base_uri": "https://localhost:8080/",
          "height": 468
        },
        "outputId": "71312510-ab80-4780-f0c8-068dfdac2406"
      },
      "source": [
        "train.columns"
      ],
      "execution_count": null,
      "outputs": [
        {
          "output_type": "execute_result",
          "data": {
            "text/plain": [
              "Index(['Price', 'ID', 'Listing Url', 'Scrape ID', 'Last Scraped', 'Name',\n",
              "       'Summary', 'Space', 'Description', 'Experiences Offered',\n",
              "       'Neighborhood Overview', 'Notes', 'Transit', 'Access', 'Interaction',\n",
              "       'House Rules', 'Thumbnail Url', 'Medium Url', 'Picture Url',\n",
              "       'XL Picture Url', 'Host ID', 'Host URL', 'Host Name', 'Host Since',\n",
              "       'Host Location', 'Host About', 'Host Response Time',\n",
              "       'Host Response Rate', 'Host Acceptance Rate', 'Host Thumbnail Url',\n",
              "       'Host Picture Url', 'Host Neighbourhood', 'Host Listings Count',\n",
              "       'Host Total Listings Count', 'Host Verifications', 'Street',\n",
              "       'Neighbourhood', 'Neighbourhood Cleansed',\n",
              "       'Neighbourhood Group Cleansed', 'City', 'State', 'Zipcode', 'Market',\n",
              "       'Smart Location', 'Country Code', 'Country', 'Latitude', 'Longitude',\n",
              "       'Property Type', 'Room Type', 'Accommodates', 'Bathrooms', 'Bedrooms',\n",
              "       'Beds', 'Bed Type', 'Amenities', 'Square Feet', 'Weekly Price',\n",
              "       'Monthly Price', 'Security Deposit', 'Cleaning Fee', 'Guests Included',\n",
              "       'Extra People', 'Minimum Nights', 'Maximum Nights', 'Calendar Updated',\n",
              "       'Has Availability', 'Availability 30', 'Availability 60',\n",
              "       'Availability 90', 'Availability 365', 'Calendar last Scraped',\n",
              "       'Number of Reviews', 'First Review', 'Last Review',\n",
              "       'Review Scores Rating', 'Review Scores Accuracy',\n",
              "       'Review Scores Cleanliness', 'Review Scores Checkin',\n",
              "       'Review Scores Communication', 'Review Scores Location',\n",
              "       'Review Scores Value', 'License', 'Jurisdiction Names',\n",
              "       'Cancellation Policy', 'Calculated host listings count',\n",
              "       'Reviews per Month', 'Geolocation', 'Features'],\n",
              "      dtype='object')"
            ]
          },
          "metadata": {
            "tags": []
          },
          "execution_count": 38
        }
      ]
    },
    {
      "cell_type": "markdown",
      "metadata": {
        "id": "C1ASC287ZNOo",
        "colab_type": "text"
      },
      "source": [
        "#Comenzamos con el análisis exploratorio de los datos para el modelo numércio y de variables categóricas \n",
        " En primero lugar eliminamos las variables que correspondan a IDs y URLs."
      ]
    },
    {
      "cell_type": "code",
      "metadata": {
        "id": "o572mQBgZNOp",
        "colab_type": "code",
        "colab": {}
      },
      "source": [
        "train = train.drop(['ID','Listing Url','Scrape ID','Thumbnail Url','Medium Url','Picture Url','XL Picture Url', 'Host ID', 'Host URL', 'Host Name','Host About', 'Host Thumbnail Url', 'Host Picture Url', 'License', 'Jurisdiction Names','Features' ],axis=1)\n"
      ],
      "execution_count": null,
      "outputs": []
    },
    {
      "cell_type": "code",
      "metadata": {
        "id": "2l_CPgp9ZNOt",
        "colab_type": "code",
        "colab": {
          "base_uri": "https://localhost:8080/",
          "height": 35
        },
        "outputId": "afa4b81d-69ab-4d73-9b03-9e48783f0416"
      },
      "source": [
        "#Vemos que hemos eliminado de las columnas\n",
        "train.shape"
      ],
      "execution_count": null,
      "outputs": [
        {
          "output_type": "execute_result",
          "data": {
            "text/plain": [
              "(8595, 73)"
            ]
          },
          "metadata": {
            "tags": []
          },
          "execution_count": 40
        }
      ]
    },
    {
      "cell_type": "markdown",
      "metadata": {
        "id": "fKtc4q_WZNOw",
        "colab_type": "text"
      },
      "source": [
        "Ahora, calculamos el número de missing que hay en cada variable y eliminamos aquellas que tienen más de un 30% de valores missing."
      ]
    },
    {
      "cell_type": "code",
      "metadata": {
        "id": "zAuR-MEDZNOx",
        "colab_type": "code",
        "colab": {}
      },
      "source": [
        "train_missing = train.isna()\n",
        "train_num_missing = train_missing.sum()\n",
        "total_per = train_num_missing / len(train)"
      ],
      "execution_count": null,
      "outputs": []
    },
    {
      "cell_type": "code",
      "metadata": {
        "id": "g7cRzTWlZNO1",
        "colab_type": "code",
        "colab": {
          "base_uri": "https://localhost:8080/",
          "height": 1000
        },
        "outputId": "5264b520-6935-4edc-cd97-18e9eb8d5cb3"
      },
      "source": [
        "for items in total_per.iteritems():\n",
        "    print(items)"
      ],
      "execution_count": null,
      "outputs": [
        {
          "output_type": "stream",
          "text": [
            "('Price', 0.00011634671320535195)\n",
            "('Last Scraped', 0.0)\n",
            "('Name', 0.0)\n",
            "('Summary', 0.03222803955788249)\n",
            "('Space', 0.2665503199534613)\n",
            "('Description', 0.0006980802792321117)\n",
            "('Experiences Offered', 0.0)\n",
            "('Neighborhood Overview', 0.3607911576497964)\n",
            "('Notes', 0.6074461896451425)\n",
            "('Transit', 0.35846422338568934)\n",
            "('Access', 0.4107038976148924)\n",
            "('Interaction', 0.4181500872600349)\n",
            "('House Rules', 0.34566608493310064)\n",
            "('Host Since', 0.0002326934264107039)\n",
            "('Host Location', 0.0032577079697498545)\n",
            "('Host Response Time', 0.11820826061663758)\n",
            "('Host Response Rate', 0.11820826061663758)\n",
            "('Host Acceptance Rate', 1.0)\n",
            "('Host Neighbourhood', 0.2545666084933101)\n",
            "('Host Listings Count', 0.0002326934264107039)\n",
            "('Host Total Listings Count', 0.0002326934264107039)\n",
            "('Host Verifications', 0.0)\n",
            "('Street', 0.0)\n",
            "('Neighbourhood', 0.3483420593368237)\n",
            "('Neighbourhood Cleansed', 0.0)\n",
            "('Neighbourhood Group Cleansed', 0.0)\n",
            "('City', 0.0)\n",
            "('State', 0.0030250145433391505)\n",
            "('Zipcode', 0.0356020942408377)\n",
            "('Market', 0.004653868528214078)\n",
            "('Smart Location', 0.0)\n",
            "('Country Code', 0.0)\n",
            "('Country', 0.0)\n",
            "('Latitude', 0.0)\n",
            "('Longitude', 0.0)\n",
            "('Property Type', 0.0)\n",
            "('Room Type', 0.0)\n",
            "('Accommodates', 0.0)\n",
            "('Bathrooms', 0.0031413612565445027)\n",
            "('Bedrooms', 0.001977894124490983)\n",
            "('Beds', 0.0034904013961605585)\n",
            "('Bed Type', 0.0)\n",
            "('Amenities', 0.006515415939499709)\n",
            "('Square Feet', 0.9640488656195463)\n",
            "('Weekly Price', 0.7621873182082606)\n",
            "('Monthly Price', 0.7725421756835369)\n",
            "('Security Deposit', 0.5849912739965096)\n",
            "('Cleaning Fee', 0.4143106457242583)\n",
            "('Guests Included', 0.0)\n",
            "('Extra People', 0.0)\n",
            "('Minimum Nights', 0.0)\n",
            "('Maximum Nights', 0.0)\n",
            "('Calendar Updated', 0.0)\n",
            "('Has Availability', 1.0)\n",
            "('Availability 30', 0.0)\n",
            "('Availability 60', 0.0)\n",
            "('Availability 90', 0.0)\n",
            "('Availability 365', 0.0)\n",
            "('Calendar last Scraped', 0.0)\n",
            "('Number of Reviews', 0.0)\n",
            "('First Review', 0.19802210587550903)\n",
            "('Last Review', 0.19802210587550903)\n",
            "('Review Scores Rating', 0.20546829552065154)\n",
            "('Review Scores Accuracy', 0.20639906922629436)\n",
            "('Review Scores Cleanliness', 0.20616637579988364)\n",
            "('Review Scores Checkin', 0.20709714950552646)\n",
            "('Review Scores Communication', 0.2060500290866783)\n",
            "('Review Scores Location', 0.2072134962187318)\n",
            "('Review Scores Value', 0.2072134962187318)\n",
            "('Cancellation Policy', 0.0)\n",
            "('Calculated host listings count', 0.0)\n",
            "('Reviews per Month', 0.19802210587550903)\n",
            "('Geolocation', 0.0)\n"
          ],
          "name": "stdout"
        }
      ]
    },
    {
      "cell_type": "code",
      "metadata": {
        "id": "7bv_oJGhZNO6",
        "colab_type": "code",
        "colab": {
          "base_uri": "https://localhost:8080/",
          "height": 260
        },
        "outputId": "a000f638-2ddf-4031-c53c-3001524d6509"
      },
      "source": [
        "listado = []\n",
        "for index, value in total_per.items():\n",
        "    if value > 0.3:\n",
        "        listado += [index]\n",
        "        print(f\"Index : {index}, Value : {value}\")\n",
        "\n"
      ],
      "execution_count": null,
      "outputs": [
        {
          "output_type": "stream",
          "text": [
            "Index : Neighborhood Overview, Value : 0.3607911576497964\n",
            "Index : Notes, Value : 0.6074461896451425\n",
            "Index : Transit, Value : 0.35846422338568934\n",
            "Index : Access, Value : 0.4107038976148924\n",
            "Index : Interaction, Value : 0.4181500872600349\n",
            "Index : House Rules, Value : 0.34566608493310064\n",
            "Index : Host Acceptance Rate, Value : 1.0\n",
            "Index : Neighbourhood, Value : 0.3483420593368237\n",
            "Index : Square Feet, Value : 0.9640488656195463\n",
            "Index : Weekly Price, Value : 0.7621873182082606\n",
            "Index : Monthly Price, Value : 0.7725421756835369\n",
            "Index : Security Deposit, Value : 0.5849912739965096\n",
            "Index : Cleaning Fee, Value : 0.4143106457242583\n",
            "Index : Has Availability, Value : 1.0\n"
          ],
          "name": "stdout"
        }
      ]
    },
    {
      "cell_type": "markdown",
      "metadata": {
        "id": "jO5-5HMqZNO-",
        "colab_type": "text"
      },
      "source": [
        "De el listado anterior no vamos a eliminar por razones obvias el BArrio, y tampoco el deposito y la limpieza, pues entendemos que auqellos pisos con estos campos vacios no cobran este servicio."
      ]
    },
    {
      "cell_type": "code",
      "metadata": {
        "id": "KtGx_pp6ZNO_",
        "colab_type": "code",
        "colab": {}
      },
      "source": [
        "train = train.drop(['Neighborhood Overview',\n",
        " 'Notes',\n",
        " 'Transit',\n",
        " 'Access',\n",
        " 'Interaction',\n",
        " 'House Rules',\n",
        " 'Host Acceptance Rate',\n",
        "  'Square Feet',\n",
        " 'Weekly Price',\n",
        " 'Monthly Price','Has Availability'\n",
        "],axis=1)"
      ],
      "execution_count": null,
      "outputs": []
    },
    {
      "cell_type": "markdown",
      "metadata": {
        "id": "LodeahxRZNPC",
        "colab_type": "text"
      },
      "source": [
        "A continuación, eliminamos aquellas variables categoricas que no puedan ser transformadas y tambien aquellas que no nos aporten información."
      ]
    },
    {
      "cell_type": "code",
      "metadata": {
        "id": "taZWIFZZZNPD",
        "colab_type": "code",
        "colab": {
          "base_uri": "https://localhost:8080/",
          "height": 347
        },
        "outputId": "519c66ea-3fde-4e16-c308-079d846e071d"
      },
      "source": [
        "train.columns"
      ],
      "execution_count": null,
      "outputs": [
        {
          "output_type": "execute_result",
          "data": {
            "text/plain": [
              "Index(['Price', 'Last Scraped', 'Name', 'Summary', 'Space', 'Description',\n",
              "       'Experiences Offered', 'Host Since', 'Host Location',\n",
              "       'Host Response Time', 'Host Response Rate', 'Host Neighbourhood',\n",
              "       'Host Listings Count', 'Host Total Listings Count',\n",
              "       'Host Verifications', 'Street', 'Neighbourhood',\n",
              "       'Neighbourhood Cleansed', 'Neighbourhood Group Cleansed', 'City',\n",
              "       'State', 'Zipcode', 'Market', 'Smart Location', 'Country Code',\n",
              "       'Country', 'Latitude', 'Longitude', 'Property Type', 'Room Type',\n",
              "       'Accommodates', 'Bathrooms', 'Bedrooms', 'Beds', 'Bed Type',\n",
              "       'Amenities', 'Security Deposit', 'Cleaning Fee', 'Guests Included',\n",
              "       'Extra People', 'Minimum Nights', 'Maximum Nights', 'Calendar Updated',\n",
              "       'Availability 30', 'Availability 60', 'Availability 90',\n",
              "       'Availability 365', 'Calendar last Scraped', 'Number of Reviews',\n",
              "       'First Review', 'Last Review', 'Review Scores Rating',\n",
              "       'Review Scores Accuracy', 'Review Scores Cleanliness',\n",
              "       'Review Scores Checkin', 'Review Scores Communication',\n",
              "       'Review Scores Location', 'Review Scores Value', 'Cancellation Policy',\n",
              "       'Calculated host listings count', 'Reviews per Month', 'Geolocation'],\n",
              "      dtype='object')"
            ]
          },
          "metadata": {
            "tags": []
          },
          "execution_count": 45
        }
      ]
    },
    {
      "cell_type": "markdown",
      "metadata": {
        "id": "dCz0C2MQg8wI",
        "colab_type": "text"
      },
      "source": [
        "Eliminamos variables que no aportan nada de informacion al dataset, para reducir de esta manera reducir de esta manera el dataset y hacer menos complejo para el modelo.\n"
      ]
    },
    {
      "cell_type": "code",
      "metadata": {
        "id": "vs8Hx7VxZNPG",
        "colab_type": "code",
        "colab": {}
      },
      "source": [
        "train = train.drop(['Last Scraped', 'Name', 'Summary', 'Space', 'Description', 'Experiences Offered',\n",
        "                 'Host Location', 'Host Neighbourhood', 'Street', 'City',\n",
        "       'State', 'Market', 'Smart Location', 'Country Code',\n",
        "       'Country', 'Calendar last Scraped', 'First Review', 'Last Review','Geolocation'\n",
        "],axis=1)"
      ],
      "execution_count": null,
      "outputs": []
    },
    {
      "cell_type": "code",
      "metadata": {
        "id": "wnK-RxK0ZNPI",
        "colab_type": "code",
        "colab": {
          "base_uri": "https://localhost:8080/",
          "height": 35
        },
        "outputId": "0996f96d-4e13-4485-debe-d54a2036ae6d"
      },
      "source": [
        "train.shape"
      ],
      "execution_count": null,
      "outputs": [
        {
          "output_type": "execute_result",
          "data": {
            "text/plain": [
              "(8595, 43)"
            ]
          },
          "metadata": {
            "tags": []
          },
          "execution_count": 47
        }
      ]
    },
    {
      "cell_type": "markdown",
      "metadata": {
        "id": "nHJ2hCg8ZNPM",
        "colab_type": "text"
      },
      "source": [
        "Como la variable de Barrio tienen muchos valores nulos, vamos a rellenarlos con los valores de la variable \"limpia\". Hay que saber de antemano, que hay muchos valores (quitando los missing) que no coinciden entre estas dos columnas, probablemente habría que hacer un análisis mas exhaustivo para comprobar de cual podemos fiarnos mas."
      ]
    },
    {
      "cell_type": "code",
      "metadata": {
        "id": "VilK0wWZZNPM",
        "colab_type": "code",
        "colab": {}
      },
      "source": [
        "#Primero hacemos un analisis"
      ],
      "execution_count": null,
      "outputs": []
    },
    {
      "cell_type": "code",
      "metadata": {
        "id": "0L9zU2j7ZNPP",
        "colab_type": "code",
        "colab": {}
      },
      "source": [
        "limpio = train['Neighbourhood Cleansed']\n",
        "no_limpio = train['Neighbourhood']"
      ],
      "execution_count": null,
      "outputs": []
    },
    {
      "cell_type": "code",
      "metadata": {
        "id": "AJCKQumbZNPU",
        "colab_type": "code",
        "colab": {}
      },
      "source": [
        "df = pd.DataFrame(train, columns=['Neighbourhood', 'Neighbourhood Cleansed'])"
      ],
      "execution_count": null,
      "outputs": []
    },
    {
      "cell_type": "code",
      "metadata": {
        "id": "EnhAfd0FZNPY",
        "colab_type": "code",
        "colab": {}
      },
      "source": [
        "df['comparativa'] = np.where((df['Neighbourhood'] != df['Neighbourhood Cleansed']), df['Neighbourhood Cleansed'], np.nan)"
      ],
      "execution_count": null,
      "outputs": []
    },
    {
      "cell_type": "code",
      "metadata": {
        "id": "IQV5VtkUZNPb",
        "colab_type": "code",
        "colab": {}
      },
      "source": [
        "def f(x):    \n",
        "   return 'yes' if x['Neighbourhood'] == x['Neighbourhood Cleansed'] else 'no'\n",
        "\n",
        "df['comparativa'] = df.apply(f, axis=1)"
      ],
      "execution_count": null,
      "outputs": []
    },
    {
      "cell_type": "code",
      "metadata": {
        "id": "hBOYIisSZNPe",
        "colab_type": "code",
        "colab": {
          "base_uri": "https://localhost:8080/",
          "height": 69
        },
        "outputId": "1aafaef2-85d9-4e16-a4a9-990a8ca39937"
      },
      "source": [
        "df['comparativa'].value_counts()"
      ],
      "execution_count": null,
      "outputs": [
        {
          "output_type": "execute_result",
          "data": {
            "text/plain": [
              "no     5418\n",
              "yes    3177\n",
              "Name: comparativa, dtype: int64"
            ]
          },
          "metadata": {
            "tags": []
          },
          "execution_count": 53
        }
      ]
    },
    {
      "cell_type": "code",
      "metadata": {
        "id": "s0C9d7YjZNPl",
        "colab_type": "code",
        "colab": {}
      },
      "source": [
        "#Hay más de 6000 valores distintos, contando con los nulos."
      ],
      "execution_count": null,
      "outputs": []
    },
    {
      "cell_type": "code",
      "metadata": {
        "id": "eeHdBFhRZNPq",
        "colab_type": "code",
        "colab": {}
      },
      "source": [
        "dfnona = df[df.Neighbourhood.notnull()]\n",
        "dfnot = dfnona[dfnona.comparativa != 'yes']"
      ],
      "execution_count": null,
      "outputs": []
    },
    {
      "cell_type": "code",
      "metadata": {
        "id": "AxZFRYU3ZNPs",
        "colab_type": "code",
        "colab": {
          "base_uri": "https://localhost:8080/",
          "height": 35
        },
        "outputId": "900223a1-3891-4ffc-a4f6-e5cab8274e08"
      },
      "source": [
        "dfnot.shape"
      ],
      "execution_count": null,
      "outputs": [
        {
          "output_type": "execute_result",
          "data": {
            "text/plain": [
              "(2424, 3)"
            ]
          },
          "metadata": {
            "tags": []
          },
          "execution_count": 56
        }
      ]
    },
    {
      "cell_type": "code",
      "metadata": {
        "id": "uV434vCWZNPv",
        "colab_type": "code",
        "colab": {}
      },
      "source": [
        "#HAy 2876 valores que son distintos entre ambas columnas, simplemente para dejar claro que nos fiamos del cleaned"
      ],
      "execution_count": null,
      "outputs": []
    },
    {
      "cell_type": "code",
      "metadata": {
        "id": "nQmjP8H4ZNPy",
        "colab_type": "code",
        "colab": {}
      },
      "source": [
        "#Quitamos los Na de barrio con los valores del dataset limpio"
      ],
      "execution_count": null,
      "outputs": []
    },
    {
      "cell_type": "code",
      "metadata": {
        "id": "WwGYy7weZNP1",
        "colab_type": "code",
        "colab": {}
      },
      "source": [
        "train['Neighbourhood'] = np.where(train['Neighbourhood'].isnull(),train['Neighbourhood Cleansed'] , train['Neighbourhood'])"
      ],
      "execution_count": null,
      "outputs": []
    },
    {
      "cell_type": "code",
      "metadata": {
        "id": "MUOxTdX2ZNP4",
        "colab_type": "code",
        "colab": {
          "base_uri": "https://localhost:8080/",
          "height": 35
        },
        "outputId": "9ab6f39e-d65d-41bf-96f4-e5f13269b6bb"
      },
      "source": [
        "train['Neighbourhood'].isnull().any()"
      ],
      "execution_count": null,
      "outputs": [
        {
          "output_type": "execute_result",
          "data": {
            "text/plain": [
              "False"
            ]
          },
          "metadata": {
            "tags": []
          },
          "execution_count": 60
        }
      ]
    },
    {
      "cell_type": "code",
      "metadata": {
        "id": "DKp591DbZNP7",
        "colab_type": "code",
        "colab": {}
      },
      "source": [
        "train = train.drop(['Neighbourhood Cleansed'\n",
        "],axis=1)"
      ],
      "execution_count": null,
      "outputs": []
    },
    {
      "cell_type": "markdown",
      "metadata": {
        "id": "z7gfGK_LZNP-",
        "colab_type": "text"
      },
      "source": [
        "Seguimos con el análisis exploratorio anañizando la correlación entre variables, como todavia tenemos muchas, utilizamos una función para darnos las top 10. Una vez obtenidas eliminamos aquellas mas correladas."
      ]
    },
    {
      "cell_type": "code",
      "metadata": {
        "id": "ey_sq0hmZNP_",
        "colab_type": "code",
        "colab": {
          "base_uri": "https://localhost:8080/",
          "height": 790
        },
        "outputId": "05a3622c-5655-4fda-d35c-6148e6d4645b"
      },
      "source": [
        "import seaborn as sns\n",
        "import pandas.util.testing as tm\n",
        "import matplotlib.pyplot as plt\n",
        "\n",
        "#Pintamos la matriz de correlacion para verlo mas claro\n",
        "# Compute the correlation matrix\n",
        "corr = np.abs(train.drop(['Price'], axis=1).corr())\n",
        "\n",
        "# Generate a mask for the upper triangle\n",
        "mask = np.zeros_like(corr, dtype=np.bool)\n",
        "mask[np.triu_indices_from(mask)] = True\n",
        "\n",
        "# Set up the matplotlib figure\n",
        "f, ax = plt.subplots(figsize=(12, 10))\n",
        "\n",
        "# Draw the heatmap with the mask and correct aspect ratio\n",
        "sns.heatmap(corr, mask=mask,vmin = 0.0, vmax=1.0, center=0.5,\n",
        "            linewidths=.1, cmap=\"YlGnBu\", cbar_kws={\"shrink\": .8})\n",
        "\n",
        "plt.show()"
      ],
      "execution_count": null,
      "outputs": [
        {
          "output_type": "stream",
          "text": [
            "/usr/local/lib/python3.6/dist-packages/statsmodels/tools/_testing.py:19: FutureWarning: pandas.util.testing is deprecated. Use the functions in the public API at pandas.testing instead.\n",
            "  import pandas.util.testing as tm\n"
          ],
          "name": "stderr"
        },
        {
          "output_type": "display_data",
          "data": {
            "image/png": "[encoded data removed]",
            "text/plain": [
              "<Figure size 864x720 with 2 Axes>"
            ]
          },
          "metadata": {
            "tags": [],
            "needs_background": "light"
          }
        }
      ]
    },
    {
      "cell_type": "code",
      "metadata": {
        "id": "6YQWGpYFZNQC",
        "colab_type": "code",
        "colab": {
          "base_uri": "https://localhost:8080/",
          "height": 355
        },
        "outputId": "288c6422-d933-4640-a821-b225cf6b3543"
      },
      "source": [
        "def top_correlation (df,n):\n",
        "    corr_matrix = df.corr()\n",
        "    correlation = (corr_matrix.where(np.triu(np.ones(corr_matrix.shape), k=1).astype(np.bool))\n",
        "                 .stack()\n",
        "                 .sort_values(ascending=False))\n",
        "    correlation = pd.DataFrame(correlation).reset_index()\n",
        "    correlation.columns=[\"Variable_1\",\"Variable_2\",\"Correlacion\"]\n",
        "    correlation = correlation.reindex(correlation.Correlacion.abs().sort_values(ascending=False).index).reset_index().drop([\"index\"],axis=1)\n",
        "    return correlation.head(n)\n",
        "\n",
        "top_correlation(train,10)"
      ],
      "execution_count": null,
      "outputs": [
        {
          "output_type": "execute_result",
          "data": {
            "text/html": [
              "<div>\n",
              "<style scoped>\n",
              "    .dataframe tbody tr th:only-of-type {\n",
              "        vertical-align: middle;\n",
              "    }\n",
              "\n",
              "    .dataframe tbody tr th {\n",
              "        vertical-align: top;\n",
              "    }\n",
              "\n",
              "    .dataframe thead th {\n",
              "        text-align: right;\n",
              "    }\n",
              "</style>\n",
              "<table border=\"1\" class=\"dataframe\">\n",
              "  <thead>\n",
              "    <tr style=\"text-align: right;\">\n",
              "      <th></th>\n",
              "      <th>Variable_1</th>\n",
              "      <th>Variable_2</th>\n",
              "      <th>Correlacion</th>\n",
              "    </tr>\n",
              "  </thead>\n",
              "  <tbody>\n",
              "    <tr>\n",
              "      <th>0</th>\n",
              "      <td>Host Listings Count</td>\n",
              "      <td>Host Total Listings Count</td>\n",
              "      <td>1.000000</td>\n",
              "    </tr>\n",
              "    <tr>\n",
              "      <th>1</th>\n",
              "      <td>Availability 60</td>\n",
              "      <td>Availability 90</td>\n",
              "      <td>0.962288</td>\n",
              "    </tr>\n",
              "    <tr>\n",
              "      <th>2</th>\n",
              "      <td>Availability 30</td>\n",
              "      <td>Availability 60</td>\n",
              "      <td>0.916294</td>\n",
              "    </tr>\n",
              "    <tr>\n",
              "      <th>3</th>\n",
              "      <td>Host Listings Count</td>\n",
              "      <td>Calculated host listings count</td>\n",
              "      <td>0.909112</td>\n",
              "    </tr>\n",
              "    <tr>\n",
              "      <th>4</th>\n",
              "      <td>Host Total Listings Count</td>\n",
              "      <td>Calculated host listings count</td>\n",
              "      <td>0.909112</td>\n",
              "    </tr>\n",
              "    <tr>\n",
              "      <th>5</th>\n",
              "      <td>Availability 30</td>\n",
              "      <td>Availability 90</td>\n",
              "      <td>0.843520</td>\n",
              "    </tr>\n",
              "    <tr>\n",
              "      <th>6</th>\n",
              "      <td>Accommodates</td>\n",
              "      <td>Beds</td>\n",
              "      <td>0.821857</td>\n",
              "    </tr>\n",
              "    <tr>\n",
              "      <th>7</th>\n",
              "      <td>Review Scores Rating</td>\n",
              "      <td>Review Scores Value</td>\n",
              "      <td>0.792022</td>\n",
              "    </tr>\n",
              "    <tr>\n",
              "      <th>8</th>\n",
              "      <td>Review Scores Rating</td>\n",
              "      <td>Review Scores Accuracy</td>\n",
              "      <td>0.734338</td>\n",
              "    </tr>\n",
              "    <tr>\n",
              "      <th>9</th>\n",
              "      <td>Review Scores Accuracy</td>\n",
              "      <td>Review Scores Value</td>\n",
              "      <td>0.717328</td>\n",
              "    </tr>\n",
              "  </tbody>\n",
              "</table>\n",
              "</div>"
            ],
            "text/plain": [
              "                  Variable_1                      Variable_2  Correlacion\n",
              "0        Host Listings Count       Host Total Listings Count     1.000000\n",
              "1            Availability 60                 Availability 90     0.962288\n",
              "2            Availability 30                 Availability 60     0.916294\n",
              "3        Host Listings Count  Calculated host listings count     0.909112\n",
              "4  Host Total Listings Count  Calculated host listings count     0.909112\n",
              "5            Availability 30                 Availability 90     0.843520\n",
              "6               Accommodates                            Beds     0.821857\n",
              "7       Review Scores Rating             Review Scores Value     0.792022\n",
              "8       Review Scores Rating          Review Scores Accuracy     0.734338\n",
              "9     Review Scores Accuracy             Review Scores Value     0.717328"
            ]
          },
          "metadata": {
            "tags": []
          },
          "execution_count": 63
        }
      ]
    },
    {
      "cell_type": "code",
      "metadata": {
        "id": "9fVyQ-yNZNQF",
        "colab_type": "code",
        "colab": {}
      },
      "source": [
        "train = train.drop(['Host Total Listings Count', 'Zipcode'\n",
        "],axis=1)"
      ],
      "execution_count": null,
      "outputs": []
    },
    {
      "cell_type": "code",
      "metadata": {
        "id": "14lb6rDBZNQK",
        "colab_type": "code",
        "colab": {
          "base_uri": "https://localhost:8080/",
          "height": 1000
        },
        "outputId": "c30e4bd9-cb66-4dbe-ddc6-7bf4a30efb01"
      },
      "source": [
        "train.head().T"
      ],
      "execution_count": null,
      "outputs": [
        {
          "output_type": "execute_result",
          "data": {
            "text/html": [
              "<div>\n",
              "<style scoped>\n",
              "    .dataframe tbody tr th:only-of-type {\n",
              "        vertical-align: middle;\n",
              "    }\n",
              "\n",
              "    .dataframe tbody tr th {\n",
              "        vertical-align: top;\n",
              "    }\n",
              "\n",
              "    .dataframe thead th {\n",
              "        text-align: right;\n",
              "    }\n",
              "</style>\n",
              "<table border=\"1\" class=\"dataframe\">\n",
              "  <thead>\n",
              "    <tr style=\"text-align: right;\">\n",
              "      <th></th>\n",
              "      <th>6360</th>\n",
              "      <th>12195</th>\n",
              "      <th>1546</th>\n",
              "      <th>9327</th>\n",
              "      <th>5697</th>\n",
              "    </tr>\n",
              "  </thead>\n",
              "  <tbody>\n",
              "    <tr>\n",
              "      <th>Price</th>\n",
              "      <td>55</td>\n",
              "      <td>55</td>\n",
              "      <td>35</td>\n",
              "      <td>100</td>\n",
              "      <td>100</td>\n",
              "    </tr>\n",
              "    <tr>\n",
              "      <th>Host Since</th>\n",
              "      <td>2017-03-26</td>\n",
              "      <td>2013-10-04</td>\n",
              "      <td>2016-05-17</td>\n",
              "      <td>2016-07-02</td>\n",
              "      <td>2015-06-05</td>\n",
              "    </tr>\n",
              "    <tr>\n",
              "      <th>Host Response Time</th>\n",
              "      <td>within a day</td>\n",
              "      <td>NaN</td>\n",
              "      <td>NaN</td>\n",
              "      <td>within a day</td>\n",
              "      <td>within a few hours</td>\n",
              "    </tr>\n",
              "    <tr>\n",
              "      <th>Host Response Rate</th>\n",
              "      <td>78</td>\n",
              "      <td>NaN</td>\n",
              "      <td>NaN</td>\n",
              "      <td>90</td>\n",
              "      <td>100</td>\n",
              "    </tr>\n",
              "    <tr>\n",
              "      <th>Host Listings Count</th>\n",
              "      <td>1</td>\n",
              "      <td>1</td>\n",
              "      <td>1</td>\n",
              "      <td>1</td>\n",
              "      <td>1</td>\n",
              "    </tr>\n",
              "    <tr>\n",
              "      <th>Host Verifications</th>\n",
              "      <td>email,phone</td>\n",
              "      <td>email,phone,reviews,jumio</td>\n",
              "      <td>email,phone,reviews</td>\n",
              "      <td>email,phone,reviews</td>\n",
              "      <td>email,phone,reviews,jumio,government_id</td>\n",
              "    </tr>\n",
              "    <tr>\n",
              "      <th>Neighbourhood</th>\n",
              "      <td>La Latina</td>\n",
              "      <td>Rios Rosas</td>\n",
              "      <td>Palos de Moguer</td>\n",
              "      <td>Argüelles</td>\n",
              "      <td>Hispanoamérica</td>\n",
              "    </tr>\n",
              "    <tr>\n",
              "      <th>Neighbourhood Group Cleansed</th>\n",
              "      <td>Centro</td>\n",
              "      <td>Chamberí</td>\n",
              "      <td>Arganzuela</td>\n",
              "      <td>Moncloa - Aravaca</td>\n",
              "      <td>Chamartín</td>\n",
              "    </tr>\n",
              "    <tr>\n",
              "      <th>Latitude</th>\n",
              "      <td>40.4116</td>\n",
              "      <td>40.442</td>\n",
              "      <td>40.406</td>\n",
              "      <td>40.4268</td>\n",
              "      <td>40.4571</td>\n",
              "    </tr>\n",
              "    <tr>\n",
              "      <th>Longitude</th>\n",
              "      <td>-3.70906</td>\n",
              "      <td>-3.69965</td>\n",
              "      <td>-3.69238</td>\n",
              "      <td>-3.72825</td>\n",
              "      <td>-3.67738</td>\n",
              "    </tr>\n",
              "    <tr>\n",
              "      <th>Property Type</th>\n",
              "      <td>Apartment</td>\n",
              "      <td>Apartment</td>\n",
              "      <td>Apartment</td>\n",
              "      <td>Apartment</td>\n",
              "      <td>House</td>\n",
              "    </tr>\n",
              "    <tr>\n",
              "      <th>Room Type</th>\n",
              "      <td>Private room</td>\n",
              "      <td>Private room</td>\n",
              "      <td>Private room</td>\n",
              "      <td>Entire home/apt</td>\n",
              "      <td>Entire home/apt</td>\n",
              "    </tr>\n",
              "    <tr>\n",
              "      <th>Accommodates</th>\n",
              "      <td>2</td>\n",
              "      <td>2</td>\n",
              "      <td>2</td>\n",
              "      <td>5</td>\n",
              "      <td>6</td>\n",
              "    </tr>\n",
              "    <tr>\n",
              "      <th>Bathrooms</th>\n",
              "      <td>1</td>\n",
              "      <td>1</td>\n",
              "      <td>1</td>\n",
              "      <td>1</td>\n",
              "      <td>2</td>\n",
              "    </tr>\n",
              "    <tr>\n",
              "      <th>Bedrooms</th>\n",
              "      <td>1</td>\n",
              "      <td>1</td>\n",
              "      <td>1</td>\n",
              "      <td>3</td>\n",
              "      <td>3</td>\n",
              "    </tr>\n",
              "    <tr>\n",
              "      <th>Beds</th>\n",
              "      <td>1</td>\n",
              "      <td>2</td>\n",
              "      <td>1</td>\n",
              "      <td>5</td>\n",
              "      <td>4</td>\n",
              "    </tr>\n",
              "    <tr>\n",
              "      <th>Bed Type</th>\n",
              "      <td>Real Bed</td>\n",
              "      <td>Real Bed</td>\n",
              "      <td>Real Bed</td>\n",
              "      <td>Real Bed</td>\n",
              "      <td>Real Bed</td>\n",
              "    </tr>\n",
              "    <tr>\n",
              "      <th>Amenities</th>\n",
              "      <td>Wireless Internet,Kitchen,Smoking allowed,Brea...</td>\n",
              "      <td>TV,Cable TV,Internet,Wireless Internet,Wheelch...</td>\n",
              "      <td>TV,Internet,Wireless Internet,Kitchen,Smoking ...</td>\n",
              "      <td>TV,Kitchen,Heating,Family/kid friendly,Washer,...</td>\n",
              "      <td>TV,Internet,Wireless Internet,Air conditioning...</td>\n",
              "    </tr>\n",
              "    <tr>\n",
              "      <th>Security Deposit</th>\n",
              "      <td>NaN</td>\n",
              "      <td>NaN</td>\n",
              "      <td>NaN</td>\n",
              "      <td>100</td>\n",
              "      <td>150</td>\n",
              "    </tr>\n",
              "    <tr>\n",
              "      <th>Cleaning Fee</th>\n",
              "      <td>NaN</td>\n",
              "      <td>NaN</td>\n",
              "      <td>NaN</td>\n",
              "      <td>NaN</td>\n",
              "      <td>40</td>\n",
              "    </tr>\n",
              "    <tr>\n",
              "      <th>Guests Included</th>\n",
              "      <td>1</td>\n",
              "      <td>1</td>\n",
              "      <td>1</td>\n",
              "      <td>1</td>\n",
              "      <td>3</td>\n",
              "    </tr>\n",
              "    <tr>\n",
              "      <th>Extra People</th>\n",
              "      <td>0</td>\n",
              "      <td>20</td>\n",
              "      <td>0</td>\n",
              "      <td>0</td>\n",
              "      <td>9</td>\n",
              "    </tr>\n",
              "    <tr>\n",
              "      <th>Minimum Nights</th>\n",
              "      <td>1</td>\n",
              "      <td>3</td>\n",
              "      <td>1</td>\n",
              "      <td>15</td>\n",
              "      <td>2</td>\n",
              "    </tr>\n",
              "    <tr>\n",
              "      <th>Maximum Nights</th>\n",
              "      <td>1125</td>\n",
              "      <td>1125</td>\n",
              "      <td>1125</td>\n",
              "      <td>1125</td>\n",
              "      <td>1125</td>\n",
              "    </tr>\n",
              "    <tr>\n",
              "      <th>Calendar Updated</th>\n",
              "      <td>5 days ago</td>\n",
              "      <td>2 months ago</td>\n",
              "      <td>today</td>\n",
              "      <td>today</td>\n",
              "      <td>5 days ago</td>\n",
              "    </tr>\n",
              "    <tr>\n",
              "      <th>Availability 30</th>\n",
              "      <td>27</td>\n",
              "      <td>29</td>\n",
              "      <td>0</td>\n",
              "      <td>1</td>\n",
              "      <td>0</td>\n",
              "    </tr>\n",
              "    <tr>\n",
              "      <th>Availability 60</th>\n",
              "      <td>57</td>\n",
              "      <td>59</td>\n",
              "      <td>15</td>\n",
              "      <td>30</td>\n",
              "      <td>0</td>\n",
              "    </tr>\n",
              "    <tr>\n",
              "      <th>Availability 90</th>\n",
              "      <td>87</td>\n",
              "      <td>89</td>\n",
              "      <td>40</td>\n",
              "      <td>60</td>\n",
              "      <td>0</td>\n",
              "    </tr>\n",
              "    <tr>\n",
              "      <th>Availability 365</th>\n",
              "      <td>88</td>\n",
              "      <td>364</td>\n",
              "      <td>40</td>\n",
              "      <td>60</td>\n",
              "      <td>275</td>\n",
              "    </tr>\n",
              "    <tr>\n",
              "      <th>Number of Reviews</th>\n",
              "      <td>0</td>\n",
              "      <td>2</td>\n",
              "      <td>5</td>\n",
              "      <td>20</td>\n",
              "      <td>51</td>\n",
              "    </tr>\n",
              "    <tr>\n",
              "      <th>Review Scores Rating</th>\n",
              "      <td>NaN</td>\n",
              "      <td>80</td>\n",
              "      <td>96</td>\n",
              "      <td>76</td>\n",
              "      <td>97</td>\n",
              "    </tr>\n",
              "    <tr>\n",
              "      <th>Review Scores Accuracy</th>\n",
              "      <td>NaN</td>\n",
              "      <td>9</td>\n",
              "      <td>10</td>\n",
              "      <td>8</td>\n",
              "      <td>10</td>\n",
              "    </tr>\n",
              "    <tr>\n",
              "      <th>Review Scores Cleanliness</th>\n",
              "      <td>NaN</td>\n",
              "      <td>9</td>\n",
              "      <td>10</td>\n",
              "      <td>7</td>\n",
              "      <td>10</td>\n",
              "    </tr>\n",
              "    <tr>\n",
              "      <th>Review Scores Checkin</th>\n",
              "      <td>NaN</td>\n",
              "      <td>10</td>\n",
              "      <td>10</td>\n",
              "      <td>9</td>\n",
              "      <td>10</td>\n",
              "    </tr>\n",
              "    <tr>\n",
              "      <th>Review Scores Communication</th>\n",
              "      <td>NaN</td>\n",
              "      <td>10</td>\n",
              "      <td>10</td>\n",
              "      <td>9</td>\n",
              "      <td>10</td>\n",
              "    </tr>\n",
              "    <tr>\n",
              "      <th>Review Scores Location</th>\n",
              "      <td>NaN</td>\n",
              "      <td>10</td>\n",
              "      <td>9</td>\n",
              "      <td>9</td>\n",
              "      <td>9</td>\n",
              "    </tr>\n",
              "    <tr>\n",
              "      <th>Review Scores Value</th>\n",
              "      <td>NaN</td>\n",
              "      <td>9</td>\n",
              "      <td>10</td>\n",
              "      <td>8</td>\n",
              "      <td>10</td>\n",
              "    </tr>\n",
              "    <tr>\n",
              "      <th>Cancellation Policy</th>\n",
              "      <td>flexible</td>\n",
              "      <td>flexible</td>\n",
              "      <td>moderate</td>\n",
              "      <td>flexible</td>\n",
              "      <td>moderate</td>\n",
              "    </tr>\n",
              "    <tr>\n",
              "      <th>Calculated host listings count</th>\n",
              "      <td>1</td>\n",
              "      <td>1</td>\n",
              "      <td>1</td>\n",
              "      <td>1</td>\n",
              "      <td>1</td>\n",
              "    </tr>\n",
              "    <tr>\n",
              "      <th>Reviews per Month</th>\n",
              "      <td>NaN</td>\n",
              "      <td>0.08</td>\n",
              "      <td>0.71</td>\n",
              "      <td>2.61</td>\n",
              "      <td>2.33</td>\n",
              "    </tr>\n",
              "  </tbody>\n",
              "</table>\n",
              "</div>"
            ],
            "text/plain": [
              "                                                                             6360  ...                                               5697\n",
              "Price                                                                          55  ...                                                100\n",
              "Host Since                                                             2017-03-26  ...                                         2015-06-05\n",
              "Host Response Time                                                   within a day  ...                                 within a few hours\n",
              "Host Response Rate                                                             78  ...                                                100\n",
              "Host Listings Count                                                             1  ...                                                  1\n",
              "Host Verifications                                                    email,phone  ...            email,phone,reviews,jumio,government_id\n",
              "Neighbourhood                                                           La Latina  ...                                     Hispanoamérica\n",
              "Neighbourhood Group Cleansed                                               Centro  ...                                          Chamartín\n",
              "Latitude                                                                  40.4116  ...                                            40.4571\n",
              "Longitude                                                                -3.70906  ...                                           -3.67738\n",
              "Property Type                                                           Apartment  ...                                              House\n",
              "Room Type                                                            Private room  ...                                    Entire home/apt\n",
              "Accommodates                                                                    2  ...                                                  6\n",
              "Bathrooms                                                                       1  ...                                                  2\n",
              "Bedrooms                                                                        1  ...                                                  3\n",
              "Beds                                                                            1  ...                                                  4\n",
              "Bed Type                                                                 Real Bed  ...                                           Real Bed\n",
              "Amenities                       Wireless Internet,Kitchen,Smoking allowed,Brea...  ...  TV,Internet,Wireless Internet,Air conditioning...\n",
              "Security Deposit                                                              NaN  ...                                                150\n",
              "Cleaning Fee                                                                  NaN  ...                                                 40\n",
              "Guests Included                                                                 1  ...                                                  3\n",
              "Extra People                                                                    0  ...                                                  9\n",
              "Minimum Nights                                                                  1  ...                                                  2\n",
              "Maximum Nights                                                               1125  ...                                               1125\n",
              "Calendar Updated                                                       5 days ago  ...                                         5 days ago\n",
              "Availability 30                                                                27  ...                                                  0\n",
              "Availability 60                                                                57  ...                                                  0\n",
              "Availability 90                                                                87  ...                                                  0\n",
              "Availability 365                                                               88  ...                                                275\n",
              "Number of Reviews                                                               0  ...                                                 51\n",
              "Review Scores Rating                                                          NaN  ...                                                 97\n",
              "Review Scores Accuracy                                                        NaN  ...                                                 10\n",
              "Review Scores Cleanliness                                                     NaN  ...                                                 10\n",
              "Review Scores Checkin                                                         NaN  ...                                                 10\n",
              "Review Scores Communication                                                   NaN  ...                                                 10\n",
              "Review Scores Location                                                        NaN  ...                                                  9\n",
              "Review Scores Value                                                           NaN  ...                                                 10\n",
              "Cancellation Policy                                                      flexible  ...                                           moderate\n",
              "Calculated host listings count                                                  1  ...                                                  1\n",
              "Reviews per Month                                                             NaN  ...                                               2.33\n",
              "\n",
              "[40 rows x 5 columns]"
            ]
          },
          "metadata": {
            "tags": []
          },
          "execution_count": 65
        }
      ]
    },
    {
      "cell_type": "markdown",
      "metadata": {
        "id": "nNhe5dSRZNQN",
        "colab_type": "text"
      },
      "source": [
        "Comenzamos a rellenar valores Nan en este caso y como comentamos anteriormente, las variables de limpieza y deposito las rellenamos con 0, puesto que entendemos que si estan vacias es porque no cobran dicho servicio.\n",
        "Sin embargo, la variable objetivo la rellenamos con la media."
      ]
    },
    {
      "cell_type": "code",
      "metadata": {
        "id": "VRaJiFvgZNQO",
        "colab_type": "code",
        "colab": {}
      },
      "source": [
        "#Rellenamos con ceros\n",
        "train[\"Cleaning Fee\"].fillna(0 , inplace=True)\n",
        "train[\"Security Deposit\"].fillna(0 , inplace=True)"
      ],
      "execution_count": null,
      "outputs": []
    },
    {
      "cell_type": "code",
      "metadata": {
        "id": "Ft4xU6H1ZNQR",
        "colab_type": "code",
        "colab": {}
      },
      "source": [
        "train[\"Price\"].fillna(train[\"Price\"].mean(), inplace=True)"
      ],
      "execution_count": null,
      "outputs": []
    },
    {
      "cell_type": "markdown",
      "metadata": {
        "id": "PMRquKwXZNQW",
        "colab_type": "text"
      },
      "source": [
        "Filtrado de la varia objetivo, utilizando describe y un boxplot, podemos ver que hay muchos outlayers. Eliminamos aquellos precios superiores a 200 (podemos aun eliminar más).\n",
        "\n",
        "Haciendo esto, sabemos que el modelo podría fallar para valores altos de precios de alquiler, pero lo hacemos a conciencia, ya que queremos que nuestro modelo funcione mejor con precios normales, que al fin y al cabo como podemos ver en el boxplot, son los que mayor presencia tienen en el dataset."
      ]
    },
    {
      "cell_type": "code",
      "metadata": {
        "id": "VJ2zzGkKZNQW",
        "colab_type": "code",
        "colab": {
          "base_uri": "https://localhost:8080/",
          "height": 173
        },
        "outputId": "de1ff5c2-ccb3-4f76-b664-4de5ee5c3ce5"
      },
      "source": [
        "train['Price'].describe()"
      ],
      "execution_count": null,
      "outputs": [
        {
          "output_type": "execute_result",
          "data": {
            "text/plain": [
              "count    8595.000000\n",
              "mean       61.945427\n",
              "std        53.320553\n",
              "min         9.000000\n",
              "25%        30.000000\n",
              "50%        50.000000\n",
              "75%        75.000000\n",
              "max       850.000000\n",
              "Name: Price, dtype: float64"
            ]
          },
          "metadata": {
            "tags": []
          },
          "execution_count": 68
        }
      ]
    },
    {
      "cell_type": "code",
      "metadata": {
        "id": "2uNWmaDpZNQb",
        "colab_type": "code",
        "colab": {
          "base_uri": "https://localhost:8080/",
          "height": 285
        },
        "outputId": "82a39b1c-6153-45ad-88b6-c95dbe72ff1d"
      },
      "source": [
        "import seaborn as sns\n",
        "sns.set(style=\"whitegrid\")\n",
        "ax = sns.boxplot(x=train[\"Price\"])"
      ],
      "execution_count": null,
      "outputs": [
        {
          "output_type": "display_data",
          "data": {
            "image/png": "[encoded data removed]",
            "text/plain": [
              "<Figure size 432x288 with 1 Axes>"
            ]
          },
          "metadata": {
            "tags": []
          }
        }
      ]
    },
    {
      "cell_type": "code",
      "metadata": {
        "id": "kMcxALDFZNQe",
        "colab_type": "code",
        "colab": {
          "base_uri": "https://localhost:8080/",
          "height": 35
        },
        "outputId": "3a3fddf4-49ce-479a-b7e6-7f8f3304204b"
      },
      "source": [
        "prueba55 = train\n",
        "train.shape"
      ],
      "execution_count": null,
      "outputs": [
        {
          "output_type": "execute_result",
          "data": {
            "text/plain": [
              "(8595, 40)"
            ]
          },
          "metadata": {
            "tags": []
          },
          "execution_count": 70
        }
      ]
    },
    {
      "cell_type": "code",
      "metadata": {
        "id": "Ra6I-Y4pZNQi",
        "colab_type": "code",
        "colab": {}
      },
      "source": [
        "my_filter2 = prueba55['Price'] < 200\n",
        "house_data_filtered = prueba55[my_filter2]"
      ],
      "execution_count": null,
      "outputs": []
    },
    {
      "cell_type": "code",
      "metadata": {
        "id": "PzHW7ezRZNQl",
        "colab_type": "code",
        "colab": {
          "base_uri": "https://localhost:8080/",
          "height": 285
        },
        "outputId": "ba11d8c4-ea24-4708-ac7e-c74e9e313cbd"
      },
      "source": [
        "import seaborn as sns\n",
        "sns.set(style=\"whitegrid\")\n",
        "ax = sns.boxplot(x=house_data_filtered[\"Price\"])"
      ],
      "execution_count": null,
      "outputs": [
        {
          "output_type": "display_data",
          "data": {
            "image/png": "[encoded data removed]",
            "text/plain": [
              "<Figure size 432x288 with 1 Axes>"
            ]
          },
          "metadata": {
            "tags": []
          }
        }
      ]
    },
    {
      "cell_type": "code",
      "metadata": {
        "id": "HdtxPLhgZNQo",
        "colab_type": "code",
        "colab": {
          "base_uri": "https://localhost:8080/",
          "height": 1000
        },
        "outputId": "618c601f-0065-4d54-ed57-c48c445bbe5a"
      },
      "source": [
        "house_data_filtered.head().T"
      ],
      "execution_count": null,
      "outputs": [
        {
          "output_type": "execute_result",
          "data": {
            "text/html": [
              "<div>\n",
              "<style scoped>\n",
              "    .dataframe tbody tr th:only-of-type {\n",
              "        vertical-align: middle;\n",
              "    }\n",
              "\n",
              "    .dataframe tbody tr th {\n",
              "        vertical-align: top;\n",
              "    }\n",
              "\n",
              "    .dataframe thead th {\n",
              "        text-align: right;\n",
              "    }\n",
              "</style>\n",
              "<table border=\"1\" class=\"dataframe\">\n",
              "  <thead>\n",
              "    <tr style=\"text-align: right;\">\n",
              "      <th></th>\n",
              "      <th>6360</th>\n",
              "      <th>12195</th>\n",
              "      <th>1546</th>\n",
              "      <th>9327</th>\n",
              "      <th>5697</th>\n",
              "    </tr>\n",
              "  </thead>\n",
              "  <tbody>\n",
              "    <tr>\n",
              "      <th>Price</th>\n",
              "      <td>55</td>\n",
              "      <td>55</td>\n",
              "      <td>35</td>\n",
              "      <td>100</td>\n",
              "      <td>100</td>\n",
              "    </tr>\n",
              "    <tr>\n",
              "      <th>Host Since</th>\n",
              "      <td>2017-03-26</td>\n",
              "      <td>2013-10-04</td>\n",
              "      <td>2016-05-17</td>\n",
              "      <td>2016-07-02</td>\n",
              "      <td>2015-06-05</td>\n",
              "    </tr>\n",
              "    <tr>\n",
              "      <th>Host Response Time</th>\n",
              "      <td>within a day</td>\n",
              "      <td>NaN</td>\n",
              "      <td>NaN</td>\n",
              "      <td>within a day</td>\n",
              "      <td>within a few hours</td>\n",
              "    </tr>\n",
              "    <tr>\n",
              "      <th>Host Response Rate</th>\n",
              "      <td>78</td>\n",
              "      <td>NaN</td>\n",
              "      <td>NaN</td>\n",
              "      <td>90</td>\n",
              "      <td>100</td>\n",
              "    </tr>\n",
              "    <tr>\n",
              "      <th>Host Listings Count</th>\n",
              "      <td>1</td>\n",
              "      <td>1</td>\n",
              "      <td>1</td>\n",
              "      <td>1</td>\n",
              "      <td>1</td>\n",
              "    </tr>\n",
              "    <tr>\n",
              "      <th>Host Verifications</th>\n",
              "      <td>email,phone</td>\n",
              "      <td>email,phone,reviews,jumio</td>\n",
              "      <td>email,phone,reviews</td>\n",
              "      <td>email,phone,reviews</td>\n",
              "      <td>email,phone,reviews,jumio,government_id</td>\n",
              "    </tr>\n",
              "    <tr>\n",
              "      <th>Neighbourhood</th>\n",
              "      <td>La Latina</td>\n",
              "      <td>Rios Rosas</td>\n",
              "      <td>Palos de Moguer</td>\n",
              "      <td>Argüelles</td>\n",
              "      <td>Hispanoamérica</td>\n",
              "    </tr>\n",
              "    <tr>\n",
              "      <th>Neighbourhood Group Cleansed</th>\n",
              "      <td>Centro</td>\n",
              "      <td>Chamberí</td>\n",
              "      <td>Arganzuela</td>\n",
              "      <td>Moncloa - Aravaca</td>\n",
              "      <td>Chamartín</td>\n",
              "    </tr>\n",
              "    <tr>\n",
              "      <th>Latitude</th>\n",
              "      <td>40.4116</td>\n",
              "      <td>40.442</td>\n",
              "      <td>40.406</td>\n",
              "      <td>40.4268</td>\n",
              "      <td>40.4571</td>\n",
              "    </tr>\n",
              "    <tr>\n",
              "      <th>Longitude</th>\n",
              "      <td>-3.70906</td>\n",
              "      <td>-3.69965</td>\n",
              "      <td>-3.69238</td>\n",
              "      <td>-3.72825</td>\n",
              "      <td>-3.67738</td>\n",
              "    </tr>\n",
              "    <tr>\n",
              "      <th>Property Type</th>\n",
              "      <td>Apartment</td>\n",
              "      <td>Apartment</td>\n",
              "      <td>Apartment</td>\n",
              "      <td>Apartment</td>\n",
              "      <td>House</td>\n",
              "    </tr>\n",
              "    <tr>\n",
              "      <th>Room Type</th>\n",
              "      <td>Private room</td>\n",
              "      <td>Private room</td>\n",
              "      <td>Private room</td>\n",
              "      <td>Entire home/apt</td>\n",
              "      <td>Entire home/apt</td>\n",
              "    </tr>\n",
              "    <tr>\n",
              "      <th>Accommodates</th>\n",
              "      <td>2</td>\n",
              "      <td>2</td>\n",
              "      <td>2</td>\n",
              "      <td>5</td>\n",
              "      <td>6</td>\n",
              "    </tr>\n",
              "    <tr>\n",
              "      <th>Bathrooms</th>\n",
              "      <td>1</td>\n",
              "      <td>1</td>\n",
              "      <td>1</td>\n",
              "      <td>1</td>\n",
              "      <td>2</td>\n",
              "    </tr>\n",
              "    <tr>\n",
              "      <th>Bedrooms</th>\n",
              "      <td>1</td>\n",
              "      <td>1</td>\n",
              "      <td>1</td>\n",
              "      <td>3</td>\n",
              "      <td>3</td>\n",
              "    </tr>\n",
              "    <tr>\n",
              "      <th>Beds</th>\n",
              "      <td>1</td>\n",
              "      <td>2</td>\n",
              "      <td>1</td>\n",
              "      <td>5</td>\n",
              "      <td>4</td>\n",
              "    </tr>\n",
              "    <tr>\n",
              "      <th>Bed Type</th>\n",
              "      <td>Real Bed</td>\n",
              "      <td>Real Bed</td>\n",
              "      <td>Real Bed</td>\n",
              "      <td>Real Bed</td>\n",
              "      <td>Real Bed</td>\n",
              "    </tr>\n",
              "    <tr>\n",
              "      <th>Amenities</th>\n",
              "      <td>Wireless Internet,Kitchen,Smoking allowed,Brea...</td>\n",
              "      <td>TV,Cable TV,Internet,Wireless Internet,Wheelch...</td>\n",
              "      <td>TV,Internet,Wireless Internet,Kitchen,Smoking ...</td>\n",
              "      <td>TV,Kitchen,Heating,Family/kid friendly,Washer,...</td>\n",
              "      <td>TV,Internet,Wireless Internet,Air conditioning...</td>\n",
              "    </tr>\n",
              "    <tr>\n",
              "      <th>Security Deposit</th>\n",
              "      <td>0</td>\n",
              "      <td>0</td>\n",
              "      <td>0</td>\n",
              "      <td>100</td>\n",
              "      <td>150</td>\n",
              "    </tr>\n",
              "    <tr>\n",
              "      <th>Cleaning Fee</th>\n",
              "      <td>0</td>\n",
              "      <td>0</td>\n",
              "      <td>0</td>\n",
              "      <td>0</td>\n",
              "      <td>40</td>\n",
              "    </tr>\n",
              "    <tr>\n",
              "      <th>Guests Included</th>\n",
              "      <td>1</td>\n",
              "      <td>1</td>\n",
              "      <td>1</td>\n",
              "      <td>1</td>\n",
              "      <td>3</td>\n",
              "    </tr>\n",
              "    <tr>\n",
              "      <th>Extra People</th>\n",
              "      <td>0</td>\n",
              "      <td>20</td>\n",
              "      <td>0</td>\n",
              "      <td>0</td>\n",
              "      <td>9</td>\n",
              "    </tr>\n",
              "    <tr>\n",
              "      <th>Minimum Nights</th>\n",
              "      <td>1</td>\n",
              "      <td>3</td>\n",
              "      <td>1</td>\n",
              "      <td>15</td>\n",
              "      <td>2</td>\n",
              "    </tr>\n",
              "    <tr>\n",
              "      <th>Maximum Nights</th>\n",
              "      <td>1125</td>\n",
              "      <td>1125</td>\n",
              "      <td>1125</td>\n",
              "      <td>1125</td>\n",
              "      <td>1125</td>\n",
              "    </tr>\n",
              "    <tr>\n",
              "      <th>Calendar Updated</th>\n",
              "      <td>5 days ago</td>\n",
              "      <td>2 months ago</td>\n",
              "      <td>today</td>\n",
              "      <td>today</td>\n",
              "      <td>5 days ago</td>\n",
              "    </tr>\n",
              "    <tr>\n",
              "      <th>Availability 30</th>\n",
              "      <td>27</td>\n",
              "      <td>29</td>\n",
              "      <td>0</td>\n",
              "      <td>1</td>\n",
              "      <td>0</td>\n",
              "    </tr>\n",
              "    <tr>\n",
              "      <th>Availability 60</th>\n",
              "      <td>57</td>\n",
              "      <td>59</td>\n",
              "      <td>15</td>\n",
              "      <td>30</td>\n",
              "      <td>0</td>\n",
              "    </tr>\n",
              "    <tr>\n",
              "      <th>Availability 90</th>\n",
              "      <td>87</td>\n",
              "      <td>89</td>\n",
              "      <td>40</td>\n",
              "      <td>60</td>\n",
              "      <td>0</td>\n",
              "    </tr>\n",
              "    <tr>\n",
              "      <th>Availability 365</th>\n",
              "      <td>88</td>\n",
              "      <td>364</td>\n",
              "      <td>40</td>\n",
              "      <td>60</td>\n",
              "      <td>275</td>\n",
              "    </tr>\n",
              "    <tr>\n",
              "      <th>Number of Reviews</th>\n",
              "      <td>0</td>\n",
              "      <td>2</td>\n",
              "      <td>5</td>\n",
              "      <td>20</td>\n",
              "      <td>51</td>\n",
              "    </tr>\n",
              "    <tr>\n",
              "      <th>Review Scores Rating</th>\n",
              "      <td>NaN</td>\n",
              "      <td>80</td>\n",
              "      <td>96</td>\n",
              "      <td>76</td>\n",
              "      <td>97</td>\n",
              "    </tr>\n",
              "    <tr>\n",
              "      <th>Review Scores Accuracy</th>\n",
              "      <td>NaN</td>\n",
              "      <td>9</td>\n",
              "      <td>10</td>\n",
              "      <td>8</td>\n",
              "      <td>10</td>\n",
              "    </tr>\n",
              "    <tr>\n",
              "      <th>Review Scores Cleanliness</th>\n",
              "      <td>NaN</td>\n",
              "      <td>9</td>\n",
              "      <td>10</td>\n",
              "      <td>7</td>\n",
              "      <td>10</td>\n",
              "    </tr>\n",
              "    <tr>\n",
              "      <th>Review Scores Checkin</th>\n",
              "      <td>NaN</td>\n",
              "      <td>10</td>\n",
              "      <td>10</td>\n",
              "      <td>9</td>\n",
              "      <td>10</td>\n",
              "    </tr>\n",
              "    <tr>\n",
              "      <th>Review Scores Communication</th>\n",
              "      <td>NaN</td>\n",
              "      <td>10</td>\n",
              "      <td>10</td>\n",
              "      <td>9</td>\n",
              "      <td>10</td>\n",
              "    </tr>\n",
              "    <tr>\n",
              "      <th>Review Scores Location</th>\n",
              "      <td>NaN</td>\n",
              "      <td>10</td>\n",
              "      <td>9</td>\n",
              "      <td>9</td>\n",
              "      <td>9</td>\n",
              "    </tr>\n",
              "    <tr>\n",
              "      <th>Review Scores Value</th>\n",
              "      <td>NaN</td>\n",
              "      <td>9</td>\n",
              "      <td>10</td>\n",
              "      <td>8</td>\n",
              "      <td>10</td>\n",
              "    </tr>\n",
              "    <tr>\n",
              "      <th>Cancellation Policy</th>\n",
              "      <td>flexible</td>\n",
              "      <td>flexible</td>\n",
              "      <td>moderate</td>\n",
              "      <td>flexible</td>\n",
              "      <td>moderate</td>\n",
              "    </tr>\n",
              "    <tr>\n",
              "      <th>Calculated host listings count</th>\n",
              "      <td>1</td>\n",
              "      <td>1</td>\n",
              "      <td>1</td>\n",
              "      <td>1</td>\n",
              "      <td>1</td>\n",
              "    </tr>\n",
              "    <tr>\n",
              "      <th>Reviews per Month</th>\n",
              "      <td>NaN</td>\n",
              "      <td>0.08</td>\n",
              "      <td>0.71</td>\n",
              "      <td>2.61</td>\n",
              "      <td>2.33</td>\n",
              "    </tr>\n",
              "  </tbody>\n",
              "</table>\n",
              "</div>"
            ],
            "text/plain": [
              "                                                                             6360  ...                                               5697\n",
              "Price                                                                          55  ...                                                100\n",
              "Host Since                                                             2017-03-26  ...                                         2015-06-05\n",
              "Host Response Time                                                   within a day  ...                                 within a few hours\n",
              "Host Response Rate                                                             78  ...                                                100\n",
              "Host Listings Count                                                             1  ...                                                  1\n",
              "Host Verifications                                                    email,phone  ...            email,phone,reviews,jumio,government_id\n",
              "Neighbourhood                                                           La Latina  ...                                     Hispanoamérica\n",
              "Neighbourhood Group Cleansed                                               Centro  ...                                          Chamartín\n",
              "Latitude                                                                  40.4116  ...                                            40.4571\n",
              "Longitude                                                                -3.70906  ...                                           -3.67738\n",
              "Property Type                                                           Apartment  ...                                              House\n",
              "Room Type                                                            Private room  ...                                    Entire home/apt\n",
              "Accommodates                                                                    2  ...                                                  6\n",
              "Bathrooms                                                                       1  ...                                                  2\n",
              "Bedrooms                                                                        1  ...                                                  3\n",
              "Beds                                                                            1  ...                                                  4\n",
              "Bed Type                                                                 Real Bed  ...                                           Real Bed\n",
              "Amenities                       Wireless Internet,Kitchen,Smoking allowed,Brea...  ...  TV,Internet,Wireless Internet,Air conditioning...\n",
              "Security Deposit                                                                0  ...                                                150\n",
              "Cleaning Fee                                                                    0  ...                                                 40\n",
              "Guests Included                                                                 1  ...                                                  3\n",
              "Extra People                                                                    0  ...                                                  9\n",
              "Minimum Nights                                                                  1  ...                                                  2\n",
              "Maximum Nights                                                               1125  ...                                               1125\n",
              "Calendar Updated                                                       5 days ago  ...                                         5 days ago\n",
              "Availability 30                                                                27  ...                                                  0\n",
              "Availability 60                                                                57  ...                                                  0\n",
              "Availability 90                                                                87  ...                                                  0\n",
              "Availability 365                                                               88  ...                                                275\n",
              "Number of Reviews                                                               0  ...                                                 51\n",
              "Review Scores Rating                                                          NaN  ...                                                 97\n",
              "Review Scores Accuracy                                                        NaN  ...                                                 10\n",
              "Review Scores Cleanliness                                                     NaN  ...                                                 10\n",
              "Review Scores Checkin                                                         NaN  ...                                                 10\n",
              "Review Scores Communication                                                   NaN  ...                                                 10\n",
              "Review Scores Location                                                        NaN  ...                                                  9\n",
              "Review Scores Value                                                           NaN  ...                                                 10\n",
              "Cancellation Policy                                                      flexible  ...                                           moderate\n",
              "Calculated host listings count                                                  1  ...                                                  1\n",
              "Reviews per Month                                                             NaN  ...                                               2.33\n",
              "\n",
              "[40 rows x 5 columns]"
            ]
          },
          "metadata": {
            "tags": []
          },
          "execution_count": 73
        }
      ]
    },
    {
      "cell_type": "code",
      "metadata": {
        "id": "SelBeTe3jEAN",
        "colab_type": "code",
        "colab": {
          "base_uri": "https://localhost:8080/",
          "height": 678
        },
        "outputId": "581f7c77-81c0-4f72-e630-be73eda85001"
      },
      "source": [
        "#house_data_filtered['Host Verifications']  =str(house_data_filtered['Host Verifications'])\n",
        "house_data_filtered"
      ],
      "execution_count": null,
      "outputs": [
        {
          "output_type": "execute_result",
          "data": {
            "text/html": [
              "<div>\n",
              "<style scoped>\n",
              "    .dataframe tbody tr th:only-of-type {\n",
              "        vertical-align: middle;\n",
              "    }\n",
              "\n",
              "    .dataframe tbody tr th {\n",
              "        vertical-align: top;\n",
              "    }\n",
              "\n",
              "    .dataframe thead th {\n",
              "        text-align: right;\n",
              "    }\n",
              "</style>\n",
              "<table border=\"1\" class=\"dataframe\">\n",
              "  <thead>\n",
              "    <tr style=\"text-align: right;\">\n",
              "      <th></th>\n",
              "      <th>Price</th>\n",
              "      <th>Host Since</th>\n",
              "      <th>Host Response Time</th>\n",
              "      <th>Host Response Rate</th>\n",
              "      <th>Host Listings Count</th>\n",
              "      <th>Host Verifications</th>\n",
              "      <th>Neighbourhood</th>\n",
              "      <th>Neighbourhood Group Cleansed</th>\n",
              "      <th>Latitude</th>\n",
              "      <th>Longitude</th>\n",
              "      <th>Property Type</th>\n",
              "      <th>Room Type</th>\n",
              "      <th>Accommodates</th>\n",
              "      <th>Bathrooms</th>\n",
              "      <th>Bedrooms</th>\n",
              "      <th>Beds</th>\n",
              "      <th>Bed Type</th>\n",
              "      <th>Amenities</th>\n",
              "      <th>Security Deposit</th>\n",
              "      <th>Cleaning Fee</th>\n",
              "      <th>Guests Included</th>\n",
              "      <th>Extra People</th>\n",
              "      <th>Minimum Nights</th>\n",
              "      <th>Maximum Nights</th>\n",
              "      <th>Calendar Updated</th>\n",
              "      <th>Availability 30</th>\n",
              "      <th>Availability 60</th>\n",
              "      <th>Availability 90</th>\n",
              "      <th>Availability 365</th>\n",
              "      <th>Number of Reviews</th>\n",
              "      <th>Review Scores Rating</th>\n",
              "      <th>Review Scores Accuracy</th>\n",
              "      <th>Review Scores Cleanliness</th>\n",
              "      <th>Review Scores Checkin</th>\n",
              "      <th>Review Scores Communication</th>\n",
              "      <th>Review Scores Location</th>\n",
              "      <th>Review Scores Value</th>\n",
              "      <th>Cancellation Policy</th>\n",
              "      <th>Calculated host listings count</th>\n",
              "      <th>Reviews per Month</th>\n",
              "    </tr>\n",
              "  </thead>\n",
              "  <tbody>\n",
              "    <tr>\n",
              "      <th>6360</th>\n",
              "      <td>55.0</td>\n",
              "      <td>2017-03-26</td>\n",
              "      <td>within a day</td>\n",
              "      <td>78.0</td>\n",
              "      <td>1.0</td>\n",
              "      <td>email,phone</td>\n",
              "      <td>La Latina</td>\n",
              "      <td>Centro</td>\n",
              "      <td>40.411607</td>\n",
              "      <td>-3.709058</td>\n",
              "      <td>Apartment</td>\n",
              "      <td>Private room</td>\n",
              "      <td>2</td>\n",
              "      <td>1.0</td>\n",
              "      <td>1.0</td>\n",
              "      <td>1.0</td>\n",
              "      <td>Real Bed</td>\n",
              "      <td>Wireless Internet,Kitchen,Smoking allowed,Brea...</td>\n",
              "      <td>0.0</td>\n",
              "      <td>0.0</td>\n",
              "      <td>1</td>\n",
              "      <td>0</td>\n",
              "      <td>1</td>\n",
              "      <td>1125</td>\n",
              "      <td>5 days ago</td>\n",
              "      <td>27</td>\n",
              "      <td>57</td>\n",
              "      <td>87</td>\n",
              "      <td>88</td>\n",
              "      <td>0</td>\n",
              "      <td>NaN</td>\n",
              "      <td>NaN</td>\n",
              "      <td>NaN</td>\n",
              "      <td>NaN</td>\n",
              "      <td>NaN</td>\n",
              "      <td>NaN</td>\n",
              "      <td>NaN</td>\n",
              "      <td>flexible</td>\n",
              "      <td>1</td>\n",
              "      <td>NaN</td>\n",
              "    </tr>\n",
              "    <tr>\n",
              "      <th>12195</th>\n",
              "      <td>55.0</td>\n",
              "      <td>2013-10-04</td>\n",
              "      <td>NaN</td>\n",
              "      <td>NaN</td>\n",
              "      <td>1.0</td>\n",
              "      <td>email,phone,reviews,jumio</td>\n",
              "      <td>Rios Rosas</td>\n",
              "      <td>Chamberí</td>\n",
              "      <td>40.441982</td>\n",
              "      <td>-3.699652</td>\n",
              "      <td>Apartment</td>\n",
              "      <td>Private room</td>\n",
              "      <td>2</td>\n",
              "      <td>1.0</td>\n",
              "      <td>1.0</td>\n",
              "      <td>2.0</td>\n",
              "      <td>Real Bed</td>\n",
              "      <td>TV,Cable TV,Internet,Wireless Internet,Wheelch...</td>\n",
              "      <td>0.0</td>\n",
              "      <td>0.0</td>\n",
              "      <td>1</td>\n",
              "      <td>20</td>\n",
              "      <td>3</td>\n",
              "      <td>1125</td>\n",
              "      <td>2 months ago</td>\n",
              "      <td>29</td>\n",
              "      <td>59</td>\n",
              "      <td>89</td>\n",
              "      <td>364</td>\n",
              "      <td>2</td>\n",
              "      <td>80.0</td>\n",
              "      <td>9.0</td>\n",
              "      <td>9.0</td>\n",
              "      <td>10.0</td>\n",
              "      <td>10.0</td>\n",
              "      <td>10.0</td>\n",
              "      <td>9.0</td>\n",
              "      <td>flexible</td>\n",
              "      <td>1</td>\n",
              "      <td>0.08</td>\n",
              "    </tr>\n",
              "    <tr>\n",
              "      <th>1546</th>\n",
              "      <td>35.0</td>\n",
              "      <td>2016-05-17</td>\n",
              "      <td>NaN</td>\n",
              "      <td>NaN</td>\n",
              "      <td>1.0</td>\n",
              "      <td>email,phone,reviews</td>\n",
              "      <td>Palos de Moguer</td>\n",
              "      <td>Arganzuela</td>\n",
              "      <td>40.406010</td>\n",
              "      <td>-3.692376</td>\n",
              "      <td>Apartment</td>\n",
              "      <td>Private room</td>\n",
              "      <td>2</td>\n",
              "      <td>1.0</td>\n",
              "      <td>1.0</td>\n",
              "      <td>1.0</td>\n",
              "      <td>Real Bed</td>\n",
              "      <td>TV,Internet,Wireless Internet,Kitchen,Smoking ...</td>\n",
              "      <td>0.0</td>\n",
              "      <td>0.0</td>\n",
              "      <td>1</td>\n",
              "      <td>0</td>\n",
              "      <td>1</td>\n",
              "      <td>1125</td>\n",
              "      <td>today</td>\n",
              "      <td>0</td>\n",
              "      <td>15</td>\n",
              "      <td>40</td>\n",
              "      <td>40</td>\n",
              "      <td>5</td>\n",
              "      <td>96.0</td>\n",
              "      <td>10.0</td>\n",
              "      <td>10.0</td>\n",
              "      <td>10.0</td>\n",
              "      <td>10.0</td>\n",
              "      <td>9.0</td>\n",
              "      <td>10.0</td>\n",
              "      <td>moderate</td>\n",
              "      <td>1</td>\n",
              "      <td>0.71</td>\n",
              "    </tr>\n",
              "    <tr>\n",
              "      <th>9327</th>\n",
              "      <td>100.0</td>\n",
              "      <td>2016-07-02</td>\n",
              "      <td>within a day</td>\n",
              "      <td>90.0</td>\n",
              "      <td>1.0</td>\n",
              "      <td>email,phone,reviews</td>\n",
              "      <td>Argüelles</td>\n",
              "      <td>Moncloa - Aravaca</td>\n",
              "      <td>40.426837</td>\n",
              "      <td>-3.728246</td>\n",
              "      <td>Apartment</td>\n",
              "      <td>Entire home/apt</td>\n",
              "      <td>5</td>\n",
              "      <td>1.0</td>\n",
              "      <td>3.0</td>\n",
              "      <td>5.0</td>\n",
              "      <td>Real Bed</td>\n",
              "      <td>TV,Kitchen,Heating,Family/kid friendly,Washer,...</td>\n",
              "      <td>100.0</td>\n",
              "      <td>0.0</td>\n",
              "      <td>1</td>\n",
              "      <td>0</td>\n",
              "      <td>15</td>\n",
              "      <td>1125</td>\n",
              "      <td>today</td>\n",
              "      <td>1</td>\n",
              "      <td>30</td>\n",
              "      <td>60</td>\n",
              "      <td>60</td>\n",
              "      <td>20</td>\n",
              "      <td>76.0</td>\n",
              "      <td>8.0</td>\n",
              "      <td>7.0</td>\n",
              "      <td>9.0</td>\n",
              "      <td>9.0</td>\n",
              "      <td>9.0</td>\n",
              "      <td>8.0</td>\n",
              "      <td>flexible</td>\n",
              "      <td>1</td>\n",
              "      <td>2.61</td>\n",
              "    </tr>\n",
              "    <tr>\n",
              "      <th>5697</th>\n",
              "      <td>100.0</td>\n",
              "      <td>2015-06-05</td>\n",
              "      <td>within a few hours</td>\n",
              "      <td>100.0</td>\n",
              "      <td>1.0</td>\n",
              "      <td>email,phone,reviews,jumio,government_id</td>\n",
              "      <td>Hispanoamérica</td>\n",
              "      <td>Chamartín</td>\n",
              "      <td>40.457101</td>\n",
              "      <td>-3.677383</td>\n",
              "      <td>House</td>\n",
              "      <td>Entire home/apt</td>\n",
              "      <td>6</td>\n",
              "      <td>2.0</td>\n",
              "      <td>3.0</td>\n",
              "      <td>4.0</td>\n",
              "      <td>Real Bed</td>\n",
              "      <td>TV,Internet,Wireless Internet,Air conditioning...</td>\n",
              "      <td>150.0</td>\n",
              "      <td>40.0</td>\n",
              "      <td>3</td>\n",
              "      <td>9</td>\n",
              "      <td>2</td>\n",
              "      <td>1125</td>\n",
              "      <td>5 days ago</td>\n",
              "      <td>0</td>\n",
              "      <td>0</td>\n",
              "      <td>0</td>\n",
              "      <td>275</td>\n",
              "      <td>51</td>\n",
              "      <td>97.0</td>\n",
              "      <td>10.0</td>\n",
              "      <td>10.0</td>\n",
              "      <td>10.0</td>\n",
              "      <td>10.0</td>\n",
              "      <td>9.0</td>\n",
              "      <td>10.0</td>\n",
              "      <td>moderate</td>\n",
              "      <td>1</td>\n",
              "      <td>2.33</td>\n",
              "    </tr>\n",
              "    <tr>\n",
              "      <th>...</th>\n",
              "      <td>...</td>\n",
              "      <td>...</td>\n",
              "      <td>...</td>\n",
              "      <td>...</td>\n",
              "      <td>...</td>\n",
              "      <td>...</td>\n",
              "      <td>...</td>\n",
              "      <td>...</td>\n",
              "      <td>...</td>\n",
              "      <td>...</td>\n",
              "      <td>...</td>\n",
              "      <td>...</td>\n",
              "      <td>...</td>\n",
              "      <td>...</td>\n",
              "      <td>...</td>\n",
              "      <td>...</td>\n",
              "      <td>...</td>\n",
              "      <td>...</td>\n",
              "      <td>...</td>\n",
              "      <td>...</td>\n",
              "      <td>...</td>\n",
              "      <td>...</td>\n",
              "      <td>...</td>\n",
              "      <td>...</td>\n",
              "      <td>...</td>\n",
              "      <td>...</td>\n",
              "      <td>...</td>\n",
              "      <td>...</td>\n",
              "      <td>...</td>\n",
              "      <td>...</td>\n",
              "      <td>...</td>\n",
              "      <td>...</td>\n",
              "      <td>...</td>\n",
              "      <td>...</td>\n",
              "      <td>...</td>\n",
              "      <td>...</td>\n",
              "      <td>...</td>\n",
              "      <td>...</td>\n",
              "      <td>...</td>\n",
              "      <td>...</td>\n",
              "    </tr>\n",
              "    <tr>\n",
              "      <th>6043</th>\n",
              "      <td>25.0</td>\n",
              "      <td>2014-06-03</td>\n",
              "      <td>within a few hours</td>\n",
              "      <td>100.0</td>\n",
              "      <td>1.0</td>\n",
              "      <td>email,phone,reviews,jumio,government_id</td>\n",
              "      <td>Peñagrande</td>\n",
              "      <td>Fuencarral - El Pardo</td>\n",
              "      <td>40.482173</td>\n",
              "      <td>-3.716390</td>\n",
              "      <td>Apartment</td>\n",
              "      <td>Private room</td>\n",
              "      <td>2</td>\n",
              "      <td>2.0</td>\n",
              "      <td>1.0</td>\n",
              "      <td>4.0</td>\n",
              "      <td>Real Bed</td>\n",
              "      <td>Internet,Wireless Internet,Kitchen,Heating,Ess...</td>\n",
              "      <td>0.0</td>\n",
              "      <td>0.0</td>\n",
              "      <td>1</td>\n",
              "      <td>0</td>\n",
              "      <td>1</td>\n",
              "      <td>1125</td>\n",
              "      <td>3 weeks ago</td>\n",
              "      <td>21</td>\n",
              "      <td>51</td>\n",
              "      <td>81</td>\n",
              "      <td>356</td>\n",
              "      <td>3</td>\n",
              "      <td>100.0</td>\n",
              "      <td>10.0</td>\n",
              "      <td>9.0</td>\n",
              "      <td>10.0</td>\n",
              "      <td>10.0</td>\n",
              "      <td>10.0</td>\n",
              "      <td>10.0</td>\n",
              "      <td>flexible</td>\n",
              "      <td>1</td>\n",
              "      <td>0.41</td>\n",
              "    </tr>\n",
              "    <tr>\n",
              "      <th>4093</th>\n",
              "      <td>39.0</td>\n",
              "      <td>2016-08-06</td>\n",
              "      <td>within a day</td>\n",
              "      <td>100.0</td>\n",
              "      <td>1.0</td>\n",
              "      <td>phone,reviews</td>\n",
              "      <td>San Diego</td>\n",
              "      <td>Puente de Vallecas</td>\n",
              "      <td>40.395309</td>\n",
              "      <td>-3.667592</td>\n",
              "      <td>Apartment</td>\n",
              "      <td>Entire home/apt</td>\n",
              "      <td>3</td>\n",
              "      <td>1.0</td>\n",
              "      <td>1.0</td>\n",
              "      <td>2.0</td>\n",
              "      <td>Real Bed</td>\n",
              "      <td>TV,Wireless Internet,Air conditioning,Kitchen,...</td>\n",
              "      <td>0.0</td>\n",
              "      <td>0.0</td>\n",
              "      <td>1</td>\n",
              "      <td>0</td>\n",
              "      <td>2</td>\n",
              "      <td>30</td>\n",
              "      <td>4 days ago</td>\n",
              "      <td>19</td>\n",
              "      <td>43</td>\n",
              "      <td>66</td>\n",
              "      <td>341</td>\n",
              "      <td>12</td>\n",
              "      <td>78.0</td>\n",
              "      <td>9.0</td>\n",
              "      <td>7.0</td>\n",
              "      <td>9.0</td>\n",
              "      <td>9.0</td>\n",
              "      <td>8.0</td>\n",
              "      <td>8.0</td>\n",
              "      <td>flexible</td>\n",
              "      <td>1</td>\n",
              "      <td>1.71</td>\n",
              "    </tr>\n",
              "    <tr>\n",
              "      <th>12239</th>\n",
              "      <td>32.0</td>\n",
              "      <td>2014-04-09</td>\n",
              "      <td>within an hour</td>\n",
              "      <td>100.0</td>\n",
              "      <td>1.0</td>\n",
              "      <td>email,phone,reviews,jumio</td>\n",
              "      <td>Barajas</td>\n",
              "      <td>Barajas</td>\n",
              "      <td>40.455856</td>\n",
              "      <td>-3.584825</td>\n",
              "      <td>Apartment</td>\n",
              "      <td>Private room</td>\n",
              "      <td>2</td>\n",
              "      <td>2.0</td>\n",
              "      <td>1.0</td>\n",
              "      <td>2.0</td>\n",
              "      <td>Real Bed</td>\n",
              "      <td>Internet,Wireless Internet,Kitchen,Smoking all...</td>\n",
              "      <td>0.0</td>\n",
              "      <td>5.0</td>\n",
              "      <td>1</td>\n",
              "      <td>0</td>\n",
              "      <td>1</td>\n",
              "      <td>1125</td>\n",
              "      <td>5 days ago</td>\n",
              "      <td>5</td>\n",
              "      <td>18</td>\n",
              "      <td>41</td>\n",
              "      <td>51</td>\n",
              "      <td>146</td>\n",
              "      <td>98.0</td>\n",
              "      <td>10.0</td>\n",
              "      <td>10.0</td>\n",
              "      <td>10.0</td>\n",
              "      <td>10.0</td>\n",
              "      <td>10.0</td>\n",
              "      <td>10.0</td>\n",
              "      <td>strict</td>\n",
              "      <td>1</td>\n",
              "      <td>13.90</td>\n",
              "    </tr>\n",
              "    <tr>\n",
              "      <th>13440</th>\n",
              "      <td>30.0</td>\n",
              "      <td>2014-11-28</td>\n",
              "      <td>within a few hours</td>\n",
              "      <td>100.0</td>\n",
              "      <td>2.0</td>\n",
              "      <td>email,phone,reviews,jumio</td>\n",
              "      <td>Adelfas</td>\n",
              "      <td>Retiro</td>\n",
              "      <td>40.398399</td>\n",
              "      <td>-3.671213</td>\n",
              "      <td>Apartment</td>\n",
              "      <td>Private room</td>\n",
              "      <td>2</td>\n",
              "      <td>2.0</td>\n",
              "      <td>1.0</td>\n",
              "      <td>1.0</td>\n",
              "      <td>Real Bed</td>\n",
              "      <td>TV,Internet,Wireless Internet,Air conditioning...</td>\n",
              "      <td>0.0</td>\n",
              "      <td>0.0</td>\n",
              "      <td>1</td>\n",
              "      <td>10</td>\n",
              "      <td>2</td>\n",
              "      <td>1125</td>\n",
              "      <td>5 days ago</td>\n",
              "      <td>8</td>\n",
              "      <td>20</td>\n",
              "      <td>46</td>\n",
              "      <td>263</td>\n",
              "      <td>27</td>\n",
              "      <td>93.0</td>\n",
              "      <td>10.0</td>\n",
              "      <td>10.0</td>\n",
              "      <td>10.0</td>\n",
              "      <td>10.0</td>\n",
              "      <td>8.0</td>\n",
              "      <td>10.0</td>\n",
              "      <td>moderate</td>\n",
              "      <td>1</td>\n",
              "      <td>0.95</td>\n",
              "    </tr>\n",
              "    <tr>\n",
              "      <th>3417</th>\n",
              "      <td>32.0</td>\n",
              "      <td>2013-10-02</td>\n",
              "      <td>within a few hours</td>\n",
              "      <td>100.0</td>\n",
              "      <td>8.0</td>\n",
              "      <td>email,phone,reviews,jumio,government_id</td>\n",
              "      <td>Embajadores</td>\n",
              "      <td>Centro</td>\n",
              "      <td>40.408193</td>\n",
              "      <td>-3.693930</td>\n",
              "      <td>Apartment</td>\n",
              "      <td>Private room</td>\n",
              "      <td>2</td>\n",
              "      <td>1.0</td>\n",
              "      <td>1.0</td>\n",
              "      <td>1.0</td>\n",
              "      <td>Real Bed</td>\n",
              "      <td>TV,Internet,Wireless Internet,Kitchen,Doorman,...</td>\n",
              "      <td>0.0</td>\n",
              "      <td>0.0</td>\n",
              "      <td>1</td>\n",
              "      <td>0</td>\n",
              "      <td>2</td>\n",
              "      <td>1125</td>\n",
              "      <td>4 days ago</td>\n",
              "      <td>5</td>\n",
              "      <td>24</td>\n",
              "      <td>45</td>\n",
              "      <td>295</td>\n",
              "      <td>127</td>\n",
              "      <td>89.0</td>\n",
              "      <td>9.0</td>\n",
              "      <td>9.0</td>\n",
              "      <td>9.0</td>\n",
              "      <td>9.0</td>\n",
              "      <td>10.0</td>\n",
              "      <td>9.0</td>\n",
              "      <td>moderate</td>\n",
              "      <td>8</td>\n",
              "      <td>4.47</td>\n",
              "    </tr>\n",
              "  </tbody>\n",
              "</table>\n",
              "<p>8389 rows × 40 columns</p>\n",
              "</div>"
            ],
            "text/plain": [
              "       Price  Host Since  ... Calculated host listings count  Reviews per Month\n",
              "6360    55.0  2017-03-26  ...                              1                NaN\n",
              "12195   55.0  2013-10-04  ...                              1               0.08\n",
              "1546    35.0  2016-05-17  ...                              1               0.71\n",
              "9327   100.0  2016-07-02  ...                              1               2.61\n",
              "5697   100.0  2015-06-05  ...                              1               2.33\n",
              "...      ...         ...  ...                            ...                ...\n",
              "6043    25.0  2014-06-03  ...                              1               0.41\n",
              "4093    39.0  2016-08-06  ...                              1               1.71\n",
              "12239   32.0  2014-04-09  ...                              1              13.90\n",
              "13440   30.0  2014-11-28  ...                              1               0.95\n",
              "3417    32.0  2013-10-02  ...                              8               4.47\n",
              "\n",
              "[8389 rows x 40 columns]"
            ]
          },
          "metadata": {
            "tags": []
          },
          "execution_count": 74
        }
      ]
    },
    {
      "cell_type": "markdown",
      "metadata": {
        "id": "jMVy_TfwZNQr",
        "colab_type": "text"
      },
      "source": [
        "Transformación de la variable Host Verifications, en este caso realizamos un count para ver por cuantas vias puede contactar el cliente con el host, de esta manera comproamos si este trabajo extra del host tiene efectos sobre el precio:"
      ]
    },
    {
      "cell_type": "code",
      "metadata": {
        "id": "iC3qAqGCZNQr",
        "colab_type": "code",
        "colab": {
          "base_uri": "https://localhost:8080/",
          "height": 121
        },
        "outputId": "50b8ef0b-c0ed-4555-aaa6-e75b9ce4c2e8"
      },
      "source": [
        "house_data_filtered['Host Verifications'] = house_data_filtered['Host Verifications'].str.count(',')"
      ],
      "execution_count": null,
      "outputs": [
        {
          "output_type": "stream",
          "text": [
            "/usr/local/lib/python3.6/dist-packages/ipykernel_launcher.py:1: SettingWithCopyWarning: \n",
            "A value is trying to be set on a copy of a slice from a DataFrame.\n",
            "Try using .loc[row_indexer,col_indexer] = value instead\n",
            "\n",
            "See the caveats in the documentation: https://pandas.pydata.org/pandas-docs/stable/user_guide/indexing.html#returning-a-view-versus-a-copy\n",
            "  \"\"\"Entry point for launching an IPython kernel.\n"
          ],
          "name": "stderr"
        }
      ]
    },
    {
      "cell_type": "code",
      "metadata": {
        "id": "85y954-nkGZ0",
        "colab_type": "code",
        "colab": {
          "base_uri": "https://localhost:8080/",
          "height": 35
        },
        "outputId": "86142a09-1d5a-49ed-eea2-ce11e87ce60f"
      },
      "source": [
        "house_data_filtered['Host Verifications'].unique()"
      ],
      "execution_count": null,
      "outputs": [
        {
          "output_type": "execute_result",
          "data": {
            "text/plain": [
              "array([1, 3, 2, 4, 0, 5, 6, 7, 8, 9])"
            ]
          },
          "metadata": {
            "tags": []
          },
          "execution_count": 76
        }
      ]
    },
    {
      "cell_type": "markdown",
      "metadata": {
        "id": "9VTAFLntZNQv",
        "colab_type": "text"
      },
      "source": [
        "Transformación de la variable Host Since, calculando la antiguedad en años del host."
      ]
    },
    {
      "cell_type": "code",
      "metadata": {
        "id": "ovhctKD8ZNQv",
        "colab_type": "code",
        "colab": {
          "base_uri": "https://localhost:8080/",
          "height": 586
        },
        "outputId": "18671f5e-58a4-452f-80b5-be7ccc636a9f"
      },
      "source": [
        "from datetime import datetime\n",
        "\n",
        "house_data_filtered['Host Since'] = pd.to_datetime(house_data_filtered['Host Since'], format=\"%Y-%m-%d\")\n",
        "house_data_filtered['Host Since'] = house_data_filtered['Host Since'].apply(lambda x: 2017 - x.year)\n",
        "house_data_filtered.head()"
      ],
      "execution_count": null,
      "outputs": [
        {
          "output_type": "stream",
          "text": [
            "/usr/local/lib/python3.6/dist-packages/ipykernel_launcher.py:3: SettingWithCopyWarning: \n",
            "A value is trying to be set on a copy of a slice from a DataFrame.\n",
            "Try using .loc[row_indexer,col_indexer] = value instead\n",
            "\n",
            "See the caveats in the documentation: https://pandas.pydata.org/pandas-docs/stable/user_guide/indexing.html#returning-a-view-versus-a-copy\n",
            "  This is separate from the ipykernel package so we can avoid doing imports until\n",
            "/usr/local/lib/python3.6/dist-packages/ipykernel_launcher.py:4: SettingWithCopyWarning: \n",
            "A value is trying to be set on a copy of a slice from a DataFrame.\n",
            "Try using .loc[row_indexer,col_indexer] = value instead\n",
            "\n",
            "See the caveats in the documentation: https://pandas.pydata.org/pandas-docs/stable/user_guide/indexing.html#returning-a-view-versus-a-copy\n",
            "  after removing the cwd from sys.path.\n"
          ],
          "name": "stderr"
        },
        {
          "output_type": "execute_result",
          "data": {
            "text/html": [
              "<div>\n",
              "<style scoped>\n",
              "    .dataframe tbody tr th:only-of-type {\n",
              "        vertical-align: middle;\n",
              "    }\n",
              "\n",
              "    .dataframe tbody tr th {\n",
              "        vertical-align: top;\n",
              "    }\n",
              "\n",
              "    .dataframe thead th {\n",
              "        text-align: right;\n",
              "    }\n",
              "</style>\n",
              "<table border=\"1\" class=\"dataframe\">\n",
              "  <thead>\n",
              "    <tr style=\"text-align: right;\">\n",
              "      <th></th>\n",
              "      <th>Price</th>\n",
              "      <th>Host Since</th>\n",
              "      <th>Host Response Time</th>\n",
              "      <th>Host Response Rate</th>\n",
              "      <th>Host Listings Count</th>\n",
              "      <th>Host Verifications</th>\n",
              "      <th>Neighbourhood</th>\n",
              "      <th>Neighbourhood Group Cleansed</th>\n",
              "      <th>Latitude</th>\n",
              "      <th>Longitude</th>\n",
              "      <th>Property Type</th>\n",
              "      <th>Room Type</th>\n",
              "      <th>Accommodates</th>\n",
              "      <th>Bathrooms</th>\n",
              "      <th>Bedrooms</th>\n",
              "      <th>Beds</th>\n",
              "      <th>Bed Type</th>\n",
              "      <th>Amenities</th>\n",
              "      <th>Security Deposit</th>\n",
              "      <th>Cleaning Fee</th>\n",
              "      <th>Guests Included</th>\n",
              "      <th>Extra People</th>\n",
              "      <th>Minimum Nights</th>\n",
              "      <th>Maximum Nights</th>\n",
              "      <th>Calendar Updated</th>\n",
              "      <th>Availability 30</th>\n",
              "      <th>Availability 60</th>\n",
              "      <th>Availability 90</th>\n",
              "      <th>Availability 365</th>\n",
              "      <th>Number of Reviews</th>\n",
              "      <th>Review Scores Rating</th>\n",
              "      <th>Review Scores Accuracy</th>\n",
              "      <th>Review Scores Cleanliness</th>\n",
              "      <th>Review Scores Checkin</th>\n",
              "      <th>Review Scores Communication</th>\n",
              "      <th>Review Scores Location</th>\n",
              "      <th>Review Scores Value</th>\n",
              "      <th>Cancellation Policy</th>\n",
              "      <th>Calculated host listings count</th>\n",
              "      <th>Reviews per Month</th>\n",
              "    </tr>\n",
              "  </thead>\n",
              "  <tbody>\n",
              "    <tr>\n",
              "      <th>6360</th>\n",
              "      <td>55.0</td>\n",
              "      <td>0.0</td>\n",
              "      <td>within a day</td>\n",
              "      <td>78.0</td>\n",
              "      <td>1.0</td>\n",
              "      <td>1</td>\n",
              "      <td>La Latina</td>\n",
              "      <td>Centro</td>\n",
              "      <td>40.411607</td>\n",
              "      <td>-3.709058</td>\n",
              "      <td>Apartment</td>\n",
              "      <td>Private room</td>\n",
              "      <td>2</td>\n",
              "      <td>1.0</td>\n",
              "      <td>1.0</td>\n",
              "      <td>1.0</td>\n",
              "      <td>Real Bed</td>\n",
              "      <td>Wireless Internet,Kitchen,Smoking allowed,Brea...</td>\n",
              "      <td>0.0</td>\n",
              "      <td>0.0</td>\n",
              "      <td>1</td>\n",
              "      <td>0</td>\n",
              "      <td>1</td>\n",
              "      <td>1125</td>\n",
              "      <td>5 days ago</td>\n",
              "      <td>27</td>\n",
              "      <td>57</td>\n",
              "      <td>87</td>\n",
              "      <td>88</td>\n",
              "      <td>0</td>\n",
              "      <td>NaN</td>\n",
              "      <td>NaN</td>\n",
              "      <td>NaN</td>\n",
              "      <td>NaN</td>\n",
              "      <td>NaN</td>\n",
              "      <td>NaN</td>\n",
              "      <td>NaN</td>\n",
              "      <td>flexible</td>\n",
              "      <td>1</td>\n",
              "      <td>NaN</td>\n",
              "    </tr>\n",
              "    <tr>\n",
              "      <th>12195</th>\n",
              "      <td>55.0</td>\n",
              "      <td>4.0</td>\n",
              "      <td>NaN</td>\n",
              "      <td>NaN</td>\n",
              "      <td>1.0</td>\n",
              "      <td>3</td>\n",
              "      <td>Rios Rosas</td>\n",
              "      <td>Chamberí</td>\n",
              "      <td>40.441982</td>\n",
              "      <td>-3.699652</td>\n",
              "      <td>Apartment</td>\n",
              "      <td>Private room</td>\n",
              "      <td>2</td>\n",
              "      <td>1.0</td>\n",
              "      <td>1.0</td>\n",
              "      <td>2.0</td>\n",
              "      <td>Real Bed</td>\n",
              "      <td>TV,Cable TV,Internet,Wireless Internet,Wheelch...</td>\n",
              "      <td>0.0</td>\n",
              "      <td>0.0</td>\n",
              "      <td>1</td>\n",
              "      <td>20</td>\n",
              "      <td>3</td>\n",
              "      <td>1125</td>\n",
              "      <td>2 months ago</td>\n",
              "      <td>29</td>\n",
              "      <td>59</td>\n",
              "      <td>89</td>\n",
              "      <td>364</td>\n",
              "      <td>2</td>\n",
              "      <td>80.0</td>\n",
              "      <td>9.0</td>\n",
              "      <td>9.0</td>\n",
              "      <td>10.0</td>\n",
              "      <td>10.0</td>\n",
              "      <td>10.0</td>\n",
              "      <td>9.0</td>\n",
              "      <td>flexible</td>\n",
              "      <td>1</td>\n",
              "      <td>0.08</td>\n",
              "    </tr>\n",
              "    <tr>\n",
              "      <th>1546</th>\n",
              "      <td>35.0</td>\n",
              "      <td>1.0</td>\n",
              "      <td>NaN</td>\n",
              "      <td>NaN</td>\n",
              "      <td>1.0</td>\n",
              "      <td>2</td>\n",
              "      <td>Palos de Moguer</td>\n",
              "      <td>Arganzuela</td>\n",
              "      <td>40.406010</td>\n",
              "      <td>-3.692376</td>\n",
              "      <td>Apartment</td>\n",
              "      <td>Private room</td>\n",
              "      <td>2</td>\n",
              "      <td>1.0</td>\n",
              "      <td>1.0</td>\n",
              "      <td>1.0</td>\n",
              "      <td>Real Bed</td>\n",
              "      <td>TV,Internet,Wireless Internet,Kitchen,Smoking ...</td>\n",
              "      <td>0.0</td>\n",
              "      <td>0.0</td>\n",
              "      <td>1</td>\n",
              "      <td>0</td>\n",
              "      <td>1</td>\n",
              "      <td>1125</td>\n",
              "      <td>today</td>\n",
              "      <td>0</td>\n",
              "      <td>15</td>\n",
              "      <td>40</td>\n",
              "      <td>40</td>\n",
              "      <td>5</td>\n",
              "      <td>96.0</td>\n",
              "      <td>10.0</td>\n",
              "      <td>10.0</td>\n",
              "      <td>10.0</td>\n",
              "      <td>10.0</td>\n",
              "      <td>9.0</td>\n",
              "      <td>10.0</td>\n",
              "      <td>moderate</td>\n",
              "      <td>1</td>\n",
              "      <td>0.71</td>\n",
              "    </tr>\n",
              "    <tr>\n",
              "      <th>9327</th>\n",
              "      <td>100.0</td>\n",
              "      <td>1.0</td>\n",
              "      <td>within a day</td>\n",
              "      <td>90.0</td>\n",
              "      <td>1.0</td>\n",
              "      <td>2</td>\n",
              "      <td>Argüelles</td>\n",
              "      <td>Moncloa - Aravaca</td>\n",
              "      <td>40.426837</td>\n",
              "      <td>-3.728246</td>\n",
              "      <td>Apartment</td>\n",
              "      <td>Entire home/apt</td>\n",
              "      <td>5</td>\n",
              "      <td>1.0</td>\n",
              "      <td>3.0</td>\n",
              "      <td>5.0</td>\n",
              "      <td>Real Bed</td>\n",
              "      <td>TV,Kitchen,Heating,Family/kid friendly,Washer,...</td>\n",
              "      <td>100.0</td>\n",
              "      <td>0.0</td>\n",
              "      <td>1</td>\n",
              "      <td>0</td>\n",
              "      <td>15</td>\n",
              "      <td>1125</td>\n",
              "      <td>today</td>\n",
              "      <td>1</td>\n",
              "      <td>30</td>\n",
              "      <td>60</td>\n",
              "      <td>60</td>\n",
              "      <td>20</td>\n",
              "      <td>76.0</td>\n",
              "      <td>8.0</td>\n",
              "      <td>7.0</td>\n",
              "      <td>9.0</td>\n",
              "      <td>9.0</td>\n",
              "      <td>9.0</td>\n",
              "      <td>8.0</td>\n",
              "      <td>flexible</td>\n",
              "      <td>1</td>\n",
              "      <td>2.61</td>\n",
              "    </tr>\n",
              "    <tr>\n",
              "      <th>5697</th>\n",
              "      <td>100.0</td>\n",
              "      <td>2.0</td>\n",
              "      <td>within a few hours</td>\n",
              "      <td>100.0</td>\n",
              "      <td>1.0</td>\n",
              "      <td>4</td>\n",
              "      <td>Hispanoamérica</td>\n",
              "      <td>Chamartín</td>\n",
              "      <td>40.457101</td>\n",
              "      <td>-3.677383</td>\n",
              "      <td>House</td>\n",
              "      <td>Entire home/apt</td>\n",
              "      <td>6</td>\n",
              "      <td>2.0</td>\n",
              "      <td>3.0</td>\n",
              "      <td>4.0</td>\n",
              "      <td>Real Bed</td>\n",
              "      <td>TV,Internet,Wireless Internet,Air conditioning...</td>\n",
              "      <td>150.0</td>\n",
              "      <td>40.0</td>\n",
              "      <td>3</td>\n",
              "      <td>9</td>\n",
              "      <td>2</td>\n",
              "      <td>1125</td>\n",
              "      <td>5 days ago</td>\n",
              "      <td>0</td>\n",
              "      <td>0</td>\n",
              "      <td>0</td>\n",
              "      <td>275</td>\n",
              "      <td>51</td>\n",
              "      <td>97.0</td>\n",
              "      <td>10.0</td>\n",
              "      <td>10.0</td>\n",
              "      <td>10.0</td>\n",
              "      <td>10.0</td>\n",
              "      <td>9.0</td>\n",
              "      <td>10.0</td>\n",
              "      <td>moderate</td>\n",
              "      <td>1</td>\n",
              "      <td>2.33</td>\n",
              "    </tr>\n",
              "  </tbody>\n",
              "</table>\n",
              "</div>"
            ],
            "text/plain": [
              "       Price  Host Since  ... Calculated host listings count  Reviews per Month\n",
              "6360    55.0         0.0  ...                              1                NaN\n",
              "12195   55.0         4.0  ...                              1               0.08\n",
              "1546    35.0         1.0  ...                              1               0.71\n",
              "9327   100.0         1.0  ...                              1               2.61\n",
              "5697   100.0         2.0  ...                              1               2.33\n",
              "\n",
              "[5 rows x 40 columns]"
            ]
          },
          "metadata": {
            "tags": []
          },
          "execution_count": 77
        }
      ]
    },
    {
      "cell_type": "markdown",
      "metadata": {
        "id": "gI5BoR7NZNQ0",
        "colab_type": "text"
      },
      "source": [
        "Transformación de la variable tiempo de respuesta, consideramos que si el campo esta vacio es porque el host tarda mas de unos cuantos días."
      ]
    },
    {
      "cell_type": "code",
      "metadata": {
        "id": "t9oNcBWZZNQ0",
        "colab_type": "code",
        "colab": {
          "base_uri": "https://localhost:8080/",
          "height": 104
        },
        "outputId": "691e294a-0f8d-4763-94ae-fcf054a88af8"
      },
      "source": [
        "house_data_filtered['Host Response Time'].value_counts()"
      ],
      "execution_count": null,
      "outputs": [
        {
          "output_type": "execute_result",
          "data": {
            "text/plain": [
              "within an hour        4950\n",
              "within a few hours    1559\n",
              "within a day           791\n",
              "a few days or more     110\n",
              "Name: Host Response Time, dtype: int64"
            ]
          },
          "metadata": {
            "tags": []
          },
          "execution_count": 78
        }
      ]
    },
    {
      "cell_type": "code",
      "metadata": {
        "id": "-vGG-gFQZNQ5",
        "colab_type": "code",
        "colab": {
          "base_uri": "https://localhost:8080/",
          "height": 695
        },
        "outputId": "2dfd32fd-2719-4aa8-f941-57e2fe7604e5"
      },
      "source": [
        "house_data_filtered[house_data_filtered['Host Response Time'].isnull()]"
      ],
      "execution_count": null,
      "outputs": [
        {
          "output_type": "execute_result",
          "data": {
            "text/html": [
              "<div>\n",
              "<style scoped>\n",
              "    .dataframe tbody tr th:only-of-type {\n",
              "        vertical-align: middle;\n",
              "    }\n",
              "\n",
              "    .dataframe tbody tr th {\n",
              "        vertical-align: top;\n",
              "    }\n",
              "\n",
              "    .dataframe thead th {\n",
              "        text-align: right;\n",
              "    }\n",
              "</style>\n",
              "<table border=\"1\" class=\"dataframe\">\n",
              "  <thead>\n",
              "    <tr style=\"text-align: right;\">\n",
              "      <th></th>\n",
              "      <th>Price</th>\n",
              "      <th>Host Since</th>\n",
              "      <th>Host Response Time</th>\n",
              "      <th>Host Response Rate</th>\n",
              "      <th>Host Listings Count</th>\n",
              "      <th>Host Verifications</th>\n",
              "      <th>Neighbourhood</th>\n",
              "      <th>Neighbourhood Group Cleansed</th>\n",
              "      <th>Latitude</th>\n",
              "      <th>Longitude</th>\n",
              "      <th>Property Type</th>\n",
              "      <th>Room Type</th>\n",
              "      <th>Accommodates</th>\n",
              "      <th>Bathrooms</th>\n",
              "      <th>Bedrooms</th>\n",
              "      <th>Beds</th>\n",
              "      <th>Bed Type</th>\n",
              "      <th>Amenities</th>\n",
              "      <th>Security Deposit</th>\n",
              "      <th>Cleaning Fee</th>\n",
              "      <th>Guests Included</th>\n",
              "      <th>Extra People</th>\n",
              "      <th>Minimum Nights</th>\n",
              "      <th>Maximum Nights</th>\n",
              "      <th>Calendar Updated</th>\n",
              "      <th>Availability 30</th>\n",
              "      <th>Availability 60</th>\n",
              "      <th>Availability 90</th>\n",
              "      <th>Availability 365</th>\n",
              "      <th>Number of Reviews</th>\n",
              "      <th>Review Scores Rating</th>\n",
              "      <th>Review Scores Accuracy</th>\n",
              "      <th>Review Scores Cleanliness</th>\n",
              "      <th>Review Scores Checkin</th>\n",
              "      <th>Review Scores Communication</th>\n",
              "      <th>Review Scores Location</th>\n",
              "      <th>Review Scores Value</th>\n",
              "      <th>Cancellation Policy</th>\n",
              "      <th>Calculated host listings count</th>\n",
              "      <th>Reviews per Month</th>\n",
              "    </tr>\n",
              "  </thead>\n",
              "  <tbody>\n",
              "    <tr>\n",
              "      <th>12195</th>\n",
              "      <td>55.0</td>\n",
              "      <td>4.0</td>\n",
              "      <td>NaN</td>\n",
              "      <td>NaN</td>\n",
              "      <td>1.0</td>\n",
              "      <td>3</td>\n",
              "      <td>Rios Rosas</td>\n",
              "      <td>Chamberí</td>\n",
              "      <td>40.441982</td>\n",
              "      <td>-3.699652</td>\n",
              "      <td>Apartment</td>\n",
              "      <td>Private room</td>\n",
              "      <td>2</td>\n",
              "      <td>1.0</td>\n",
              "      <td>1.0</td>\n",
              "      <td>2.0</td>\n",
              "      <td>Real Bed</td>\n",
              "      <td>TV,Cable TV,Internet,Wireless Internet,Wheelch...</td>\n",
              "      <td>0.0</td>\n",
              "      <td>0.0</td>\n",
              "      <td>1</td>\n",
              "      <td>20</td>\n",
              "      <td>3</td>\n",
              "      <td>1125</td>\n",
              "      <td>2 months ago</td>\n",
              "      <td>29</td>\n",
              "      <td>59</td>\n",
              "      <td>89</td>\n",
              "      <td>364</td>\n",
              "      <td>2</td>\n",
              "      <td>80.0</td>\n",
              "      <td>9.0</td>\n",
              "      <td>9.0</td>\n",
              "      <td>10.0</td>\n",
              "      <td>10.0</td>\n",
              "      <td>10.0</td>\n",
              "      <td>9.0</td>\n",
              "      <td>flexible</td>\n",
              "      <td>1</td>\n",
              "      <td>0.08</td>\n",
              "    </tr>\n",
              "    <tr>\n",
              "      <th>1546</th>\n",
              "      <td>35.0</td>\n",
              "      <td>1.0</td>\n",
              "      <td>NaN</td>\n",
              "      <td>NaN</td>\n",
              "      <td>1.0</td>\n",
              "      <td>2</td>\n",
              "      <td>Palos de Moguer</td>\n",
              "      <td>Arganzuela</td>\n",
              "      <td>40.406010</td>\n",
              "      <td>-3.692376</td>\n",
              "      <td>Apartment</td>\n",
              "      <td>Private room</td>\n",
              "      <td>2</td>\n",
              "      <td>1.0</td>\n",
              "      <td>1.0</td>\n",
              "      <td>1.0</td>\n",
              "      <td>Real Bed</td>\n",
              "      <td>TV,Internet,Wireless Internet,Kitchen,Smoking ...</td>\n",
              "      <td>0.0</td>\n",
              "      <td>0.0</td>\n",
              "      <td>1</td>\n",
              "      <td>0</td>\n",
              "      <td>1</td>\n",
              "      <td>1125</td>\n",
              "      <td>today</td>\n",
              "      <td>0</td>\n",
              "      <td>15</td>\n",
              "      <td>40</td>\n",
              "      <td>40</td>\n",
              "      <td>5</td>\n",
              "      <td>96.0</td>\n",
              "      <td>10.0</td>\n",
              "      <td>10.0</td>\n",
              "      <td>10.0</td>\n",
              "      <td>10.0</td>\n",
              "      <td>9.0</td>\n",
              "      <td>10.0</td>\n",
              "      <td>moderate</td>\n",
              "      <td>1</td>\n",
              "      <td>0.71</td>\n",
              "    </tr>\n",
              "    <tr>\n",
              "      <th>13787</th>\n",
              "      <td>80.0</td>\n",
              "      <td>0.0</td>\n",
              "      <td>NaN</td>\n",
              "      <td>NaN</td>\n",
              "      <td>1.0</td>\n",
              "      <td>0</td>\n",
              "      <td>Goya</td>\n",
              "      <td>Salamanca</td>\n",
              "      <td>40.425439</td>\n",
              "      <td>-3.678507</td>\n",
              "      <td>Apartment</td>\n",
              "      <td>Entire home/apt</td>\n",
              "      <td>4</td>\n",
              "      <td>1.0</td>\n",
              "      <td>2.0</td>\n",
              "      <td>2.0</td>\n",
              "      <td>Real Bed</td>\n",
              "      <td>TV,Wireless Internet,Kitchen,Smoking allowed,P...</td>\n",
              "      <td>0.0</td>\n",
              "      <td>0.0</td>\n",
              "      <td>1</td>\n",
              "      <td>0</td>\n",
              "      <td>1</td>\n",
              "      <td>7</td>\n",
              "      <td>today</td>\n",
              "      <td>11</td>\n",
              "      <td>41</td>\n",
              "      <td>71</td>\n",
              "      <td>162</td>\n",
              "      <td>0</td>\n",
              "      <td>NaN</td>\n",
              "      <td>NaN</td>\n",
              "      <td>NaN</td>\n",
              "      <td>NaN</td>\n",
              "      <td>NaN</td>\n",
              "      <td>NaN</td>\n",
              "      <td>NaN</td>\n",
              "      <td>flexible</td>\n",
              "      <td>1</td>\n",
              "      <td>NaN</td>\n",
              "    </tr>\n",
              "    <tr>\n",
              "      <th>9371</th>\n",
              "      <td>22.0</td>\n",
              "      <td>5.0</td>\n",
              "      <td>NaN</td>\n",
              "      <td>NaN</td>\n",
              "      <td>1.0</td>\n",
              "      <td>2</td>\n",
              "      <td>Malasaña</td>\n",
              "      <td>Centro</td>\n",
              "      <td>40.428122</td>\n",
              "      <td>-3.703898</td>\n",
              "      <td>Apartment</td>\n",
              "      <td>Private room</td>\n",
              "      <td>1</td>\n",
              "      <td>1.0</td>\n",
              "      <td>1.0</td>\n",
              "      <td>1.0</td>\n",
              "      <td>Real Bed</td>\n",
              "      <td>TV,Internet,Wireless Internet,Air conditioning...</td>\n",
              "      <td>0.0</td>\n",
              "      <td>0.0</td>\n",
              "      <td>1</td>\n",
              "      <td>0</td>\n",
              "      <td>20</td>\n",
              "      <td>1125</td>\n",
              "      <td>3 months ago</td>\n",
              "      <td>0</td>\n",
              "      <td>0</td>\n",
              "      <td>0</td>\n",
              "      <td>0</td>\n",
              "      <td>0</td>\n",
              "      <td>NaN</td>\n",
              "      <td>NaN</td>\n",
              "      <td>NaN</td>\n",
              "      <td>NaN</td>\n",
              "      <td>NaN</td>\n",
              "      <td>NaN</td>\n",
              "      <td>NaN</td>\n",
              "      <td>strict</td>\n",
              "      <td>1</td>\n",
              "      <td>NaN</td>\n",
              "    </tr>\n",
              "    <tr>\n",
              "      <th>10056</th>\n",
              "      <td>30.0</td>\n",
              "      <td>2.0</td>\n",
              "      <td>NaN</td>\n",
              "      <td>NaN</td>\n",
              "      <td>1.0</td>\n",
              "      <td>1</td>\n",
              "      <td>Argüelles</td>\n",
              "      <td>Moncloa - Aravaca</td>\n",
              "      <td>40.426854</td>\n",
              "      <td>-3.714621</td>\n",
              "      <td>House</td>\n",
              "      <td>Private room</td>\n",
              "      <td>2</td>\n",
              "      <td>1.0</td>\n",
              "      <td>1.0</td>\n",
              "      <td>2.0</td>\n",
              "      <td>Real Bed</td>\n",
              "      <td>TV,Cable TV,Internet,Wireless Internet,Smoking...</td>\n",
              "      <td>0.0</td>\n",
              "      <td>0.0</td>\n",
              "      <td>1</td>\n",
              "      <td>0</td>\n",
              "      <td>1</td>\n",
              "      <td>1125</td>\n",
              "      <td>22 months ago</td>\n",
              "      <td>0</td>\n",
              "      <td>0</td>\n",
              "      <td>0</td>\n",
              "      <td>0</td>\n",
              "      <td>0</td>\n",
              "      <td>NaN</td>\n",
              "      <td>NaN</td>\n",
              "      <td>NaN</td>\n",
              "      <td>NaN</td>\n",
              "      <td>NaN</td>\n",
              "      <td>NaN</td>\n",
              "      <td>NaN</td>\n",
              "      <td>flexible</td>\n",
              "      <td>1</td>\n",
              "      <td>NaN</td>\n",
              "    </tr>\n",
              "    <tr>\n",
              "      <th>...</th>\n",
              "      <td>...</td>\n",
              "      <td>...</td>\n",
              "      <td>...</td>\n",
              "      <td>...</td>\n",
              "      <td>...</td>\n",
              "      <td>...</td>\n",
              "      <td>...</td>\n",
              "      <td>...</td>\n",
              "      <td>...</td>\n",
              "      <td>...</td>\n",
              "      <td>...</td>\n",
              "      <td>...</td>\n",
              "      <td>...</td>\n",
              "      <td>...</td>\n",
              "      <td>...</td>\n",
              "      <td>...</td>\n",
              "      <td>...</td>\n",
              "      <td>...</td>\n",
              "      <td>...</td>\n",
              "      <td>...</td>\n",
              "      <td>...</td>\n",
              "      <td>...</td>\n",
              "      <td>...</td>\n",
              "      <td>...</td>\n",
              "      <td>...</td>\n",
              "      <td>...</td>\n",
              "      <td>...</td>\n",
              "      <td>...</td>\n",
              "      <td>...</td>\n",
              "      <td>...</td>\n",
              "      <td>...</td>\n",
              "      <td>...</td>\n",
              "      <td>...</td>\n",
              "      <td>...</td>\n",
              "      <td>...</td>\n",
              "      <td>...</td>\n",
              "      <td>...</td>\n",
              "      <td>...</td>\n",
              "      <td>...</td>\n",
              "      <td>...</td>\n",
              "    </tr>\n",
              "    <tr>\n",
              "      <th>890</th>\n",
              "      <td>36.0</td>\n",
              "      <td>0.0</td>\n",
              "      <td>NaN</td>\n",
              "      <td>NaN</td>\n",
              "      <td>26.0</td>\n",
              "      <td>5</td>\n",
              "      <td>Sol</td>\n",
              "      <td>Centro</td>\n",
              "      <td>40.418770</td>\n",
              "      <td>-3.706361</td>\n",
              "      <td>Apartment</td>\n",
              "      <td>Private room</td>\n",
              "      <td>1</td>\n",
              "      <td>3.0</td>\n",
              "      <td>1.0</td>\n",
              "      <td>1.0</td>\n",
              "      <td>Real Bed</td>\n",
              "      <td>TV,Wireless Internet,Kitchen,Elevator in build...</td>\n",
              "      <td>200.0</td>\n",
              "      <td>30.0</td>\n",
              "      <td>1</td>\n",
              "      <td>0</td>\n",
              "      <td>7</td>\n",
              "      <td>1125</td>\n",
              "      <td>yesterday</td>\n",
              "      <td>0</td>\n",
              "      <td>6</td>\n",
              "      <td>36</td>\n",
              "      <td>311</td>\n",
              "      <td>0</td>\n",
              "      <td>NaN</td>\n",
              "      <td>NaN</td>\n",
              "      <td>NaN</td>\n",
              "      <td>NaN</td>\n",
              "      <td>NaN</td>\n",
              "      <td>NaN</td>\n",
              "      <td>NaN</td>\n",
              "      <td>strict</td>\n",
              "      <td>26</td>\n",
              "      <td>NaN</td>\n",
              "    </tr>\n",
              "    <tr>\n",
              "      <th>8346</th>\n",
              "      <td>80.0</td>\n",
              "      <td>2.0</td>\n",
              "      <td>NaN</td>\n",
              "      <td>NaN</td>\n",
              "      <td>1.0</td>\n",
              "      <td>1</td>\n",
              "      <td>Fuente del Berro</td>\n",
              "      <td>Salamanca</td>\n",
              "      <td>40.423267</td>\n",
              "      <td>-3.667500</td>\n",
              "      <td>Apartment</td>\n",
              "      <td>Entire home/apt</td>\n",
              "      <td>2</td>\n",
              "      <td>1.0</td>\n",
              "      <td>1.0</td>\n",
              "      <td>1.0</td>\n",
              "      <td>Real Bed</td>\n",
              "      <td>TV,Internet,Wireless Internet,Air conditioning...</td>\n",
              "      <td>0.0</td>\n",
              "      <td>0.0</td>\n",
              "      <td>1</td>\n",
              "      <td>0</td>\n",
              "      <td>1</td>\n",
              "      <td>1125</td>\n",
              "      <td>22 months ago</td>\n",
              "      <td>0</td>\n",
              "      <td>0</td>\n",
              "      <td>0</td>\n",
              "      <td>0</td>\n",
              "      <td>0</td>\n",
              "      <td>NaN</td>\n",
              "      <td>NaN</td>\n",
              "      <td>NaN</td>\n",
              "      <td>NaN</td>\n",
              "      <td>NaN</td>\n",
              "      <td>NaN</td>\n",
              "      <td>NaN</td>\n",
              "      <td>flexible</td>\n",
              "      <td>1</td>\n",
              "      <td>NaN</td>\n",
              "    </tr>\n",
              "    <tr>\n",
              "      <th>6033</th>\n",
              "      <td>16.0</td>\n",
              "      <td>5.0</td>\n",
              "      <td>NaN</td>\n",
              "      <td>NaN</td>\n",
              "      <td>1.0</td>\n",
              "      <td>5</td>\n",
              "      <td>Puente de Vallecas</td>\n",
              "      <td>Puente de Vallecas</td>\n",
              "      <td>40.380070</td>\n",
              "      <td>-3.654277</td>\n",
              "      <td>Other</td>\n",
              "      <td>Private room</td>\n",
              "      <td>2</td>\n",
              "      <td>1.5</td>\n",
              "      <td>1.0</td>\n",
              "      <td>1.0</td>\n",
              "      <td>Real Bed</td>\n",
              "      <td>TV,Internet,Wireless Internet,Air conditioning...</td>\n",
              "      <td>0.0</td>\n",
              "      <td>17.0</td>\n",
              "      <td>1</td>\n",
              "      <td>9</td>\n",
              "      <td>2</td>\n",
              "      <td>6</td>\n",
              "      <td>5 weeks ago</td>\n",
              "      <td>12</td>\n",
              "      <td>36</td>\n",
              "      <td>66</td>\n",
              "      <td>66</td>\n",
              "      <td>23</td>\n",
              "      <td>95.0</td>\n",
              "      <td>10.0</td>\n",
              "      <td>10.0</td>\n",
              "      <td>10.0</td>\n",
              "      <td>10.0</td>\n",
              "      <td>9.0</td>\n",
              "      <td>10.0</td>\n",
              "      <td>strict</td>\n",
              "      <td>1</td>\n",
              "      <td>0.40</td>\n",
              "    </tr>\n",
              "    <tr>\n",
              "      <th>2709</th>\n",
              "      <td>20.0</td>\n",
              "      <td>5.0</td>\n",
              "      <td>NaN</td>\n",
              "      <td>NaN</td>\n",
              "      <td>2.0</td>\n",
              "      <td>5</td>\n",
              "      <td>Berruguete</td>\n",
              "      <td>Tetuán</td>\n",
              "      <td>40.457699</td>\n",
              "      <td>-3.704649</td>\n",
              "      <td>House</td>\n",
              "      <td>Private room</td>\n",
              "      <td>1</td>\n",
              "      <td>1.0</td>\n",
              "      <td>1.0</td>\n",
              "      <td>1.0</td>\n",
              "      <td>Real Bed</td>\n",
              "      <td>TV,Internet,Kitchen,Pets live on this property...</td>\n",
              "      <td>0.0</td>\n",
              "      <td>5.0</td>\n",
              "      <td>1</td>\n",
              "      <td>0</td>\n",
              "      <td>1</td>\n",
              "      <td>1125</td>\n",
              "      <td>3 weeks ago</td>\n",
              "      <td>30</td>\n",
              "      <td>60</td>\n",
              "      <td>90</td>\n",
              "      <td>365</td>\n",
              "      <td>4</td>\n",
              "      <td>95.0</td>\n",
              "      <td>9.0</td>\n",
              "      <td>8.0</td>\n",
              "      <td>9.0</td>\n",
              "      <td>10.0</td>\n",
              "      <td>9.0</td>\n",
              "      <td>9.0</td>\n",
              "      <td>flexible</td>\n",
              "      <td>2</td>\n",
              "      <td>0.22</td>\n",
              "    </tr>\n",
              "    <tr>\n",
              "      <th>5461</th>\n",
              "      <td>35.0</td>\n",
              "      <td>1.0</td>\n",
              "      <td>NaN</td>\n",
              "      <td>NaN</td>\n",
              "      <td>1.0</td>\n",
              "      <td>2</td>\n",
              "      <td>Argüelles</td>\n",
              "      <td>Moncloa - Aravaca</td>\n",
              "      <td>40.425977</td>\n",
              "      <td>-3.713978</td>\n",
              "      <td>House</td>\n",
              "      <td>Private room</td>\n",
              "      <td>1</td>\n",
              "      <td>1.0</td>\n",
              "      <td>1.0</td>\n",
              "      <td>1.0</td>\n",
              "      <td>Real Bed</td>\n",
              "      <td>Wireless Internet,Kitchen,Heating,Essentials,S...</td>\n",
              "      <td>0.0</td>\n",
              "      <td>0.0</td>\n",
              "      <td>1</td>\n",
              "      <td>0</td>\n",
              "      <td>2</td>\n",
              "      <td>4</td>\n",
              "      <td>6 weeks ago</td>\n",
              "      <td>29</td>\n",
              "      <td>59</td>\n",
              "      <td>89</td>\n",
              "      <td>364</td>\n",
              "      <td>0</td>\n",
              "      <td>NaN</td>\n",
              "      <td>NaN</td>\n",
              "      <td>NaN</td>\n",
              "      <td>NaN</td>\n",
              "      <td>NaN</td>\n",
              "      <td>NaN</td>\n",
              "      <td>NaN</td>\n",
              "      <td>flexible</td>\n",
              "      <td>1</td>\n",
              "      <td>NaN</td>\n",
              "    </tr>\n",
              "  </tbody>\n",
              "</table>\n",
              "<p>979 rows × 40 columns</p>\n",
              "</div>"
            ],
            "text/plain": [
              "       Price  Host Since  ... Calculated host listings count  Reviews per Month\n",
              "12195   55.0         4.0  ...                              1               0.08\n",
              "1546    35.0         1.0  ...                              1               0.71\n",
              "13787   80.0         0.0  ...                              1                NaN\n",
              "9371    22.0         5.0  ...                              1                NaN\n",
              "10056   30.0         2.0  ...                              1                NaN\n",
              "...      ...         ...  ...                            ...                ...\n",
              "890     36.0         0.0  ...                             26                NaN\n",
              "8346    80.0         2.0  ...                              1                NaN\n",
              "6033    16.0         5.0  ...                              1               0.40\n",
              "2709    20.0         5.0  ...                              2               0.22\n",
              "5461    35.0         1.0  ...                              1                NaN\n",
              "\n",
              "[979 rows x 40 columns]"
            ]
          },
          "metadata": {
            "tags": []
          },
          "execution_count": 79
        }
      ]
    },
    {
      "cell_type": "code",
      "metadata": {
        "id": "_iVpjle1ZNQ8",
        "colab_type": "code",
        "colab": {
          "base_uri": "https://localhost:8080/",
          "height": 104
        },
        "outputId": "feb82586-1493-467c-d3a3-aeb7f5a8d645"
      },
      "source": [
        "house_data_filtered['Host Response Time'].fillna('a few days or more', inplace=True)"
      ],
      "execution_count": null,
      "outputs": [
        {
          "output_type": "stream",
          "text": [
            "/usr/local/lib/python3.6/dist-packages/pandas/core/generic.py:6245: SettingWithCopyWarning: \n",
            "A value is trying to be set on a copy of a slice from a DataFrame\n",
            "\n",
            "See the caveats in the documentation: https://pandas.pydata.org/pandas-docs/stable/user_guide/indexing.html#returning-a-view-versus-a-copy\n",
            "  self._update_inplace(new_data)\n"
          ],
          "name": "stderr"
        }
      ]
    },
    {
      "cell_type": "code",
      "metadata": {
        "id": "d7wyeH12ZNQ-",
        "colab_type": "code",
        "colab": {
          "base_uri": "https://localhost:8080/",
          "height": 104
        },
        "outputId": "f2a54c7f-9ce8-40bc-fef3-9c23c5ed9df2"
      },
      "source": [
        "house_data_filtered['Host Response Time'].value_counts()"
      ],
      "execution_count": null,
      "outputs": [
        {
          "output_type": "execute_result",
          "data": {
            "text/plain": [
              "within an hour        4950\n",
              "within a few hours    1559\n",
              "a few days or more    1089\n",
              "within a day           791\n",
              "Name: Host Response Time, dtype: int64"
            ]
          },
          "metadata": {
            "tags": []
          },
          "execution_count": 81
        }
      ]
    },
    {
      "cell_type": "markdown",
      "metadata": {
        "id": "3sdRTWrQZNRD",
        "colab_type": "text"
      },
      "source": [
        "Transformación de la variable amenities, en este caso tenemos diferentes servicios o cosas que ofrecen los pisos, consideramos que hay variables que son clave para establecer el precio final. Por ello, realizamos una especie de dummie, y creamos dos nuevas columnas para aquellos pisos que si tienen aire acondicionado y wifi."
      ]
    },
    {
      "cell_type": "code",
      "metadata": {
        "id": "Q-snf4TVZNRD",
        "colab_type": "code",
        "colab": {
          "base_uri": "https://localhost:8080/",
          "height": 225
        },
        "outputId": "a642b258-f02b-414a-b1f3-fbcca0cd938f"
      },
      "source": [
        "house_data_filtered['Air conditioning'] = np.where(house_data_filtered['Amenities'].str.contains('Air cond', regex=False),1,0)\n",
        "house_data_filtered['Wireless Internet'] = np.where(house_data_filtered['Amenities'].str.contains('Wireless', regex=False),1,0)\n",
        "#df4['Air conditioning'] = np.where(df4['Amenities'].str.contains('Air cond', regex=False),1,0)\n"
      ],
      "execution_count": null,
      "outputs": [
        {
          "output_type": "stream",
          "text": [
            "/usr/local/lib/python3.6/dist-packages/ipykernel_launcher.py:1: SettingWithCopyWarning: \n",
            "A value is trying to be set on a copy of a slice from a DataFrame.\n",
            "Try using .loc[row_indexer,col_indexer] = value instead\n",
            "\n",
            "See the caveats in the documentation: https://pandas.pydata.org/pandas-docs/stable/user_guide/indexing.html#returning-a-view-versus-a-copy\n",
            "  \"\"\"Entry point for launching an IPython kernel.\n",
            "/usr/local/lib/python3.6/dist-packages/ipykernel_launcher.py:2: SettingWithCopyWarning: \n",
            "A value is trying to be set on a copy of a slice from a DataFrame.\n",
            "Try using .loc[row_indexer,col_indexer] = value instead\n",
            "\n",
            "See the caveats in the documentation: https://pandas.pydata.org/pandas-docs/stable/user_guide/indexing.html#returning-a-view-versus-a-copy\n",
            "  \n"
          ],
          "name": "stderr"
        }
      ]
    },
    {
      "cell_type": "code",
      "metadata": {
        "id": "iENxUQAdZNRG",
        "colab_type": "code",
        "colab": {}
      },
      "source": [
        "house_data_filtered = house_data_filtered.drop(['Amenities'\n",
        "],axis=1)"
      ],
      "execution_count": null,
      "outputs": []
    },
    {
      "cell_type": "code",
      "metadata": {
        "id": "l1EhK9m5nSYe",
        "colab_type": "code",
        "colab": {}
      },
      "source": [
        ""
      ],
      "execution_count": null,
      "outputs": []
    },
    {
      "cell_type": "markdown",
      "metadata": {
        "id": "tqkb4qaWZNRI",
        "colab_type": "text"
      },
      "source": [
        "Creación de variable distancia_metro:\n",
        "Descargamos un df con la localizacion de cada parada de metro de madrid y creamos una funcion que compare la distancia de cada piso con todas esas paradas de metro y se quede con a mas cercana. De esta manera tendremos en esa columna la distancia del piso a la parada demetro mas cercana en kms."
      ]
    },
    {
      "cell_type": "code",
      "metadata": {
        "id": "3SJUv6lLnTig",
        "colab_type": "code",
        "colab": {
          "base_uri": "https://localhost:8080/",
          "height": 350
        },
        "outputId": "2ce0e490-71d4-43ae-a7a9-ea176f47aaee"
      },
      "source": [
        "from google.colab import files\n",
        "uploaded = files.upload()"
      ],
      "execution_count": null,
      "outputs": [
        {
          "output_type": "display_data",
          "data": {
            "text/html": [
              "\n",
              "     <input type=\"file\" id=\"files-2a33b818-daea-4076-9294-37d6d16b6eed\" name=\"files[]\" multiple disabled\n",
              "        style=\"border:none\" />\n",
              "     <output id=\"result-2a33b818-daea-4076-9294-37d6d16b6eed\">\n",
              "      Upload widget is only available when the cell has been executed in the\n",
              "      current browser session. Please rerun this cell to enable.\n",
              "      </output>\n",
              "      <script src=\"/nbextensions/google.colab/files.js\"></script> "
            ],
            "text/plain": [
              "<IPython.core.display.HTML object>"
            ]
          },
          "metadata": {
            "tags": []
          }
        },
        {
          "output_type": "error",
          "ename": "MessageError",
          "evalue": "ignored",
          "traceback": [
            "\u001b[0;31m---------------------------------------------------------------------------\u001b[0m",
            "\u001b[0;31mMessageError\u001b[0m                              Traceback (most recent call last)",
            "\u001b[0;32m<ipython-input-84-21dc3c638f66>\u001b[0m in \u001b[0;36m<module>\u001b[0;34m()\u001b[0m\n\u001b[1;32m      1\u001b[0m \u001b[0;32mfrom\u001b[0m \u001b[0mgoogle\u001b[0m\u001b[0;34m.\u001b[0m\u001b[0mcolab\u001b[0m \u001b[0;32mimport\u001b[0m \u001b[0mfiles\u001b[0m\u001b[0;34m\u001b[0m\u001b[0;34m\u001b[0m\u001b[0m\n\u001b[0;32m----> 2\u001b[0;31m \u001b[0muploaded\u001b[0m \u001b[0;34m=\u001b[0m \u001b[0mfiles\u001b[0m\u001b[0;34m.\u001b[0m\u001b[0mupload\u001b[0m\u001b[0;34m(\u001b[0m\u001b[0;34m)\u001b[0m\u001b[0;34m\u001b[0m\u001b[0;34m\u001b[0m\u001b[0m\n\u001b[0m",
            "\u001b[0;32m/usr/local/lib/python3.6/dist-packages/google/colab/files.py\u001b[0m in \u001b[0;36mupload\u001b[0;34m()\u001b[0m\n\u001b[1;32m     67\u001b[0m   result = _output.eval_js(\n\u001b[1;32m     68\u001b[0m       'google.colab._files._uploadFiles(\"{input_id}\", \"{output_id}\")'.format(\n\u001b[0;32m---> 69\u001b[0;31m           input_id=input_id, output_id=output_id))\n\u001b[0m\u001b[1;32m     70\u001b[0m   \u001b[0mfiles\u001b[0m \u001b[0;34m=\u001b[0m \u001b[0m_collections\u001b[0m\u001b[0;34m.\u001b[0m\u001b[0mdefaultdict\u001b[0m\u001b[0;34m(\u001b[0m\u001b[0m_six\u001b[0m\u001b[0;34m.\u001b[0m\u001b[0mbinary_type\u001b[0m\u001b[0;34m)\u001b[0m\u001b[0;34m\u001b[0m\u001b[0;34m\u001b[0m\u001b[0m\n\u001b[1;32m     71\u001b[0m   \u001b[0;31m# Mapping from original filename to filename as saved locally.\u001b[0m\u001b[0;34m\u001b[0m\u001b[0;34m\u001b[0m\u001b[0;34m\u001b[0m\u001b[0m\n",
            "\u001b[0;32m/usr/local/lib/python3.6/dist-packages/google/colab/output/_js.py\u001b[0m in \u001b[0;36meval_js\u001b[0;34m(script, ignore_result)\u001b[0m\n\u001b[1;32m     37\u001b[0m   \u001b[0;32mif\u001b[0m \u001b[0mignore_result\u001b[0m\u001b[0;34m:\u001b[0m\u001b[0;34m\u001b[0m\u001b[0;34m\u001b[0m\u001b[0m\n\u001b[1;32m     38\u001b[0m     \u001b[0;32mreturn\u001b[0m\u001b[0;34m\u001b[0m\u001b[0;34m\u001b[0m\u001b[0m\n\u001b[0;32m---> 39\u001b[0;31m   \u001b[0;32mreturn\u001b[0m \u001b[0m_message\u001b[0m\u001b[0;34m.\u001b[0m\u001b[0mread_reply_from_input\u001b[0m\u001b[0;34m(\u001b[0m\u001b[0mrequest_id\u001b[0m\u001b[0;34m)\u001b[0m\u001b[0;34m\u001b[0m\u001b[0;34m\u001b[0m\u001b[0m\n\u001b[0m\u001b[1;32m     40\u001b[0m \u001b[0;34m\u001b[0m\u001b[0m\n\u001b[1;32m     41\u001b[0m \u001b[0;34m\u001b[0m\u001b[0m\n",
            "\u001b[0;32m/usr/local/lib/python3.6/dist-packages/google/colab/_message.py\u001b[0m in \u001b[0;36mread_reply_from_input\u001b[0;34m(message_id, timeout_sec)\u001b[0m\n\u001b[1;32m    104\u001b[0m         reply.get('colab_msg_id') == message_id):\n\u001b[1;32m    105\u001b[0m       \u001b[0;32mif\u001b[0m \u001b[0;34m'error'\u001b[0m \u001b[0;32min\u001b[0m \u001b[0mreply\u001b[0m\u001b[0;34m:\u001b[0m\u001b[0;34m\u001b[0m\u001b[0;34m\u001b[0m\u001b[0m\n\u001b[0;32m--> 106\u001b[0;31m         \u001b[0;32mraise\u001b[0m \u001b[0mMessageError\u001b[0m\u001b[0;34m(\u001b[0m\u001b[0mreply\u001b[0m\u001b[0;34m[\u001b[0m\u001b[0;34m'error'\u001b[0m\u001b[0;34m]\u001b[0m\u001b[0;34m)\u001b[0m\u001b[0;34m\u001b[0m\u001b[0;34m\u001b[0m\u001b[0m\n\u001b[0m\u001b[1;32m    107\u001b[0m       \u001b[0;32mreturn\u001b[0m \u001b[0mreply\u001b[0m\u001b[0;34m.\u001b[0m\u001b[0mget\u001b[0m\u001b[0;34m(\u001b[0m\u001b[0;34m'data'\u001b[0m\u001b[0;34m,\u001b[0m \u001b[0;32mNone\u001b[0m\u001b[0;34m)\u001b[0m\u001b[0;34m\u001b[0m\u001b[0;34m\u001b[0m\u001b[0m\n\u001b[1;32m    108\u001b[0m \u001b[0;34m\u001b[0m\u001b[0m\n",
            "\u001b[0;31mMessageError\u001b[0m: TypeError: Cannot read property '_uploadFiles' of undefined"
          ]
        }
      ]
    },
    {
      "cell_type": "code",
      "metadata": {
        "id": "nWlpunvvZNRJ",
        "colab_type": "code",
        "colab": {}
      },
      "source": [
        "import io\n",
        "\n",
        "\n",
        "metro_df = pd.read_excel(io.BytesIO(uploaded['Metro_2019_12.xlsx']),  index_col=2)"
      ],
      "execution_count": null,
      "outputs": []
    },
    {
      "cell_type": "code",
      "metadata": {
        "id": "K4SoLsLCZNRM",
        "colab_type": "code",
        "colab": {}
      },
      "source": [
        "metro_df.head()"
      ],
      "execution_count": null,
      "outputs": []
    },
    {
      "cell_type": "code",
      "metadata": {
        "id": "gKaWQW9RZNRP",
        "colab_type": "code",
        "colab": {}
      },
      "source": [
        "from math import sin, cos, sqrt, atan2, radians\n",
        "\n",
        "# approximate radius of earth in km\n",
        "\n",
        "def distance_metro(long1,lat1,long2,lat2):    \n",
        "    R = 6373.0\n",
        "    lat1 = radians(lat1)\n",
        "    lon1 = radians(long1)\n",
        "    lat2 = radians(lat2)\n",
        "    lon2 = radians(long2)\n",
        "\n",
        "    dlon = lon2 - lon1\n",
        "    dlat = lat2 - lat1\n",
        "\n",
        "    a = sin(dlat / 2)**2 + cos(lat1) * cos(lat2) * sin(dlon / 2)**2\n",
        "    c = 2 * atan2(sqrt(a), sqrt(1 - a))\n",
        "\n",
        "    distance = R * c\n",
        "\n",
        "    return distance"
      ],
      "execution_count": null,
      "outputs": []
    },
    {
      "cell_type": "code",
      "metadata": {
        "id": "PlClc3FyZNRR",
        "colab_type": "code",
        "colab": {}
      },
      "source": [
        "def comparador(row):\n",
        "    lat = row['Latitude']\n",
        "    long = row['Longitude']\n",
        "    v = list()\n",
        "    for i in range(len(metro_df)):\n",
        "        c = distance_metro(metro_df['Longitude'][i+1],metro_df['Latitude'][i+1], long, lat )\n",
        "        v.append(c)\n",
        "    return min(v)"
      ],
      "execution_count": null,
      "outputs": []
    },
    {
      "cell_type": "code",
      "metadata": {
        "id": "KjIB_I_iZNRU",
        "colab_type": "code",
        "colab": {}
      },
      "source": [
        "house_data_filtered['distancia_metro'] = house_data_filtered[['Latitude','Longitude']].apply(lambda row: comparador(row), axis=1)"
      ],
      "execution_count": null,
      "outputs": []
    },
    {
      "cell_type": "code",
      "metadata": {
        "id": "CWLjHABWZNRW",
        "colab_type": "code",
        "colab": {}
      },
      "source": [
        "house_data_filtered.head().T"
      ],
      "execution_count": null,
      "outputs": []
    },
    {
      "cell_type": "markdown",
      "metadata": {
        "id": "_9v9tprNZNRZ",
        "colab_type": "text"
      },
      "source": [
        "Tranformacion de variable politica de cancelacion, consideramos que solo hay una estricta, por eso las que sean strict_30 y strict_60 las metemos en el mismo pauqete."
      ]
    },
    {
      "cell_type": "code",
      "metadata": {
        "id": "GRkVIoLUZNRZ",
        "colab_type": "code",
        "colab": {}
      },
      "source": [
        "house_data_filtered['Cancellation Policy'].value_counts()"
      ],
      "execution_count": null,
      "outputs": []
    },
    {
      "cell_type": "code",
      "metadata": {
        "id": "aK9P6gxJZNRb",
        "colab_type": "code",
        "colab": {}
      },
      "source": [
        "#house_data_filtered['Cancellation Policy'].apply(lambda x: 'strict' if x.str.contains('strict'))\n",
        "\n",
        "house_data_filtered['Cancellation Policy'] = house_data_filtered['Cancellation Policy'].apply(lambda x: 'strict' if 'strict' in x else x)"
      ],
      "execution_count": null,
      "outputs": []
    },
    {
      "cell_type": "code",
      "metadata": {
        "id": "EX2DhQIDZNRd",
        "colab_type": "code",
        "colab": {}
      },
      "source": [
        "house_data_filtered.head().T"
      ],
      "execution_count": null,
      "outputs": []
    },
    {
      "cell_type": "code",
      "metadata": {
        "id": "MoKv1QxsZNRf",
        "colab_type": "code",
        "colab": {}
      },
      "source": [
        "house_data_filtered.dtypes"
      ],
      "execution_count": null,
      "outputs": []
    },
    {
      "cell_type": "code",
      "metadata": {
        "id": "_6CXibi3ZNRh",
        "colab_type": "code",
        "colab": {}
      },
      "source": [
        "house_data_filtered.isnull().any()"
      ],
      "execution_count": null,
      "outputs": []
    },
    {
      "cell_type": "markdown",
      "metadata": {
        "id": "TqYanotGZNRm",
        "colab_type": "text"
      },
      "source": [
        "Rellenamos con la moda las na de las variables categóricas"
      ]
    },
    {
      "cell_type": "code",
      "metadata": {
        "id": "rFdnzvDWZNRm",
        "colab_type": "code",
        "colab": {}
      },
      "source": [
        "house_data_filtered[\"Host Response Time\"].fillna(house_data_filtered[\"Host Response Time\"].mode()[0], inplace=True)\n",
        "house_data_filtered[\"Reviews per Month\"].fillna(house_data_filtered[\"Reviews per Month\"].mode()[0], inplace=True)\n",
        "\n"
      ],
      "execution_count": null,
      "outputs": []
    },
    {
      "cell_type": "markdown",
      "metadata": {
        "id": "BQFq5vr1o78c",
        "colab_type": "text"
      },
      "source": [
        "Rellenamos con la media las variables continuas"
      ]
    },
    {
      "cell_type": "code",
      "metadata": {
        "id": "uKk8_UEcZNRr",
        "colab_type": "code",
        "colab": {}
      },
      "source": [
        "house_data_filtered[\"Host Since\"].fillna(house_data_filtered[\"Host Since\"].mean(), inplace=True)\n",
        "house_data_filtered[\"Host Response Rate\"].fillna(house_data_filtered[\"Host Response Rate\"].mean(), inplace=True)\n",
        "house_data_filtered[\"Host Listings Count\"].fillna(house_data_filtered[\"Host Listings Count\"].mean(), inplace=True)\n",
        "house_data_filtered[\"Host Verifications\"].fillna(house_data_filtered[\"Host Verifications\"].mean(), inplace=True)\n",
        "house_data_filtered[\"Bathrooms\"].fillna(house_data_filtered[\"Bathrooms\"].mean(), inplace=True)\n",
        "house_data_filtered[\"Bedrooms\"].fillna(house_data_filtered[\"Bedrooms\"].mean(), inplace=True)\n",
        "house_data_filtered[\"Beds\"].fillna(house_data_filtered[\"Beds\"].mean(), inplace=True)\n",
        "house_data_filtered[\"Review Scores Rating\"].fillna(house_data_filtered[\"Review Scores Rating\"].mean(), inplace=True)\n",
        "house_data_filtered[\"Review Scores Accuracy\"].fillna(house_data_filtered[\"Review Scores Accuracy\"].mean(), inplace=True)\n",
        "house_data_filtered[\"Review Scores Cleanliness\"].fillna(house_data_filtered[\"Review Scores Cleanliness\"].mean(), inplace=True)\n",
        "house_data_filtered[\"Review Scores Checkin\"].fillna(house_data_filtered[\"Review Scores Checkin\"].mean(), inplace=True)\n",
        "house_data_filtered[\"Review Scores Communication\"].fillna(house_data_filtered[\"Review Scores Communication\"].mean(), inplace=True)\n",
        "house_data_filtered[\"Review Scores Location\"].fillna(house_data_filtered[\"Review Scores Location\"].mean(), inplace=True)\n",
        "house_data_filtered[\"Review Scores Value\"].fillna(house_data_filtered[\"Review Scores Value\"].mean(), inplace=True)\n"
      ],
      "execution_count": null,
      "outputs": []
    },
    {
      "cell_type": "markdown",
      "metadata": {
        "id": "uQm2gr3YZNRt",
        "colab_type": "text"
      },
      "source": [
        "Añadimos una variable que creo puede ser interesante, numero de camas por habitacion. Si es menor de 1, sabemos que se duereme en sofa."
      ]
    },
    {
      "cell_type": "code",
      "metadata": {
        "id": "xC8NjiXmZNRt",
        "colab_type": "code",
        "colab": {}
      },
      "source": [
        "house_data_filtered['bed_bedrooms']   = house_data_filtered['Beds']*house_data_filtered['Bedrooms']"
      ],
      "execution_count": null,
      "outputs": []
    },
    {
      "cell_type": "code",
      "metadata": {
        "id": "CgjtQsURZNRw",
        "colab_type": "code",
        "colab": {}
      },
      "source": [
        "house_data_filtered.isnull().any()"
      ],
      "execution_count": null,
      "outputs": []
    },
    {
      "cell_type": "markdown",
      "metadata": {
        "id": "gIe--lRRZNRy",
        "colab_type": "text"
      },
      "source": [
        "Aplicar MeanEncoder para categorizar"
      ]
    },
    {
      "cell_type": "code",
      "metadata": {
        "id": "bcqVM-uJZNR0",
        "colab_type": "code",
        "colab": {}
      },
      "source": [
        "categorical = ['Host Response Time', 'Neighbourhood', 'Neighbourhood Group Cleansed', 'Property Type', 'Room Type', 'Bed Type', 'Calendar Updated', 'Cancellation Policy']\n",
        "# En train creamos un dict para usarlo después en test\n",
        "# ESTO ES EN TRAIN.CSV!\n",
        "\n",
        "mean_map = {}\n",
        "for c in categorical:\n",
        "    mean = house_data_filtered.groupby(c)['Price'].mean()\n",
        "    \n",
        "    house_data_filtered[c] = house_data_filtered[c].map(mean)\n",
        "    \n",
        "    mean_map[c] = mean\n",
        "    \n",
        "# Luego, en test, categorizamos con los datos de train!\n",
        "# ESTO ES EN TEST.CSV!\n",
        "#for c in categorical:\n",
        " #   df_test[c] = df_test[c].map(mean_map[c])"
      ],
      "execution_count": null,
      "outputs": []
    },
    {
      "cell_type": "code",
      "metadata": {
        "id": "JhsnyWG9ZNR2",
        "colab_type": "code",
        "colab": {}
      },
      "source": [
        "house_data_filtered.head().T"
      ],
      "execution_count": null,
      "outputs": []
    },
    {
      "cell_type": "code",
      "metadata": {
        "id": "tuhJlCparpBD",
        "colab_type": "code",
        "colab": {}
      },
      "source": [
        ""
      ],
      "execution_count": null,
      "outputs": []
    },
    {
      "cell_type": "markdown",
      "metadata": {
        "id": "PTZDEthUZNR4",
        "colab_type": "text"
      },
      "source": [
        "Aplicamos todos los cambio hechos a train, al df de test."
      ]
    },
    {
      "cell_type": "code",
      "metadata": {
        "id": "inMq_yIgZNR5",
        "colab_type": "code",
        "colab": {}
      },
      "source": [
        "test = test[test['City'].str.contains('drid', na=False)]\n",
        "test['City'] = test['City'].apply(lambda x: 'Madrid')\n",
        "test = move_columns(test, ['Price'],0)\n",
        "test = test.drop(['ID','Listing Url','Scrape ID','Thumbnail Url','Medium Url','Picture Url','XL Picture Url', 'Host ID', 'Host URL', 'Host Name','Host About', 'Host Thumbnail Url', 'Host Picture Url', 'License', 'Jurisdiction Names','Features' ],axis=1)\n",
        "test = test.drop(['Neighborhood Overview',\n",
        " 'Notes',\n",
        " 'Transit',\n",
        " 'Access',\n",
        " 'Interaction',\n",
        " 'House Rules',\n",
        " 'Host Acceptance Rate',\n",
        "  'Square Feet',\n",
        " 'Weekly Price',\n",
        " 'Monthly Price','Has Availability'\n",
        "],axis=1)\n",
        "\n",
        "test = test.drop(['Last Scraped', 'Name', 'Summary', 'Space', 'Description', 'Experiences Offered',\n",
        "                 'Host Location', 'Host Neighbourhood', 'Street', 'City', 'State', 'Market', 'Smart Location', 'Country Code',\n",
        "       'Country', 'Calendar last Scraped', 'First Review', 'Last Review','Geolocation'\n",
        "],axis=1)\n",
        "\n",
        "test['Neighbourhood'] = np.where(test['Neighbourhood'].isnull(),test['Neighbourhood Cleansed'] , test['Neighbourhood'])\n",
        "test = test.drop(['Neighbourhood Cleansed'\n",
        "],axis=1)\n",
        "\n",
        "test = test.drop(['Host Total Listings Count', 'Zipcode'\n",
        "],axis=1)\n",
        "\n",
        "#Rellenamos con ceros. Rellenar con los de train!!!\n",
        "test[\"Cleaning Fee\"].fillna(0 , inplace=True)\n",
        "test[\"Security Deposit\"].fillna(0 , inplace=True)\n",
        "test[\"Price\"].fillna(train[\"Price\"].mean(), inplace=True)\n",
        "\n",
        "#Quitamos los outlayers\n",
        "my_filter_test = test['Price'] < 200\n",
        "test_filter = test[my_filter_test]\n",
        "\n",
        "test_filter['Host Verifications'] = test_filter['Host Verifications'].str.count(',')\n",
        "\n",
        "from datetime import datetime\n",
        "\n",
        "test_filter['Host Since'] = pd.to_datetime(test_filter['Host Since'], format=\"%Y-%m-%d\")\n",
        "test_filter['Host Since'] = test_filter['Host Since'].apply(lambda x: 2017 - x.year)\n",
        "\n",
        "test_filter['Host Response Time'].value_counts()\n",
        "test_filter['Host Response Time'].fillna('a few days or more', inplace=True)\n",
        "\n",
        "test_filter['Air conditioning'] = np.where(test_filter['Amenities'].str.contains('Air cond', regex=False),1,0)\n",
        "test_filter['Wireless Internet'] = np.where(test_filter['Amenities'].str.contains('Wireless', regex=False),1,0)\n",
        "test_filter = test_filter.drop(['Amenities'\n",
        "],axis=1)\n",
        "\n",
        "test_filter['distancia_metro'] = test_filter[['Latitude','Longitude']].apply(lambda row: comparador(row), axis=1)\n",
        "\n",
        "test_filter['Cancellation Policy'] = test_filter['Cancellation Policy'].apply(lambda x: 'strict' if 'strict' in x else x)\n",
        "\n",
        "#Rellenamos con la moda las na de las variables categóricas. Rellenar con train y poner la variable unknown\n",
        "test_filter[\"Host Response Time\"].fillna(house_data_filtered[\"Host Response Time\"].mode()[0], inplace=True)\n",
        "test_filter[\"Reviews per Month\"].fillna(house_data_filtered[\"Reviews per Month\"].mode()[0], inplace=True)\n",
        "\n",
        "#Rellenamos con la media las variables \n",
        "test_filter[\"Host Since\"].fillna(house_data_filtered[\"Host Since\"].mean(), inplace=True)\n",
        "test_filter[\"Host Response Rate\"].fillna(house_data_filtered[\"Host Response Rate\"].mean(), inplace=True)\n",
        "test_filter[\"Host Listings Count\"].fillna(house_data_filtered[\"Host Listings Count\"].mean(), inplace=True)\n",
        "test_filter[\"Host Verifications\"].fillna(house_data_filtered[\"Host Verifications\"].mean(), inplace=True)\n",
        "test_filter[\"Bathrooms\"].fillna(house_data_filtered[\"Bathrooms\"].mean(), inplace=True)\n",
        "test_filter[\"Bedrooms\"].fillna(house_data_filtered[\"Bedrooms\"].mean(), inplace=True)\n",
        "test_filter[\"Beds\"].fillna(house_data_filtered[\"Beds\"].mean(), inplace=True)\n",
        "test_filter[\"Review Scores Rating\"].fillna(house_data_filtered[\"Review Scores Rating\"].mean(), inplace=True)\n",
        "test_filter[\"Review Scores Accuracy\"].fillna(house_data_filtered[\"Review Scores Accuracy\"].mean(), inplace=True)\n",
        "test_filter[\"Review Scores Cleanliness\"].fillna(house_data_filtered[\"Review Scores Cleanliness\"].mean(), inplace=True)\n",
        "test_filter[\"Review Scores Checkin\"].fillna(house_data_filtered[\"Review Scores Checkin\"].mean(), inplace=True)\n",
        "test_filter[\"Review Scores Communication\"].fillna(house_data_filtered[\"Review Scores Communication\"].mean(), inplace=True)\n",
        "test_filter[\"Review Scores Location\"].fillna(house_data_filtered[\"Review Scores Location\"].mean(), inplace=True)\n",
        "test_filter[\"Review Scores Value\"].fillna(house_data_filtered[\"Review Scores Value\"].mean(), inplace=True)\n",
        "\n",
        "\n",
        "\n"
      ],
      "execution_count": null,
      "outputs": []
    },
    {
      "cell_type": "code",
      "metadata": {
        "id": "6zfbFukaZNR7",
        "colab_type": "code",
        "colab": {}
      },
      "source": [
        "test_filter['bed_bedrooms']   = test_filter['Beds']*test_filter['Bedrooms']"
      ],
      "execution_count": null,
      "outputs": []
    },
    {
      "cell_type": "markdown",
      "metadata": {
        "id": "OWkUcV_atloe",
        "colab_type": "text"
      },
      "source": [
        "Rellenamos las categoricas con los de train, pero comprobamos que hay nulos porque existen valores en test que no hay en train."
      ]
    },
    {
      "cell_type": "code",
      "metadata": {
        "id": "K1DdilXFZNR_",
        "colab_type": "code",
        "colab": {}
      },
      "source": [
        "for c in categorical:\n",
        "    test_filter[c] = test_filter[c].map(mean_map[c])\n",
        "\n",
        " \n"
      ],
      "execution_count": null,
      "outputs": []
    },
    {
      "cell_type": "code",
      "metadata": {
        "id": "2VCALhcIZNSB",
        "colab_type": "code",
        "colab": {}
      },
      "source": [
        "test_filter.isnull().sum()"
      ],
      "execution_count": null,
      "outputs": []
    },
    {
      "cell_type": "markdown",
      "metadata": {
        "id": "25XONyj6ZNSF",
        "colab_type": "text"
      },
      "source": [
        "Para ello sustituimos dichos valores por la media de las medias en train"
      ]
    },
    {
      "cell_type": "code",
      "metadata": {
        "id": "ut9JrYuPZNSF",
        "colab_type": "code",
        "colab": {}
      },
      "source": [
        "media_de_mediasN = sum(mean_map['Neighbourhood'])/len(mean_map['Neighbourhood'])\n",
        "media_de_mediasP = sum(mean_map['Property Type'])/len(mean_map['Property Type'])\n",
        "media_de_mediasC = sum(mean_map['Calendar Updated'])/len(mean_map['Calendar Updated'])\n"
      ],
      "execution_count": null,
      "outputs": []
    },
    {
      "cell_type": "code",
      "metadata": {
        "id": "QYpqRscpZNSH",
        "colab_type": "code",
        "colab": {}
      },
      "source": [
        "test_filter['Neighbourhood'].fillna(media_de_mediasN, inplace=True)\n",
        "test_filter['Property Type'].fillna(media_de_mediasP, inplace=True)\n",
        "test_filter['Calendar Updated'].fillna(media_de_mediasC, inplace=True)\n",
        "\n"
      ],
      "execution_count": null,
      "outputs": []
    },
    {
      "cell_type": "code",
      "metadata": {
        "id": "ghVAlqnBZNSJ",
        "colab_type": "code",
        "colab": {}
      },
      "source": [
        "test_filter.isnull().sum()"
      ],
      "execution_count": null,
      "outputs": []
    },
    {
      "cell_type": "markdown",
      "metadata": {
        "id": "5IK4Dzs-ZNSP",
        "colab_type": "text"
      },
      "source": [
        "Una vez tenemos el modelado de datos, podemos comenzar a normalizar."
      ]
    },
    {
      "cell_type": "code",
      "metadata": {
        "id": "DCzB3gsiZNSP",
        "colab_type": "code",
        "colab": {}
      },
      "source": [
        "from sklearn import preprocessing\n",
        "\n",
        "maxPrice_train = house_data_filtered[\"Price\"].max()\n",
        "maxPrice_test = test_filter[\"Price\"].max()\n",
        "\n",
        "house_data_filtered[\"Price\"] = house_data_filtered[\"Price\"] / maxPrice_train\n",
        "test_filter[\"Price\"] = test_filter[\"Price\"] / maxPrice_test\n",
        "\n",
        "\n",
        "data = house_data_filtered.values\n",
        "y_train = data[:,0:1]     # nos quedamos con la 1ª columna, price\n",
        "\n",
        "X_train = data[:,1:]      # nos quedamos con el resto\n",
        "feature_names = house_data_filtered.columns[1:]\n",
        "\n",
        "# Escalamos (con los datos de train)\n",
        "scaler = preprocessing.StandardScaler().fit(X_train)\n",
        "XtrainScaled = scaler.transform(X_train)"
      ],
      "execution_count": null,
      "outputs": []
    },
    {
      "cell_type": "code",
      "metadata": {
        "id": "KIkigP4Xpaf2",
        "colab_type": "code",
        "colab": {}
      },
      "source": [
        " X_train, X_val, y_train, y_val = train_test_split(X_train, y_train, test_size=0.25, random_state=1)"
      ],
      "execution_count": null,
      "outputs": []
    },
    {
      "cell_type": "code",
      "metadata": {
        "id": "puAy7bDgpclt",
        "colab_type": "code",
        "colab": {}
      },
      "source": [
        "# recordad que esta normalización/escalado la realizo con el scaler anterior, basado en los datos de training!\n",
        "XtestScaled = scaler.transform(X_val) "
      ],
      "execution_count": null,
      "outputs": []
    },
    {
      "cell_type": "code",
      "metadata": {
        "id": "kN3Itbavph1b",
        "colab_type": "code",
        "colab": {}
      },
      "source": [
        "data_test = test_filter.values\n",
        "y_test = data_test[:,0:1]     # nos quedamos con la 1ª columna, price\n",
        "X_test = data_test[:,1:]      # nos quedamos con el resto\n",
        "feature_names_test = test_filter.columns[1:]\n",
        "\n",
        "# recordad que esta normalización/escalado la realizo con el scaler anterior, basado en los datos de training!\n",
        "XtestScaled = scaler.transform(X_test) "
      ],
      "execution_count": null,
      "outputs": []
    },
    {
      "cell_type": "code",
      "metadata": {
        "id": "66s0zWxlt9bv",
        "colab_type": "code",
        "colab": {}
      },
      "source": [
        "X_val.shape"
      ],
      "execution_count": null,
      "outputs": []
    },
    {
      "cell_type": "markdown",
      "metadata": {
        "id": "PmKTors9tsSL",
        "colab_type": "text"
      },
      "source": [
        "#Ejemplo de regresión con Keras y dataset numérico."
      ]
    },
    {
      "cell_type": "code",
      "metadata": {
        "id": "TyZPocrSv6-D",
        "colab_type": "code",
        "colab": {}
      },
      "source": [
        "# import the necessary packages\n",
        "from tensorflow.keras.models import Sequential, Model\n",
        "from tensorflow.keras.layers import BatchNormalization, Conv2D, MaxPooling2D, Activation, Dropout, Dense, Flatten, Input\n",
        "\n",
        "\n",
        "def create_mlp(dim, regress=False, clasif=False):\n",
        "\t# define our MLP network\n",
        "\tmodel = Sequential()\n",
        "\tmodel.add(Dense(64, input_dim=dim, activation=\"relu\"))\n",
        "\tmodel.add(Dense(32, activation=\"relu\"))\n",
        "\t# check to see if the regression node should be added\n",
        "\tif regress:\n",
        "\t\tmodel.add(Dense(1, activation=\"linear\"))\n",
        "\tif clasif:\n",
        "\t\tmodel.add(Dense(3, activation='softmax')) \n",
        "\t# return our model\n",
        "\treturn model"
      ],
      "execution_count": null,
      "outputs": []
    },
    {
      "cell_type": "code",
      "metadata": {
        "id": "HMsOYWLSv_xx",
        "colab_type": "code",
        "colab": {}
      },
      "source": [
        "# import the necessary packages\n",
        "from tensorflow.keras.optimizers import Adam\n",
        "from sklearn.model_selection import train_test_split\n",
        "import numpy as np\n",
        "import locale\n",
        "import os\n",
        "\n"
      ],
      "execution_count": null,
      "outputs": []
    },
    {
      "cell_type": "code",
      "metadata": {
        "id": "SS5D6OiJp13T",
        "colab_type": "code",
        "colab": {}
      },
      "source": [
        "# create our MLP and then compile the model using mean absolute\n",
        "# percentage error as our loss, implying that we seek to minimize\n",
        "# the absolute percentage difference between our price *predictions*\n",
        "# and the *actual prices*\n",
        "model = create_mlp(X_train.shape[1], regress=True, clasif=False)\n",
        "opt = Adam(lr=1e-3, decay=1e-3 / 200)\n",
        "model.compile(loss='mean_squared_error', optimizer=opt)\n",
        "# train the model\n",
        "print(\"[INFO] training model...\")\n",
        "model.fit(x=X_train, y=y_train, \n",
        "\tvalidation_data=(X_val, y_val),\n",
        "\tepochs=200, batch_size=8)"
      ],
      "execution_count": null,
      "outputs": []
    },
    {
      "cell_type": "code",
      "metadata": {
        "id": "hSjMm13ErkJ5",
        "colab_type": "code",
        "colab": {
          "base_uri": "https://localhost:8080/",
          "height": 35
        },
        "outputId": "cecb2a70-a0ec-45ab-d961-d856cf5dbe6b"
      },
      "source": [
        "# make predictions on the testing data\n",
        "print(\"[INFO] predicting house prices...\")\n",
        "preds = model.predict(X_test)\n",
        "# compute the difference between the *predicted* house prices and the\n",
        "# *actual* house prices, then compute the percentage difference and\n",
        "# the absolute percentage difference\n",
        "diff = preds.flatten() - y_test\n",
        "percentDiff = (diff / y_test) * 100\n",
        "absPercentDiff = np.abs(percentDiff)\n",
        "# compute the mean and standard deviation of the absolute percentage\n",
        "# difference\n",
        "mean = np.mean(absPercentDiff)\n",
        "std = np.std(absPercentDiff)\n",
        "\n",
        "# finally, show some statistics on our model\n",
        "#locale.setlocale(locale.LC_ALL, \"en_US.UTF-8\")\n",
        "#print(\"[INFO] avg. house price: {}, std house price: {}\".format(\n",
        "#\tlocale.currency(df[\"Price\"].mean(), grouping=True),\n",
        "#\tlocale.currency(df[\"Price\"].std(), grouping=True)))\n",
        "print(\"[INFO] mean: {:.2f}%, std: {:.2f}%\".format(mean, std))"
      ],
      "execution_count": null,
      "outputs": [
        {
          "output_type": "stream",
          "text": [
            "[INFO] predicting house prices...\n"
          ],
          "name": "stdout"
        }
      ]
    },
    {
      "cell_type": "markdown",
      "metadata": {
        "id": "mpU5oMGOr10Z",
        "colab_type": "text"
      },
      "source": [
        "# Ejemplo de clasificación con Keras y dataset numérico."
      ]
    },
    {
      "cell_type": "code",
      "metadata": {
        "id": "CVJ9F6V6sgFQ",
        "colab_type": "code",
        "colab": {}
      },
      "source": [
        "house_data_cla = house_data_filtered\n",
        "test_filter_cla =test_filter"
      ],
      "execution_count": null,
      "outputs": []
    },
    {
      "cell_type": "code",
      "metadata": {
        "id": "mcRMLXpne8YF",
        "colab_type": "code",
        "colab": {}
      },
      "source": [
        "house_data_cla[\"Price\"] = house_data_cla[\"Price\"] * maxPrice_train\n",
        "test_filter_cla[\"Price\"] = test_filter_cla[\"Price\"] * maxPrice_test"
      ],
      "execution_count": null,
      "outputs": []
    },
    {
      "cell_type": "code",
      "metadata": {
        "id": "osDLGEFAelDO",
        "colab_type": "code",
        "colab": {}
      },
      "source": [
        "house_data_cla['Price'].describe()"
      ],
      "execution_count": null,
      "outputs": []
    },
    {
      "cell_type": "code",
      "metadata": {
        "id": "0R4Mvkf2b-Cp",
        "colab_type": "code",
        "colab": {}
      },
      "source": [
        "def clasi(row):\n",
        "    if row <= 40:\n",
        "        return 0\n",
        "    elif row <=80:\n",
        "        return 1\n",
        "    else:\n",
        "        return 2"
      ],
      "execution_count": null,
      "outputs": []
    },
    {
      "cell_type": "code",
      "metadata": {
        "id": "GZcmdDhTgp0B",
        "colab_type": "code",
        "colab": {}
      },
      "source": [
        "house_data_cla['clas_Price'] = house_data_cla['Price'].apply(lambda row: clasi(row))"
      ],
      "execution_count": null,
      "outputs": []
    },
    {
      "cell_type": "code",
      "metadata": {
        "id": "1qk8IaPQjCaC",
        "colab_type": "code",
        "colab": {}
      },
      "source": [
        "test_filter_cla['clas_Price'] = test_filter_cla['Price'].apply(lambda row: clasi(row))"
      ],
      "execution_count": null,
      "outputs": []
    },
    {
      "cell_type": "code",
      "metadata": {
        "id": "9fa81e4KsgCe",
        "colab_type": "code",
        "colab": {}
      },
      "source": [
        "house_data_cla = move_columns(house_data_cla, ['clas_Price'],0)\n",
        "test_filter_cla = move_columns(test_filter_cla, ['clas_Price'],0)"
      ],
      "execution_count": null,
      "outputs": []
    },
    {
      "cell_type": "code",
      "metadata": {
        "id": "GnBZhFgrsf_n",
        "colab_type": "code",
        "colab": {}
      },
      "source": [
        "house_data_cla.head()"
      ],
      "execution_count": null,
      "outputs": []
    },
    {
      "cell_type": "code",
      "metadata": {
        "id": "98mNVWfmsf8Z",
        "colab_type": "code",
        "colab": {}
      },
      "source": [
        "test_filter_cla.head()"
      ],
      "execution_count": null,
      "outputs": []
    },
    {
      "cell_type": "code",
      "metadata": {
        "id": "T_hi-Iq3kMOB",
        "colab_type": "code",
        "colab": {}
      },
      "source": [
        "house_data_cla.drop(['Price'], axis=1)\n"
      ],
      "execution_count": null,
      "outputs": []
    },
    {
      "cell_type": "code",
      "metadata": {
        "id": "_eZHFtjkkdoJ",
        "colab_type": "code",
        "colab": {}
      },
      "source": [
        "test_filter_cla.drop(['Price'], axis=1)"
      ],
      "execution_count": null,
      "outputs": []
    },
    {
      "cell_type": "code",
      "metadata": {
        "id": "oOJKOVXZlDsh",
        "colab_type": "code",
        "colab": {}
      },
      "source": [
        "data1 = house_data_cla.values\n",
        "y_train1 = data1[:,0:1]     # nos quedamos con la 1ª columna, price\n",
        "\n",
        "X_train1 = data1[:,1:]      # nos quedamos con el resto\n",
        "feature_names = house_data_cla.columns[1:]\n",
        "\n",
        "# Escalamos (con los datos de train)\n",
        "scaler = preprocessing.StandardScaler().fit(X_train)\n",
        "XtrainScaled = scaler.transform(X_train)"
      ],
      "execution_count": null,
      "outputs": []
    },
    {
      "cell_type": "code",
      "metadata": {
        "id": "987Ku02S6Emi",
        "colab_type": "code",
        "colab": {}
      },
      "source": [
        " X_train1, X_val1, y_train1, y_val1 = train_test_split(X_train1, y_train1, test_size=0.25, random_state=1)"
      ],
      "execution_count": null,
      "outputs": []
    },
    {
      "cell_type": "code",
      "metadata": {
        "id": "Dpaw0X8z6Va0",
        "colab_type": "code",
        "colab": {
          "base_uri": "https://localhost:8080/",
          "height": 287
        },
        "outputId": "39fa9ae5-1ee0-4f1e-c63e-8287f76d0642"
      },
      "source": [
        "XtestScaled = scaler.transform(X_val1) "
      ],
      "execution_count": null,
      "outputs": [
        {
          "output_type": "error",
          "ename": "ValueError",
          "evalue": "ignored",
          "traceback": [
            "\u001b[0;31m---------------------------------------------------------------------------\u001b[0m",
            "\u001b[0;31mValueError\u001b[0m                                Traceback (most recent call last)",
            "\u001b[0;32m<ipython-input-235-d09c957bacde>\u001b[0m in \u001b[0;36m<module>\u001b[0;34m()\u001b[0m\n\u001b[0;32m----> 1\u001b[0;31m \u001b[0mXtestScaled\u001b[0m \u001b[0;34m=\u001b[0m \u001b[0mscaler\u001b[0m\u001b[0;34m.\u001b[0m\u001b[0mtransform\u001b[0m\u001b[0;34m(\u001b[0m\u001b[0mX_val1\u001b[0m\u001b[0;34m)\u001b[0m\u001b[0;34m\u001b[0m\u001b[0;34m\u001b[0m\u001b[0m\n\u001b[0m",
            "\u001b[0;32m/usr/local/lib/python3.6/dist-packages/sklearn/preprocessing/_data.py\u001b[0m in \u001b[0;36mtransform\u001b[0;34m(self, X, copy)\u001b[0m\n\u001b[1;32m    804\u001b[0m         \u001b[0;32melse\u001b[0m\u001b[0;34m:\u001b[0m\u001b[0;34m\u001b[0m\u001b[0;34m\u001b[0m\u001b[0m\n\u001b[1;32m    805\u001b[0m             \u001b[0;32mif\u001b[0m \u001b[0mself\u001b[0m\u001b[0;34m.\u001b[0m\u001b[0mwith_mean\u001b[0m\u001b[0;34m:\u001b[0m\u001b[0;34m\u001b[0m\u001b[0;34m\u001b[0m\u001b[0m\n\u001b[0;32m--> 806\u001b[0;31m                 \u001b[0mX\u001b[0m \u001b[0;34m-=\u001b[0m \u001b[0mself\u001b[0m\u001b[0;34m.\u001b[0m\u001b[0mmean_\u001b[0m\u001b[0;34m\u001b[0m\u001b[0;34m\u001b[0m\u001b[0m\n\u001b[0m\u001b[1;32m    807\u001b[0m             \u001b[0;32mif\u001b[0m \u001b[0mself\u001b[0m\u001b[0;34m.\u001b[0m\u001b[0mwith_std\u001b[0m\u001b[0;34m:\u001b[0m\u001b[0;34m\u001b[0m\u001b[0;34m\u001b[0m\u001b[0m\n\u001b[1;32m    808\u001b[0m                 \u001b[0mX\u001b[0m \u001b[0;34m/=\u001b[0m \u001b[0mself\u001b[0m\u001b[0;34m.\u001b[0m\u001b[0mscale_\u001b[0m\u001b[0;34m\u001b[0m\u001b[0;34m\u001b[0m\u001b[0m\n",
            "\u001b[0;31mValueError\u001b[0m: operands could not be broadcast together with shapes (2572,43) (42,) (2572,43) "
          ]
        }
      ]
    },
    {
      "cell_type": "code",
      "metadata": {
        "id": "LfjZNtdf6WH2",
        "colab_type": "code",
        "colab": {
          "base_uri": "https://localhost:8080/",
          "height": 322
        },
        "outputId": "2dd31691-4511-462c-e5e9-6b086d603249"
      },
      "source": [
        "data_test1 = test_filter_cla.values\n",
        "y_test1 = data_test1[:,0:1]     # nos quedamos con la 1ª columna, price\n",
        "X_test1 = data_test1[:,1:]      # nos quedamos con el resto\n",
        "feature_names_test = test_filter_cla.columns[1:]\n",
        "\n",
        "# recordad que esta normalización/escalado la realizo con el scaler anterior, basado en los datos de training!\n",
        "XtestScaled = scaler.transform(X_test1) "
      ],
      "execution_count": null,
      "outputs": [
        {
          "output_type": "error",
          "ename": "ValueError",
          "evalue": "ignored",
          "traceback": [
            "\u001b[0;31m---------------------------------------------------------------------------\u001b[0m",
            "\u001b[0;31mValueError\u001b[0m                                Traceback (most recent call last)",
            "\u001b[0;32m<ipython-input-237-58c253a9ca42>\u001b[0m in \u001b[0;36m<module>\u001b[0;34m()\u001b[0m\n\u001b[1;32m      5\u001b[0m \u001b[0;34m\u001b[0m\u001b[0m\n\u001b[1;32m      6\u001b[0m \u001b[0;31m# recordad que esta normalización/escalado la realizo con el scaler anterior, basado en los datos de training!\u001b[0m\u001b[0;34m\u001b[0m\u001b[0;34m\u001b[0m\u001b[0;34m\u001b[0m\u001b[0m\n\u001b[0;32m----> 7\u001b[0;31m \u001b[0mXtestScaled\u001b[0m \u001b[0;34m=\u001b[0m \u001b[0mscaler\u001b[0m\u001b[0;34m.\u001b[0m\u001b[0mtransform\u001b[0m\u001b[0;34m(\u001b[0m\u001b[0mX_test1\u001b[0m\u001b[0;34m)\u001b[0m\u001b[0;34m\u001b[0m\u001b[0;34m\u001b[0m\u001b[0m\n\u001b[0m",
            "\u001b[0;32m/usr/local/lib/python3.6/dist-packages/sklearn/preprocessing/_data.py\u001b[0m in \u001b[0;36mtransform\u001b[0;34m(self, X, copy)\u001b[0m\n\u001b[1;32m    804\u001b[0m         \u001b[0;32melse\u001b[0m\u001b[0;34m:\u001b[0m\u001b[0;34m\u001b[0m\u001b[0;34m\u001b[0m\u001b[0m\n\u001b[1;32m    805\u001b[0m             \u001b[0;32mif\u001b[0m \u001b[0mself\u001b[0m\u001b[0;34m.\u001b[0m\u001b[0mwith_mean\u001b[0m\u001b[0;34m:\u001b[0m\u001b[0;34m\u001b[0m\u001b[0;34m\u001b[0m\u001b[0m\n\u001b[0;32m--> 806\u001b[0;31m                 \u001b[0mX\u001b[0m \u001b[0;34m-=\u001b[0m \u001b[0mself\u001b[0m\u001b[0;34m.\u001b[0m\u001b[0mmean_\u001b[0m\u001b[0;34m\u001b[0m\u001b[0;34m\u001b[0m\u001b[0m\n\u001b[0m\u001b[1;32m    807\u001b[0m             \u001b[0;32mif\u001b[0m \u001b[0mself\u001b[0m\u001b[0;34m.\u001b[0m\u001b[0mwith_std\u001b[0m\u001b[0;34m:\u001b[0m\u001b[0;34m\u001b[0m\u001b[0;34m\u001b[0m\u001b[0m\n\u001b[1;32m    808\u001b[0m                 \u001b[0mX\u001b[0m \u001b[0;34m/=\u001b[0m \u001b[0mself\u001b[0m\u001b[0;34m.\u001b[0m\u001b[0mscale_\u001b[0m\u001b[0;34m\u001b[0m\u001b[0;34m\u001b[0m\u001b[0m\n",
            "\u001b[0;31mValueError\u001b[0m: operands could not be broadcast together with shapes (2579,43) (42,) (2579,43) "
          ]
        }
      ]
    },
    {
      "cell_type": "code",
      "metadata": {
        "id": "RJasUfAD6pSa",
        "colab_type": "code",
        "colab": {
          "base_uri": "https://localhost:8080/",
          "height": 1000
        },
        "outputId": "6b18cd39-b16f-4673-b4dd-39a46d7e91c5"
      },
      "source": [
        "#Como regla general, empezad con Adam. Si no funciona bien, ya os calentaréis la cabeza\n",
        "\n",
        "model = create_mlp(X_train1.shape[1], regress=False)\n",
        "opt = Adam(lr=1e-3, decay=1e-3 / 200)\n",
        "model.compile(loss=\"categorical_crossentropy\", optimizer=opt)\n",
        "# train the model\n",
        "print(\"[INFO] training model...\")\n",
        "model.fit(x=X_train1, y=y_train1, \n",
        "\tvalidation_data=(X_val1, y_val1),\n",
        "\tepochs=200, batch_size=8)"
      ],
      "execution_count": null,
      "outputs": [
        {
          "output_type": "stream",
          "text": [
            "[INFO] training model...\n",
            "Epoch 1/200\n",
            "965/965 [==============================] - 1s 1ms/step - loss: 176266560.0000 - val_loss: 5497848.0000\n",
            "Epoch 2/200\n",
            "965/965 [==============================] - 1s 1ms/step - loss: 17159.3164 - val_loss: 5173939.0000\n",
            "Epoch 3/200\n",
            "965/965 [==============================] - 1s 1ms/step - loss: 50389.4219 - val_loss: 4725608.5000\n",
            "Epoch 4/200\n",
            "965/965 [==============================] - 1s 1ms/step - loss: 47630.0469 - val_loss: 4829126.5000\n",
            "Epoch 5/200\n",
            "965/965 [==============================] - 1s 1ms/step - loss: 62.3465 - val_loss: 4829126.5000\n",
            "Epoch 6/200\n",
            "965/965 [==============================] - 1s 1ms/step - loss: 62.3465 - val_loss: 4829126.5000\n",
            "Epoch 7/200\n",
            "965/965 [==============================] - 1s 2ms/step - loss: 62.3465 - val_loss: 4829126.5000\n",
            "Epoch 8/200\n",
            "965/965 [==============================] - 1s 1ms/step - loss: 62.3465 - val_loss: 4829126.0000\n",
            "Epoch 9/200\n",
            "965/965 [==============================] - 1s 1ms/step - loss: 62.3465 - val_loss: 4829124.5000\n",
            "Epoch 10/200\n",
            "965/965 [==============================] - 1s 1ms/step - loss: 62.3465 - val_loss: 4829120.5000\n",
            "Epoch 11/200\n",
            "965/965 [==============================] - 1s 1ms/step - loss: 62.3465 - val_loss: 4829114.0000\n",
            "Epoch 12/200\n",
            "965/965 [==============================] - 1s 1ms/step - loss: 62.3465 - val_loss: 4829097.5000\n",
            "Epoch 13/200\n",
            "965/965 [==============================] - 1s 1ms/step - loss: 62.3465 - val_loss: 4829073.0000\n",
            "Epoch 14/200\n",
            "965/965 [==============================] - 1s 1ms/step - loss: 62.3465 - val_loss: 4829026.5000\n",
            "Epoch 15/200\n",
            "965/965 [==============================] - 1s 1ms/step - loss: 62.3465 - val_loss: 4828948.0000\n",
            "Epoch 16/200\n",
            "965/965 [==============================] - 1s 1ms/step - loss: 62.3465 - val_loss: 4828806.0000\n",
            "Epoch 17/200\n",
            "965/965 [==============================] - 1s 1ms/step - loss: 62.3465 - val_loss: 4828628.0000\n",
            "Epoch 18/200\n",
            "965/965 [==============================] - 1s 1ms/step - loss: 62.3465 - val_loss: 4828301.5000\n",
            "Epoch 19/200\n",
            "965/965 [==============================] - 1s 1ms/step - loss: 62.3465 - val_loss: 4827742.5000\n",
            "Epoch 20/200\n",
            "965/965 [==============================] - 1s 1ms/step - loss: 62.3465 - val_loss: 4827214.5000\n",
            "Epoch 21/200\n",
            "965/965 [==============================] - 1s 1ms/step - loss: 62.3465 - val_loss: 4825792.5000\n",
            "Epoch 22/200\n",
            "965/965 [==============================] - 1s 1ms/step - loss: 62.3465 - val_loss: 4823387.0000\n",
            "Epoch 23/200\n",
            "965/965 [==============================] - 1s 1ms/step - loss: 62.3464 - val_loss: 4819784.0000\n",
            "Epoch 24/200\n",
            "965/965 [==============================] - 1s 1ms/step - loss: 62.3464 - val_loss: 4813178.5000\n",
            "Epoch 25/200\n",
            "965/965 [==============================] - 1s 1ms/step - loss: 62.3463 - val_loss: 4808262.5000\n",
            "Epoch 26/200\n",
            "965/965 [==============================] - 1s 1ms/step - loss: 62.3465 - val_loss: 4791993.5000\n",
            "Epoch 27/200\n",
            "965/965 [==============================] - 1s 1ms/step - loss: 62.3467 - val_loss: 4778628.5000\n",
            "Epoch 28/200\n",
            "965/965 [==============================] - 1s 1ms/step - loss: 62.3470 - val_loss: 4744110.5000\n",
            "Epoch 29/200\n",
            "965/965 [==============================] - 1s 1ms/step - loss: 62.3453 - val_loss: 4710646.0000\n",
            "Epoch 30/200\n",
            "965/965 [==============================] - 1s 1ms/step - loss: 62.3423 - val_loss: 4590601.0000\n",
            "Epoch 31/200\n",
            "965/965 [==============================] - 1s 1ms/step - loss: 62.3366 - val_loss: 4394077.5000\n",
            "Epoch 32/200\n",
            "965/965 [==============================] - 1s 1ms/step - loss: 62.3250 - val_loss: 4074664.7500\n",
            "Epoch 33/200\n",
            "965/965 [==============================] - 1s 1ms/step - loss: 62.3067 - val_loss: 4132540.2500\n",
            "Epoch 34/200\n",
            "965/965 [==============================] - 1s 1ms/step - loss: 62.3013 - val_loss: 4175994.7500\n",
            "Epoch 35/200\n",
            "965/965 [==============================] - 1s 1ms/step - loss: 62.2966 - val_loss: 4270093.0000\n",
            "Epoch 36/200\n",
            "965/965 [==============================] - 1s 1ms/step - loss: 62.2974 - val_loss: 4270093.0000\n",
            "Epoch 37/200\n",
            "965/965 [==============================] - 1s 1ms/step - loss: 62.2974 - val_loss: 4270093.0000\n",
            "Epoch 38/200\n",
            "965/965 [==============================] - 1s 1ms/step - loss: 62.2974 - val_loss: 4270093.0000\n",
            "Epoch 39/200\n",
            "965/965 [==============================] - 1s 1ms/step - loss: 62.2974 - val_loss: 4270093.0000\n",
            "Epoch 40/200\n",
            "965/965 [==============================] - 1s 1ms/step - loss: 62.2974 - val_loss: 4270093.0000\n",
            "Epoch 41/200\n",
            "965/965 [==============================] - 1s 1ms/step - loss: 62.2974 - val_loss: 4270093.0000\n",
            "Epoch 42/200\n",
            "965/965 [==============================] - 1s 1ms/step - loss: 62.2974 - val_loss: 4270093.0000\n",
            "Epoch 43/200\n",
            "965/965 [==============================] - 1s 1ms/step - loss: 62.2974 - val_loss: 4270093.0000\n",
            "Epoch 44/200\n",
            "965/965 [==============================] - 1s 1ms/step - loss: 62.2974 - val_loss: 4270093.0000\n",
            "Epoch 45/200\n",
            "965/965 [==============================] - 1s 1ms/step - loss: 62.2974 - val_loss: 4270093.0000\n",
            "Epoch 46/200\n",
            "965/965 [==============================] - 1s 1ms/step - loss: 62.2974 - val_loss: 4270093.0000\n",
            "Epoch 47/200\n",
            "965/965 [==============================] - 1s 1ms/step - loss: 62.2974 - val_loss: 4270093.0000\n",
            "Epoch 48/200\n",
            "965/965 [==============================] - 1s 1ms/step - loss: 62.2974 - val_loss: 4270093.0000\n",
            "Epoch 49/200\n",
            "965/965 [==============================] - 1s 1ms/step - loss: 62.2974 - val_loss: 4270093.0000\n",
            "Epoch 50/200\n",
            "965/965 [==============================] - 1s 1ms/step - loss: 62.2974 - val_loss: 4270093.0000\n",
            "Epoch 51/200\n",
            "965/965 [==============================] - 1s 1ms/step - loss: 62.2974 - val_loss: 4270093.0000\n",
            "Epoch 52/200\n",
            "965/965 [==============================] - 1s 1ms/step - loss: 62.2974 - val_loss: 4270093.0000\n",
            "Epoch 53/200\n",
            "965/965 [==============================] - 1s 1ms/step - loss: 62.2974 - val_loss: 4270093.0000\n",
            "Epoch 54/200\n",
            "965/965 [==============================] - 1s 1ms/step - loss: 62.2974 - val_loss: 4270093.0000\n",
            "Epoch 55/200\n",
            "965/965 [==============================] - 1s 1ms/step - loss: 62.2974 - val_loss: 4270093.0000\n",
            "Epoch 56/200\n",
            "965/965 [==============================] - 1s 1ms/step - loss: 62.2974 - val_loss: 4270093.0000\n",
            "Epoch 57/200\n",
            "965/965 [==============================] - 1s 1ms/step - loss: 62.2974 - val_loss: 4270093.0000\n",
            "Epoch 58/200\n",
            "965/965 [==============================] - 1s 1ms/step - loss: 62.2974 - val_loss: 4270093.0000\n",
            "Epoch 59/200\n",
            "965/965 [==============================] - 1s 1ms/step - loss: 62.2974 - val_loss: 4270093.0000\n",
            "Epoch 60/200\n",
            "965/965 [==============================] - 1s 1ms/step - loss: 62.2974 - val_loss: 4270093.0000\n",
            "Epoch 61/200\n",
            "965/965 [==============================] - 1s 1ms/step - loss: 62.2974 - val_loss: 4270093.0000\n",
            "Epoch 62/200\n",
            "965/965 [==============================] - 1s 1ms/step - loss: 62.2974 - val_loss: 4270093.0000\n",
            "Epoch 63/200\n",
            "965/965 [==============================] - 1s 1ms/step - loss: 62.2974 - val_loss: 4270093.0000\n",
            "Epoch 64/200\n",
            "965/965 [==============================] - 1s 1ms/step - loss: 62.2974 - val_loss: 4270093.0000\n",
            "Epoch 65/200\n",
            "965/965 [==============================] - 1s 1ms/step - loss: 62.2974 - val_loss: 4270093.0000\n",
            "Epoch 66/200\n",
            "965/965 [==============================] - 1s 1ms/step - loss: 62.2974 - val_loss: 4270093.0000\n",
            "Epoch 67/200\n",
            "965/965 [==============================] - 1s 1ms/step - loss: 62.2974 - val_loss: 4270093.0000\n",
            "Epoch 68/200\n",
            "965/965 [==============================] - 1s 1ms/step - loss: 62.2974 - val_loss: 4270093.0000\n",
            "Epoch 69/200\n",
            "965/965 [==============================] - 1s 1ms/step - loss: 62.2974 - val_loss: 4270093.0000\n",
            "Epoch 70/200\n",
            "965/965 [==============================] - 1s 1ms/step - loss: 62.2974 - val_loss: 4270093.0000\n",
            "Epoch 71/200\n",
            "965/965 [==============================] - 1s 1ms/step - loss: 62.2974 - val_loss: 4270093.0000\n",
            "Epoch 72/200\n",
            "965/965 [==============================] - 1s 1ms/step - loss: 62.2974 - val_loss: 4270093.0000\n",
            "Epoch 73/200\n",
            "965/965 [==============================] - 1s 1ms/step - loss: 62.2974 - val_loss: 4270093.0000\n",
            "Epoch 74/200\n",
            "965/965 [==============================] - 1s 1ms/step - loss: 62.2974 - val_loss: 4270093.0000\n",
            "Epoch 75/200\n",
            "965/965 [==============================] - 1s 1ms/step - loss: 62.2974 - val_loss: 4270093.0000\n",
            "Epoch 76/200\n",
            "965/965 [==============================] - 1s 1ms/step - loss: 62.2974 - val_loss: 4270093.0000\n",
            "Epoch 77/200\n",
            "965/965 [==============================] - 1s 1ms/step - loss: 62.2974 - val_loss: 4270093.0000\n",
            "Epoch 78/200\n",
            "965/965 [==============================] - 1s 1ms/step - loss: 62.2974 - val_loss: 4270093.0000\n",
            "Epoch 79/200\n",
            "965/965 [==============================] - 1s 1ms/step - loss: 62.2974 - val_loss: 4270093.0000\n",
            "Epoch 80/200\n",
            "965/965 [==============================] - 1s 1ms/step - loss: 62.2974 - val_loss: 4270093.0000\n",
            "Epoch 81/200\n",
            "965/965 [==============================] - 1s 1ms/step - loss: 62.2974 - val_loss: 4270093.0000\n",
            "Epoch 82/200\n",
            "965/965 [==============================] - 1s 1ms/step - loss: 62.2974 - val_loss: 4270093.0000\n",
            "Epoch 83/200\n",
            "965/965 [==============================] - 1s 1ms/step - loss: 62.2974 - val_loss: 4270093.0000\n",
            "Epoch 84/200\n",
            "965/965 [==============================] - 1s 1ms/step - loss: 62.2974 - val_loss: 4270093.0000\n",
            "Epoch 85/200\n",
            "965/965 [==============================] - 1s 1ms/step - loss: 62.2974 - val_loss: 4270093.0000\n",
            "Epoch 86/200\n",
            "965/965 [==============================] - 1s 1ms/step - loss: 62.2974 - val_loss: 4270093.0000\n",
            "Epoch 87/200\n",
            "965/965 [==============================] - 1s 1ms/step - loss: 62.2974 - val_loss: 4270093.0000\n",
            "Epoch 88/200\n",
            "965/965 [==============================] - 1s 1ms/step - loss: 62.2974 - val_loss: 4270093.0000\n",
            "Epoch 89/200\n",
            "965/965 [==============================] - 1s 1ms/step - loss: 62.2974 - val_loss: 4270093.0000\n",
            "Epoch 90/200\n",
            "965/965 [==============================] - 1s 1ms/step - loss: 62.2974 - val_loss: 4270093.0000\n",
            "Epoch 91/200\n",
            "965/965 [==============================] - 1s 1ms/step - loss: 62.2974 - val_loss: 4270093.0000\n",
            "Epoch 92/200\n",
            "965/965 [==============================] - 1s 1ms/step - loss: 62.2974 - val_loss: 4270093.0000\n",
            "Epoch 93/200\n",
            "965/965 [==============================] - 1s 1ms/step - loss: 62.2974 - val_loss: 4270093.0000\n",
            "Epoch 94/200\n",
            "965/965 [==============================] - 1s 1ms/step - loss: 62.2974 - val_loss: 4270093.0000\n",
            "Epoch 95/200\n",
            "965/965 [==============================] - 1s 1ms/step - loss: 62.2974 - val_loss: 4270093.0000\n",
            "Epoch 96/200\n",
            "965/965 [==============================] - 1s 1ms/step - loss: 62.2974 - val_loss: 4270093.0000\n",
            "Epoch 97/200\n",
            "965/965 [==============================] - 1s 1ms/step - loss: 62.2974 - val_loss: 4270093.0000\n",
            "Epoch 98/200\n",
            "965/965 [==============================] - 1s 1ms/step - loss: 62.2974 - val_loss: 4270093.0000\n",
            "Epoch 99/200\n",
            "965/965 [==============================] - 1s 1ms/step - loss: 62.2974 - val_loss: 4270093.0000\n",
            "Epoch 100/200\n",
            "965/965 [==============================] - 2s 2ms/step - loss: 62.2974 - val_loss: 4270093.0000\n",
            "Epoch 101/200\n",
            "965/965 [==============================] - 2s 2ms/step - loss: 62.2974 - val_loss: 4270093.0000\n",
            "Epoch 102/200\n",
            "965/965 [==============================] - 2s 2ms/step - loss: 62.2974 - val_loss: 4270093.0000\n",
            "Epoch 103/200\n",
            "965/965 [==============================] - 1s 2ms/step - loss: 62.2974 - val_loss: 4270093.0000\n",
            "Epoch 104/200\n",
            "965/965 [==============================] - 1s 1ms/step - loss: 62.2974 - val_loss: 4270093.0000\n",
            "Epoch 105/200\n",
            "965/965 [==============================] - 1s 1ms/step - loss: 62.2974 - val_loss: 4270093.0000\n",
            "Epoch 106/200\n",
            "965/965 [==============================] - 1s 1ms/step - loss: 62.2974 - val_loss: 4270093.0000\n",
            "Epoch 107/200\n",
            "965/965 [==============================] - 1s 1ms/step - loss: 62.2974 - val_loss: 4270093.0000\n",
            "Epoch 108/200\n",
            "965/965 [==============================] - 1s 1ms/step - loss: 62.2974 - val_loss: 4270093.0000\n",
            "Epoch 109/200\n",
            "965/965 [==============================] - 1s 1ms/step - loss: 62.2974 - val_loss: 4270093.0000\n",
            "Epoch 110/200\n",
            "965/965 [==============================] - 1s 1ms/step - loss: 62.2974 - val_loss: 4270093.0000\n",
            "Epoch 111/200\n",
            "965/965 [==============================] - 1s 1ms/step - loss: 62.2974 - val_loss: 4270093.0000\n",
            "Epoch 112/200\n",
            "965/965 [==============================] - 1s 1ms/step - loss: 62.2974 - val_loss: 4270093.0000\n",
            "Epoch 113/200\n",
            "965/965 [==============================] - 1s 1ms/step - loss: 62.2974 - val_loss: 4270093.0000\n",
            "Epoch 114/200\n",
            "965/965 [==============================] - 1s 1ms/step - loss: 62.2974 - val_loss: 4270093.0000\n",
            "Epoch 115/200\n",
            "965/965 [==============================] - 1s 1ms/step - loss: 62.2974 - val_loss: 4270093.0000\n",
            "Epoch 116/200\n",
            "965/965 [==============================] - 1s 1ms/step - loss: 62.2974 - val_loss: 4270093.0000\n",
            "Epoch 117/200\n",
            "965/965 [==============================] - 1s 1ms/step - loss: 62.2974 - val_loss: 4270093.0000\n",
            "Epoch 118/200\n",
            "965/965 [==============================] - 1s 1ms/step - loss: 62.2974 - val_loss: 4270093.0000\n",
            "Epoch 119/200\n",
            "965/965 [==============================] - 1s 1ms/step - loss: 62.2974 - val_loss: 4270093.0000\n",
            "Epoch 120/200\n",
            "965/965 [==============================] - 1s 1ms/step - loss: 62.2974 - val_loss: 4270093.0000\n",
            "Epoch 121/200\n",
            "965/965 [==============================] - 1s 1ms/step - loss: 62.2974 - val_loss: 4270093.0000\n",
            "Epoch 122/200\n",
            "965/965 [==============================] - 1s 1ms/step - loss: 62.2974 - val_loss: 4270093.0000\n",
            "Epoch 123/200\n",
            "965/965 [==============================] - 1s 1ms/step - loss: 62.2974 - val_loss: 4270093.0000\n",
            "Epoch 124/200\n",
            "965/965 [==============================] - 1s 1ms/step - loss: 62.2974 - val_loss: 4270093.0000\n",
            "Epoch 125/200\n",
            "965/965 [==============================] - 1s 1ms/step - loss: 62.2974 - val_loss: 4270093.0000\n",
            "Epoch 126/200\n",
            "965/965 [==============================] - 2s 2ms/step - loss: 62.2974 - val_loss: 4270093.0000\n",
            "Epoch 127/200\n",
            "965/965 [==============================] - 1s 2ms/step - loss: 62.2974 - val_loss: 4270093.0000\n",
            "Epoch 128/200\n",
            "965/965 [==============================] - 1s 1ms/step - loss: 62.2974 - val_loss: 4270093.0000\n",
            "Epoch 129/200\n",
            "965/965 [==============================] - 1s 2ms/step - loss: 62.2974 - val_loss: 4270093.0000\n",
            "Epoch 130/200\n",
            "965/965 [==============================] - 1s 1ms/step - loss: 62.2974 - val_loss: 4270093.0000\n",
            "Epoch 131/200\n",
            "965/965 [==============================] - 1s 1ms/step - loss: 62.2974 - val_loss: 4270093.0000\n",
            "Epoch 132/200\n",
            "965/965 [==============================] - 1s 1ms/step - loss: 62.2974 - val_loss: 4270093.0000\n",
            "Epoch 133/200\n",
            "965/965 [==============================] - 1s 1ms/step - loss: 62.2974 - val_loss: 4270093.0000\n",
            "Epoch 134/200\n",
            "965/965 [==============================] - 1s 1ms/step - loss: 62.2974 - val_loss: 4270093.0000\n",
            "Epoch 135/200\n",
            "965/965 [==============================] - 1s 1ms/step - loss: 62.2974 - val_loss: 4270093.0000\n",
            "Epoch 136/200\n",
            "965/965 [==============================] - 1s 1ms/step - loss: 62.2974 - val_loss: 4270093.0000\n",
            "Epoch 137/200\n",
            "965/965 [==============================] - 1s 1ms/step - loss: 62.2974 - val_loss: 4270093.0000\n",
            "Epoch 138/200\n",
            "965/965 [==============================] - 1s 1ms/step - loss: 62.2974 - val_loss: 4270093.0000\n",
            "Epoch 139/200\n",
            "965/965 [==============================] - 1s 1ms/step - loss: 62.2974 - val_loss: 4270093.0000\n",
            "Epoch 140/200\n",
            "965/965 [==============================] - 1s 1ms/step - loss: 62.2974 - val_loss: 4270093.0000\n",
            "Epoch 141/200\n",
            "965/965 [==============================] - 1s 1ms/step - loss: 62.2974 - val_loss: 4270093.0000\n",
            "Epoch 142/200\n",
            "965/965 [==============================] - 1s 1ms/step - loss: 62.2974 - val_loss: 4270093.0000\n",
            "Epoch 143/200\n",
            "965/965 [==============================] - 1s 1ms/step - loss: 62.2974 - val_loss: 4270093.0000\n",
            "Epoch 144/200\n",
            "965/965 [==============================] - 1s 1ms/step - loss: 62.2974 - val_loss: 4270093.0000\n",
            "Epoch 145/200\n",
            "965/965 [==============================] - 1s 1ms/step - loss: 62.2974 - val_loss: 4270093.0000\n",
            "Epoch 146/200\n",
            "965/965 [==============================] - 1s 1ms/step - loss: 62.2974 - val_loss: 4270093.0000\n",
            "Epoch 147/200\n",
            "965/965 [==============================] - 1s 1ms/step - loss: 62.2974 - val_loss: 4270093.0000\n",
            "Epoch 148/200\n",
            "965/965 [==============================] - 1s 1ms/step - loss: 62.2974 - val_loss: 4270093.0000\n",
            "Epoch 149/200\n",
            "965/965 [==============================] - 1s 1ms/step - loss: 62.2974 - val_loss: 4270093.0000\n",
            "Epoch 150/200\n",
            "965/965 [==============================] - 1s 2ms/step - loss: 62.2974 - val_loss: 4270093.0000\n",
            "Epoch 151/200\n",
            "965/965 [==============================] - 1s 2ms/step - loss: 62.2974 - val_loss: 4270093.0000\n",
            "Epoch 152/200\n",
            "965/965 [==============================] - 1s 1ms/step - loss: 62.2974 - val_loss: 4270093.0000\n",
            "Epoch 153/200\n",
            "965/965 [==============================] - 1s 1ms/step - loss: 62.2974 - val_loss: 4270093.0000\n",
            "Epoch 154/200\n",
            "965/965 [==============================] - 1s 1ms/step - loss: 62.2974 - val_loss: 4270093.0000\n",
            "Epoch 155/200\n",
            "965/965 [==============================] - 1s 1ms/step - loss: 62.2974 - val_loss: 4270093.0000\n",
            "Epoch 156/200\n",
            "965/965 [==============================] - 1s 1ms/step - loss: 62.2974 - val_loss: 4270093.0000\n",
            "Epoch 157/200\n",
            "965/965 [==============================] - 1s 1ms/step - loss: 62.2974 - val_loss: 4270093.0000\n",
            "Epoch 158/200\n",
            "965/965 [==============================] - 1s 1ms/step - loss: 62.2974 - val_loss: 4270093.0000\n",
            "Epoch 159/200\n",
            "965/965 [==============================] - 1s 1ms/step - loss: 62.2974 - val_loss: 4270093.0000\n",
            "Epoch 160/200\n",
            "965/965 [==============================] - 1s 1ms/step - loss: 62.2974 - val_loss: 4270093.0000\n",
            "Epoch 161/200\n",
            "965/965 [==============================] - 1s 1ms/step - loss: 62.2974 - val_loss: 4270093.0000\n",
            "Epoch 162/200\n",
            "965/965 [==============================] - 1s 1ms/step - loss: 62.2974 - val_loss: 4270093.0000\n",
            "Epoch 163/200\n",
            "965/965 [==============================] - 1s 1ms/step - loss: 62.2974 - val_loss: 4270093.0000\n",
            "Epoch 164/200\n",
            "965/965 [==============================] - 1s 1ms/step - loss: 62.2974 - val_loss: 4270093.0000\n",
            "Epoch 165/200\n",
            "965/965 [==============================] - 1s 1ms/step - loss: 62.2974 - val_loss: 4270093.0000\n",
            "Epoch 166/200\n",
            "965/965 [==============================] - 1s 1ms/step - loss: 62.2974 - val_loss: 4270093.0000\n",
            "Epoch 167/200\n",
            "965/965 [==============================] - 1s 1ms/step - loss: 62.2974 - val_loss: 4270093.0000\n",
            "Epoch 168/200\n",
            "965/965 [==============================] - 1s 1ms/step - loss: 62.2974 - val_loss: 4270093.0000\n",
            "Epoch 169/200\n",
            "965/965 [==============================] - 1s 1ms/step - loss: 62.2974 - val_loss: 4270093.0000\n",
            "Epoch 170/200\n",
            "965/965 [==============================] - 1s 1ms/step - loss: 62.2974 - val_loss: 4270093.0000\n",
            "Epoch 171/200\n",
            "965/965 [==============================] - 1s 1ms/step - loss: 62.2974 - val_loss: 4270093.0000\n",
            "Epoch 172/200\n",
            "965/965 [==============================] - 1s 1ms/step - loss: 62.2974 - val_loss: 4270093.0000\n",
            "Epoch 173/200\n",
            "965/965 [==============================] - 1s 1ms/step - loss: 62.2974 - val_loss: 4270093.0000\n",
            "Epoch 174/200\n",
            "965/965 [==============================] - 1s 1ms/step - loss: 62.2974 - val_loss: 4270093.0000\n",
            "Epoch 175/200\n",
            "965/965 [==============================] - 1s 1ms/step - loss: 62.2974 - val_loss: 4270093.0000\n",
            "Epoch 176/200\n",
            "965/965 [==============================] - 1s 1ms/step - loss: 62.2974 - val_loss: 4270093.0000\n",
            "Epoch 177/200\n",
            "965/965 [==============================] - 1s 1ms/step - loss: 62.2974 - val_loss: 4270093.0000\n",
            "Epoch 178/200\n",
            "965/965 [==============================] - 1s 1ms/step - loss: 62.2974 - val_loss: 4270093.0000\n",
            "Epoch 179/200\n",
            "965/965 [==============================] - 1s 1ms/step - loss: 62.2974 - val_loss: 4270093.0000\n",
            "Epoch 180/200\n",
            "965/965 [==============================] - 1s 1ms/step - loss: 62.2974 - val_loss: 4270093.0000\n",
            "Epoch 181/200\n",
            "965/965 [==============================] - 1s 1ms/step - loss: 62.2974 - val_loss: 4270093.0000\n",
            "Epoch 182/200\n",
            "965/965 [==============================] - 1s 1ms/step - loss: 62.2974 - val_loss: 4270093.0000\n",
            "Epoch 183/200\n",
            "965/965 [==============================] - 1s 1ms/step - loss: 62.2974 - val_loss: 4270093.0000\n",
            "Epoch 184/200\n",
            "965/965 [==============================] - 1s 1ms/step - loss: 62.2974 - val_loss: 4270093.0000\n",
            "Epoch 185/200\n",
            "965/965 [==============================] - 1s 1ms/step - loss: 62.2974 - val_loss: 4270093.0000\n",
            "Epoch 186/200\n",
            "965/965 [==============================] - 1s 1ms/step - loss: 62.2974 - val_loss: 4270093.0000\n",
            "Epoch 187/200\n",
            "965/965 [==============================] - 1s 1ms/step - loss: 62.2974 - val_loss: 4270093.0000\n",
            "Epoch 188/200\n",
            "965/965 [==============================] - 1s 1ms/step - loss: 62.2974 - val_loss: 4270093.0000\n",
            "Epoch 189/200\n",
            "965/965 [==============================] - 1s 1ms/step - loss: 62.2974 - val_loss: 4270093.0000\n",
            "Epoch 190/200\n",
            "965/965 [==============================] - 1s 1ms/step - loss: 62.2974 - val_loss: 4270093.0000\n",
            "Epoch 191/200\n",
            "965/965 [==============================] - 1s 1ms/step - loss: 62.2974 - val_loss: 4270093.0000\n",
            "Epoch 192/200\n",
            "965/965 [==============================] - 1s 1ms/step - loss: 62.2974 - val_loss: 4270093.0000\n",
            "Epoch 193/200\n",
            "965/965 [==============================] - 1s 1ms/step - loss: 62.2974 - val_loss: 4270093.0000\n",
            "Epoch 194/200\n",
            "965/965 [==============================] - 1s 1ms/step - loss: 62.2974 - val_loss: 4270093.0000\n",
            "Epoch 195/200\n",
            "965/965 [==============================] - 1s 1ms/step - loss: 62.2974 - val_loss: 4270093.0000\n",
            "Epoch 196/200\n",
            "965/965 [==============================] - 1s 1ms/step - loss: 62.2974 - val_loss: 4270093.0000\n",
            "Epoch 197/200\n",
            "965/965 [==============================] - 1s 1ms/step - loss: 62.2974 - val_loss: 4270093.0000\n",
            "Epoch 198/200\n",
            "965/965 [==============================] - 1s 1ms/step - loss: 62.2974 - val_loss: 4270093.0000\n",
            "Epoch 199/200\n",
            "965/965 [==============================] - 1s 1ms/step - loss: 62.2974 - val_loss: 4270093.0000\n",
            "Epoch 200/200\n",
            "965/965 [==============================] - 1s 1ms/step - loss: 62.2974 - val_loss: 4270093.0000\n"
          ],
          "name": "stdout"
        },
        {
          "output_type": "execute_result",
          "data": {
            "text/plain": [
              "<tensorflow.python.keras.callbacks.History at 0x7f79acf13898>"
            ]
          },
          "metadata": {
            "tags": []
          },
          "execution_count": 238
        }
      ]
    },
    {
      "cell_type": "code",
      "metadata": {
        "id": "bqoHhrBr6-fP",
        "colab_type": "code",
        "colab": {}
      },
      "source": [
        "# make predictions on the testing data\n",
        "print(\"[INFO] predicting house prices...\")\n",
        "preds = model.predict(X_test)\n",
        "# compute the difference between the *predicted* house prices and the\n",
        "# *actual* house prices, then compute the percentage difference and\n",
        "# the absolute percentage difference\n",
        "diff = preds.flatten() - y_test\n",
        "percentDiff = (diff / y_test) * 100\n",
        "absPercentDiff = np.abs(percentDiff)\n",
        "# compute the mean and standard deviation of the absolute percentage\n",
        "# difference\n",
        "mean = np.mean(absPercentDiff)\n",
        "std = np.std(absPercentDiff)\n",
        "\n",
        "# finally, show some statistics on our model\n",
        "#locale.setlocale(locale.LC_ALL, \"en_US.UTF-8\")\n",
        "#print(\"[INFO] avg. house price: {}, std house price: {}\".format(\n",
        "#\tlocale.currency(df[\"Price\"].mean(), grouping=True),\n",
        "#\tlocale.currency(df[\"Price\"].std(), grouping=True)))\n",
        "print(\"[INFO] mean: {:.2f}%, std: {:.2f}%\".format(mean, std))"
      ],
      "execution_count": null,
      "outputs": []
    },
    {
      "cell_type": "markdown",
      "metadata": {
        "id": "o7hBVm8U-1vZ",
        "colab_type": "text"
      },
      "source": [
        "# Regresion con imágenes"
      ]
    },
    {
      "cell_type": "code",
      "metadata": {
        "id": "IBhG6vdyZNTP",
        "colab_type": "code",
        "colab": {}
      },
      "source": [
        "# Build the VGG16 network with ImageNet weights\n",
        "from keras.models import Model\n",
        "from keras.applications.vgg16 import VGG16\n",
        "from keras.preprocessing import image\n",
        "from keras.applications.vgg16 import preprocess_input\n",
        "import numpy as np\n",
        "\n",
        "model_base = VGG16(weights='imagenet', include_top=False)\n",
        "\n",
        "x = model_base.output\n",
        "gap = GlobalAveragePooling2D()(x)\n",
        "model = Model(inputs=model_base.input, outputs=gap)\n",
        "\n",
        "model.summary()"
      ],
      "execution_count": null,
      "outputs": []
    },
    {
      "cell_type": "code",
      "metadata": {
        "id": "wa6B7D-YZNTQ",
        "colab_type": "code",
        "colab": {}
      },
      "source": [
        "loaded_images.shape"
      ],
      "execution_count": null,
      "outputs": []
    },
    {
      "cell_type": "code",
      "metadata": {
        "id": "pjlPmJtDXOU8",
        "colab_type": "code",
        "colab": {}
      },
      "source": [
        "len(images_paths)"
      ],
      "execution_count": null,
      "outputs": []
    },
    {
      "cell_type": "code",
      "metadata": {
        "id": "SgIWuC-DZNTS",
        "colab_type": "code",
        "colab": {}
      },
      "source": [
        "from tqdm import tqdm  # para  mostrar el progreso\n",
        "# vamos a procesarlas y a extraer el vector de 512 características\n",
        "images_feat = np.zeros((len(images_paths), 512))\n",
        "\n",
        "for i in tqdm(range(loaded_images.shape[0])):\n",
        "    img = loaded_images[i]\n",
        "    x = image.img_to_array(img)\n",
        "    x = np.expand_dims(x, axis=0)\n",
        "    x = preprocess_input(x)\n",
        "\n",
        "    features = model.predict(x)\n",
        "    images_feat[i] = features[0]"
      ],
      "execution_count": null,
      "outputs": []
    },
    {
      "cell_type": "code",
      "metadata": {
        "id": "mzgLJfyXZWGU",
        "colab_type": "code",
        "colab": {}
      },
      "source": [
        ""
      ],
      "execution_count": null,
      "outputs": []
    },
    {
      "cell_type": "code",
      "metadata": {
        "id": "S6nFvn6xXxzv",
        "colab_type": "code",
        "colab": {}
      },
      "source": [
        "#Buenas Felix,\n",
        "\n",
        "#Se que la práctica esta incompleta pero es que me hice bastante lio con el tema de las caracteristicas y unir el dataset normal con el de imagenes por eso no pude seguir.\n",
        "#Me da pena porque simplemente me quedaba implemetar modelos e intentar hacer alguna regularizacion para mejorarlo, pero me hice un lio. No se si sera suficiente para un apto, pero lo he intentado.\n",
        "#Muchas gracias por tu atencion."
      ],
      "execution_count": null,
      "outputs": []
    },
    {
      "cell_type": "code",
      "metadata": {
        "id": "LJTN3R7pXyBH",
        "colab_type": "code",
        "colab": {}
      },
      "source": [
        ""
      ],
      "execution_count": null,
      "outputs": []
    },
    {
      "cell_type": "code",
      "metadata": {
        "id": "decuWFAeXyQW",
        "colab_type": "code",
        "colab": {}
      },
      "source": [
        ""
      ],
      "execution_count": null,
      "outputs": []
    },
    {
      "cell_type": "code",
      "metadata": {
        "id": "0mySKwNdXx9n",
        "colab_type": "code",
        "colab": {}
      },
      "source": [
        ""
      ],
      "execution_count": null,
      "outputs": []
    }
  ]
}